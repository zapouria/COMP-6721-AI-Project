{
 "cells": [
  {
   "cell_type": "code",
   "execution_count": 25,
   "metadata": {
    "id": "rIFcfiPrO4Eu"
   },
   "outputs": [],
   "source": [
    "import os\n",
    "import matplotlib.pyplot as plt\n",
    "import numpy as np\n",
    "import sklearn\n",
    "from sklearn.metrics import confusion_matrix, classification_report\n",
    "import seaborn as sb\n",
    "from preprocessing import*\n",
    "from model.convolutional_neural_network import *\n",
    "from model.Executor import *\n",
    "import warnings  \n",
    "warnings.filterwarnings(\"ignore\")\n",
    "\n",
    "import torch.nn.functional as functional\n"
   ]
  },
  {
   "cell_type": "markdown",
   "metadata": {},
   "source": [
    "# Training Data"
   ]
  },
  {
   "cell_type": "markdown",
   "metadata": {},
   "source": [
    "The statistics on the size of our dataset."
   ]
  },
  {
   "cell_type": "code",
   "execution_count": 26,
   "metadata": {
    "id": "a7q5Eo1opSUe"
   },
   "outputs": [
    {
     "data": {
      "image/png": "[encoded data removed]",
      "text/plain": [
       "<Figure size 648x216 with 1 Axes>"
      ]
     },
     "metadata": {},
     "output_type": "display_data"
    }
   ],
   "source": [
    "names = ['Not Person', 'With Mask', 'Without Mask']\n",
    "N = []\n",
    "N.append(len(os.listdir(\"./dataset/NotPerson\")))\n",
    "N.append(len(os.listdir(\"./dataset/WithMask\")))\n",
    "N.append(len(os.listdir(\"./dataset/WithoutMask\")))\n",
    "plt.figure(figsize=(9, 3))\n",
    "plt.bar(names, N)\n",
    "plt.show()"
   ]
  },
  {
   "cell_type": "markdown",
   "metadata": {},
   "source": [
    "Create datasets for training and testing the model."
   ]
  },
  {
   "cell_type": "code",
   "execution_count": 28,
   "metadata": {},
   "outputs": [],
   "source": [
    "dataset = load_data(\"./dataset\")\n",
    "tr_ds, te_ds = split_data(dataset)\n",
    "tr_loader = train_dataloarder(tr_ds)\n",
    "te_loader = test_dataloarder(te_ds)"
   ]
  },
  {
   "cell_type": "markdown",
   "metadata": {
    "id": "_XeDSNTVCHrm"
   },
   "source": [
    "# Deep Learning"
   ]
  },
  {
   "cell_type": "markdown",
   "metadata": {},
   "source": [
    "Implementing and training the CNN model."
   ]
  },
  {
   "cell_type": "code",
   "execution_count": 29,
   "metadata": {
    "colab": {
     "base_uri": "https://localhost:8080/",
     "height": 1000,
     "referenced_widgets": [
      "369378431af54073ad74d3259648d67e",
      "ffdb03d27cb44ab1976b704aa5dcc9c3",
      "565c525fcbfd4114a896bc8d40983bf8",
      "ce0a824e8dde472bb869c569a5b58a81",
      "555fe91350b04d5e91b533c10e025e83",
      "fbf7c3562fb04db3adb1ab1a510755f2",
      "b6583579f4ea488694744bb9958a00b5",
      "09202ce93a8b416c8220859fef3e4f74"
     ]
    },
    "id": "ibbaSGkXuPTv",
    "outputId": "4ec03f49-69aa-4d88-8915-68ef05b8356d",
    "scrolled": true
   },
   "outputs": [
    {
     "name": "stdout",
     "output_type": "stream",
     "text": [
      "  0/20... rate=0 Hz, eta=?, total=0:00:00, wall=14:12 EST\n",
      "current iter acc: 84.5926\n",
      "current iter loss: 75.9757\n",
      "  1/20... rate=0.03 Hz, eta=0:09:54, total=0:00:31, wall=14:12 EST\n",
      "current iter acc: 84.0000\n",
      "current iter loss: 62.1709\n",
      "  2/20... rate=0.03 Hz, eta=0:09:10, total=0:01:01, wall=14:13 EST\n",
      "current iter acc: 92.1481\n",
      "current iter loss: 54.8989\n",
      "  3/20... rate=0.03 Hz, eta=0:08:57, total=0:01:34, wall=14:13 EST\n",
      "current iter acc: 92.8148\n",
      "current iter loss: 50.3295\n",
      "  4/20... rate=0.03 Hz, eta=0:08:26, total=0:02:06, wall=14:14 EST\n",
      "current iter acc: 94.5185\n",
      "current iter loss: 46.8747\n",
      "  5/20... rate=0.03 Hz, eta=0:07:48, total=0:02:36, wall=14:14 EST\n",
      "current iter acc: 88.3704\n",
      "current iter loss: 43.0389\n",
      "  6/20... rate=0.03 Hz, eta=0:07:11, total=0:03:04, wall=14:15 EST\n",
      "current iter acc: 92.9630\n",
      "current iter loss: 40.1166\n",
      "  7/20... rate=0.03 Hz, eta=0:06:35, total=0:03:32, wall=14:15 EST\n",
      "current iter acc: 96.9630\n",
      "current iter loss: 37.6420\n",
      "  8/20... rate=0.03 Hz, eta=0:06:03, total=0:04:02, wall=14:16 EST\n",
      "current iter acc: 97.0370\n",
      "current iter loss: 35.4889\n",
      "  9/20... rate=0.03 Hz, eta=0:05:32, total=0:04:32, wall=14:16 EST\n",
      "current iter acc: 96.2963\n",
      "current iter loss: 33.4459\n",
      " 10/20... rate=0.03 Hz, eta=0:05:03, total=0:05:03, wall=14:17 EST\n",
      "current iter acc: 97.7778\n",
      "current iter loss: 31.2079\n",
      " 11/20... rate=0.03 Hz, eta=0:04:34, total=0:05:35, wall=14:17 EST\n",
      "current iter acc: 96.5185\n",
      "current iter loss: 29.5626\n",
      " 12/20... rate=0.03 Hz, eta=0:04:04, total=0:06:07, wall=14:18 EST\n",
      "current iter acc: 98.8889\n",
      "current iter loss: 28.0787\n",
      " 13/20... rate=0.03 Hz, eta=0:03:33, total=0:06:37, wall=14:18 EST\n",
      "current iter acc: 98.8148\n",
      "current iter loss: 26.6153\n",
      " 14/20... rate=0.03 Hz, eta=0:03:02, total=0:07:06, wall=14:19 EST\n",
      "current iter acc: 94.2963\n",
      "current iter loss: 25.2002\n",
      " 15/20... rate=0.03 Hz, eta=0:02:32, total=0:07:37, wall=14:19 EST\n",
      "current iter acc: 99.1111\n",
      "current iter loss: 24.2468\n",
      " 16/20... rate=0.03 Hz, eta=0:02:01, total=0:08:07, wall=14:20 EST\n",
      "current iter acc: 99.0370\n",
      "current iter loss: 23.2058\n",
      " 17/20... rate=0.03 Hz, eta=0:01:31, total=0:08:38, wall=14:20 EST\n",
      "current iter acc: 96.4444\n",
      "current iter loss: 22.6838\n",
      " 18/20... rate=0.03 Hz, eta=0:01:01, total=0:09:11, wall=14:21 EST\n",
      "current iter acc: 97.7778\n",
      "current iter loss: 21.9834\n",
      " 19/20... rate=0.03 Hz, eta=0:00:30, total=0:09:44, wall=14:21 EST\n",
      "current iter acc: 98.4444\n",
      "current iter loss: 21.1182\n",
      " 20/20... rate=0.03 Hz, eta=0:00:00, total=0:10:17, wall=14:22 EST\n"
     ]
    }
   ],
   "source": [
    "num_epochs = 20\n",
    "exec_obj = Executor()\n",
    "all_loss,iter_loss,accuracy = exec_obj.training_model_executor(\n",
    "    tr_loader,\n",
    "    num_epochs\n",
    ")\n"
   ]
  },
  {
   "cell_type": "code",
   "execution_count": 30,
   "metadata": {
    "id": "ibPpEZvq2zPR"
   },
   "outputs": [
    {
     "name": "stdout",
     "output_type": "stream",
     "text": [
      "Model accuracy for test dataset : 96.66666666666667\n",
      "450\n"
     ]
    }
   ],
   "source": [
    "testdata_accuracy = exec_obj.calculate_model_accuracy(te_loader)\n",
    "print(\"Model accuracy for test dataset :\",testdata_accuracy)\n",
    "print(len(te_ds))"
   ]
  },
  {
   "cell_type": "markdown",
   "metadata": {
    "id": "XTbun3w6Cl6I"
   },
   "source": [
    "# Evaluation"
   ]
  },
  {
   "cell_type": "markdown",
   "metadata": {},
   "source": [
    "Confusion matrix."
   ]
  },
  {
   "cell_type": "code",
   "execution_count": 31,
   "metadata": {
    "colab": {
     "base_uri": "https://localhost:8080/"
    },
    "id": "QdQUEphVuZri",
    "outputId": "2e7c158b-9042-479c-beaf-5604f10b9f14"
   },
   "outputs": [
    {
     "data": {
      "image/png": "[encoded data removed]",
      "text/plain": [
       "<Figure size 432x288 with 2 Axes>"
      ]
     },
     "metadata": {},
     "output_type": "display_data"
    }
   ],
   "source": [
    "calc_model_weights, actual_results = next(iter(te_loader))\n",
    "model_net = exec_obj.network(calc_model_weights)\n",
    "pred_vals = torch.argmax(model_net, dim = 1)\n",
    "\n",
    "sb.set(font_scale=1.5) \n",
    "sb.heatmap(\n",
    "    confusion_matrix(actual_results.numpy(),pred_vals.numpy()),\n",
    "    annot=True,\n",
    "    annot_kws={\"size\": 16},\n",
    "    cmap=\"Blues\"\n",
    ")  \n",
    "plt.show()"
   ]
  },
  {
   "cell_type": "markdown",
   "metadata": {
    "id": "KgU3RnHVCsDI"
   },
   "source": [
    "Creating a table of results in order to show the accuracy, precision, recall and f1-score."
   ]
  },
  {
   "cell_type": "code",
   "execution_count": 32,
   "metadata": {
    "colab": {
     "base_uri": "https://localhost:8080/"
    },
    "id": "K7fn-Y5hucwf",
    "outputId": "1ee497f3-612f-4ce9-ac9b-e078f4c62f52",
    "scrolled": true
   },
   "outputs": [
    {
     "name": "stdout",
     "output_type": "stream",
     "text": [
      "              precision    recall  f1-score   support\n",
      "\n",
      "   with mask       0.96      0.96      0.96       141\n",
      "without mask       0.96      0.95      0.95       143\n",
      "not a person       0.98      0.99      0.98       166\n",
      "\n",
      "    accuracy                           0.97       450\n",
      "   macro avg       0.97      0.97      0.97       450\n",
      "weighted avg       0.97      0.97      0.97       450\n",
      "\n"
     ]
    }
   ],
   "source": [
    "report = classification_report(\n",
    "    actual_results.numpy(),\n",
    "    pred_vals.numpy(), \n",
    "    target_names=['with mask','without mask','not a person']\n",
    ")\n",
    "print(report)  "
   ]
  },
  {
   "cell_type": "markdown",
   "metadata": {},
   "source": [
    "# Saving the trained model."
   ]
  },
  {
   "cell_type": "code",
   "execution_count": 33,
   "metadata": {},
   "outputs": [],
   "source": [
    "save_path = os.path.join(os.path.abspath(\".\"), \"trained_model.pt\")\n",
    "# torch.save(exec_obj.network.state_dict(), save_path)\n",
    "\n",
    "exec_obj = Executor()\n",
    "\n",
    "model = convolutional_neural_network.convolutional_neural_network()\n",
    "\n",
    "model.load_state_dict(torch.load(save_path))\n",
    "\n",
    "exec_obj.network = model"
   ]
  },
  {
   "cell_type": "code",
   "execution_count": 34,
   "metadata": {},
   "outputs": [
    {
     "name": "stdout",
     "output_type": "stream",
     "text": [
      "Model accuracy for test dataset(Female): 89.66666666666666\n",
      "Model accuracy for test dataset(Male): 90.0\n",
      "Model accuracy for test dataset(All): 94.22222222222221\n"
     ]
    }
   ],
   "source": [
    "dataset_female = load_data(\"./biasTestData/Female\")\n",
    "dataset_male = load_data(\"./biasTestData/Male\")\n",
    "dataset_all = load_data(\"./biasTestData/All\")\n",
    "\n",
    "te_loader_female = test_dataloarder(dataset_female)\n",
    "te_loader_male = test_dataloarder(dataset_male)\n",
    "te_loader_all = test_dataloarder(dataset_all)\n",
    "\n",
    "print(\"Model accuracy for test dataset(Female):\", exec_obj.calculate_model_accuracy(te_loader_female))\n",
    "print(\"Model accuracy for test dataset(Male):\", exec_obj.calculate_model_accuracy(te_loader_male))\n",
    "print(\"Model accuracy for test dataset(All):\", exec_obj.calculate_model_accuracy(te_loader_all))\n",
    "\n"
   ]
  }
 ],
 "metadata": {
  "colab": {
   "collapsed_sections": [],
   "name": "Part1.ipynb",
   "provenance": [],
   "toc_visible": true
  },
  "kernelspec": {
   "display_name": "Python 3",
   "language": "python",
   "name": "python3"
  },
  "language_info": {
   "codemirror_mode": {
    "name": "ipython",
    "version": 3
   },
   "file_extension": ".py",
   "mimetype": "text/x-python",
   "name": "python",
   "nbconvert_exporter": "python",
   "pygments_lexer": "ipython3",
   "version": "3.8.5"
  },
  "widgets": {
   "application/vnd.jupyter.widget-state+json": {
    "09202ce93a8b416c8220859fef3e4f74": {
     "model_module": "@jupyter-widgets/base",
     "model_name": "LayoutModel",
     "state": {
      "_model_module": "@jupyter-widgets/base",
      "_model_module_version": "1.2.0",
      "_model_name": "LayoutModel",
      "_view_count": null,
      "_view_module": "@jupyter-widgets/base",
      "_view_module_version": "1.2.0",
      "_view_name": "LayoutView",
      "align_content": null,
      "align_items": null,
      "align_self": null,
      "border": null,
      "bottom": null,
      "display": null,
      "flex": null,
      "flex_flow": null,
      "grid_area": null,
      "grid_auto_columns": null,
      "grid_auto_flow": null,
      "grid_auto_rows": null,
      "grid_column": null,
      "grid_gap": null,
      "grid_row": null,
      "grid_template_areas": null,
      "grid_template_columns": null,
      "grid_template_rows": null,
      "height": null,
      "justify_content": null,
      "justify_items": null,
      "left": null,
      "margin": null,
      "max_height": null,
      "max_width": null,
      "min_height": null,
      "min_width": null,
      "object_fit": null,
      "object_position": null,
      "order": null,
      "overflow": null,
      "overflow_x": null,
      "overflow_y": null,
      "padding": null,
      "right": null,
      "top": null,
      "visibility": null,
      "width": null
     }
    },
    "369378431af54073ad74d3259648d67e": {
     "model_module": "@jupyter-widgets/controls",
     "model_name": "HBoxModel",
     "state": {
      "_dom_classes": [],
      "_model_module": "@jupyter-widgets/controls",
      "_model_module_version": "1.5.0",
      "_model_name": "HBoxModel",
      "_view_count": null,
      "_view_module": "@jupyter-widgets/controls",
      "_view_module_version": "1.5.0",
      "_view_name": "HBoxView",
      "box_style": "",
      "children": [
       "IPY_MODEL_565c525fcbfd4114a896bc8d40983bf8",
       "IPY_MODEL_ce0a824e8dde472bb869c569a5b58a81"
      ],
      "layout": "IPY_MODEL_ffdb03d27cb44ab1976b704aa5dcc9c3"
     }
    },
    "555fe91350b04d5e91b533c10e025e83": {
     "model_module": "@jupyter-widgets/controls",
     "model_name": "ProgressStyleModel",
     "state": {
      "_model_module": "@jupyter-widgets/controls",
      "_model_module_version": "1.5.0",
      "_model_name": "ProgressStyleModel",
      "_view_count": null,
      "_view_module": "@jupyter-widgets/base",
      "_view_module_version": "1.2.0",
      "_view_name": "StyleView",
      "bar_color": null,
      "description_width": "initial"
     }
    },
    "565c525fcbfd4114a896bc8d40983bf8": {
     "model_module": "@jupyter-widgets/controls",
     "model_name": "FloatProgressModel",
     "state": {
      "_dom_classes": [],
      "_model_module": "@jupyter-widgets/controls",
      "_model_module_version": "1.5.0",
      "_model_name": "FloatProgressModel",
      "_view_count": null,
      "_view_module": "@jupyter-widgets/controls",
      "_view_module_version": "1.5.0",
      "_view_name": "ProgressView",
      "bar_style": "success",
      "description": "Training: 100%",
      "description_tooltip": null,
      "layout": "IPY_MODEL_fbf7c3562fb04db3adb1ab1a510755f2",
      "max": 10,
      "min": 0,
      "orientation": "horizontal",
      "style": "IPY_MODEL_555fe91350b04d5e91b533c10e025e83",
      "value": 10
     }
    },
    "b6583579f4ea488694744bb9958a00b5": {
     "model_module": "@jupyter-widgets/controls",
     "model_name": "DescriptionStyleModel",
     "state": {
      "_model_module": "@jupyter-widgets/controls",
      "_model_module_version": "1.5.0",
      "_model_name": "DescriptionStyleModel",
      "_view_count": null,
      "_view_module": "@jupyter-widgets/base",
      "_view_module_version": "1.2.0",
      "_view_name": "StyleView",
      "description_width": ""
     }
    },
    "ce0a824e8dde472bb869c569a5b58a81": {
     "model_module": "@jupyter-widgets/controls",
     "model_name": "HTMLModel",
     "state": {
      "_dom_classes": [],
      "_model_module": "@jupyter-widgets/controls",
      "_model_module_version": "1.5.0",
      "_model_name": "HTMLModel",
      "_view_count": null,
      "_view_module": "@jupyter-widgets/controls",
      "_view_module_version": "1.5.0",
      "_view_name": "HTMLView",
      "description": "",
      "description_tooltip": null,
      "layout": "IPY_MODEL_09202ce93a8b416c8220859fef3e4f74",
      "placeholder": "​",
      "style": "IPY_MODEL_b6583579f4ea488694744bb9958a00b5",
      "value": " 10/10 [58:51&lt;00:00, 353.18s/it]"
     }
    },
    "fbf7c3562fb04db3adb1ab1a510755f2": {
     "model_module": "@jupyter-widgets/base",
     "model_name": "LayoutModel",
     "state": {
      "_model_module": "@jupyter-widgets/base",
      "_model_module_version": "1.2.0",
      "_model_name": "LayoutModel",
      "_view_count": null,
      "_view_module": "@jupyter-widgets/base",
      "_view_module_version": "1.2.0",
      "_view_name": "LayoutView",
      "align_content": null,
      "align_items": null,
      "align_self": null,
      "border": null,
      "bottom": null,
      "display": null,
      "flex": null,
      "flex_flow": null,
      "grid_area": null,
      "grid_auto_columns": null,
      "grid_auto_flow": null,
      "grid_auto_rows": null,
      "grid_column": null,
      "grid_gap": null,
      "grid_row": null,
      "grid_template_areas": null,
      "grid_template_columns": null,
      "grid_template_rows": null,
      "height": null,
      "justify_content": null,
      "justify_items": null,
      "left": null,
      "margin": null,
      "max_height": null,
      "max_width": null,
      "min_height": null,
      "min_width": null,
      "object_fit": null,
      "object_position": null,
      "order": null,
      "overflow": null,
      "overflow_x": null,
      "overflow_y": null,
      "padding": null,
      "right": null,
      "top": null,
      "visibility": null,
      "width": null
     }
    },
    "ffdb03d27cb44ab1976b704aa5dcc9c3": {
     "model_module": "@jupyter-widgets/base",
     "model_name": "LayoutModel",
     "state": {
      "_model_module": "@jupyter-widgets/base",
      "_model_module_version": "1.2.0",
      "_model_name": "LayoutModel",
      "_view_count": null,
      "_view_module": "@jupyter-widgets/base",
      "_view_module_version": "1.2.0",
      "_view_name": "LayoutView",
      "align_content": null,
      "align_items": null,
      "align_self": null,
      "border": null,
      "bottom": null,
      "display": null,
      "flex": null,
      "flex_flow": null,
      "grid_area": null,
      "grid_auto_columns": null,
      "grid_auto_flow": null,
      "grid_auto_rows": null,
      "grid_column": null,
      "grid_gap": null,
      "grid_row": null,
      "grid_template_areas": null,
      "grid_template_columns": null,
      "grid_template_rows": null,
      "height": null,
      "justify_content": null,
      "justify_items": null,
      "left": null,
      "margin": null,
      "max_height": null,
      "max_width": null,
      "min_height": null,
      "min_width": null,
      "object_fit": null,
      "object_position": null,
      "order": null,
      "overflow": null,
      "overflow_x": null,
      "overflow_y": null,
      "padding": null,
      "right": null,
      "top": null,
      "visibility": null,
      "width": null
     }
    }
   }
  }
 },
 "nbformat": 4,
 "nbformat_minor": 1
}
