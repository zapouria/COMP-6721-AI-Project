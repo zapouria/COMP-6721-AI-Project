{
 "cells": [
  {
   "cell_type": "code",
   "execution_count": 27,
   "metadata": {
    "id": "rIFcfiPrO4Eu"
   },
   "outputs": [],
   "source": [
    "import os\n",
    "import matplotlib.pyplot as plt\n",
    "import numpy as np\n",
    "import sklearn\n",
    "from sklearn.metrics import confusion_matrix, classification_report\n",
    "import seaborn as sb\n",
    "from preprocessing import *\n",
    "from model.convolutional_neural_network import *\n",
    "from sklearn.model_selection import KFold\n",
    "from model.Executor import *\n",
    "import warnings  \n",
    "warnings.filterwarnings(\"ignore\")\n",
    "\n",
    "import torch.nn.functional as functional\n"
   ]
  },
  {
   "cell_type": "markdown",
   "metadata": {},
   "source": [
    "# Training Data"
   ]
  },
  {
   "cell_type": "markdown",
   "metadata": {},
   "source": [
    "The statistics on the size of our dataset."
   ]
  },
  {
   "cell_type": "code",
   "execution_count": 28,
   "metadata": {
    "id": "a7q5Eo1opSUe"
   },
   "outputs": [
    {
     "data": {
      "image/png": "[encoded data removed]",
      "text/plain": [
       "<Figure size 648x216 with 1 Axes>"
      ]
     },
     "metadata": {},
     "output_type": "display_data"
    }
   ],
   "source": [
    "names = ['Not Person', 'With Mask', 'Without Mask']\n",
    "N = []\n",
    "N.append(len(os.listdir(\"./dataset/NotPerson\")))\n",
    "N.append(len(os.listdir(\"./dataset/WithMask\")))\n",
    "N.append(len(os.listdir(\"./dataset/WithoutMask\")))\n",
    "plt.figure(figsize=(9, 3))\n",
    "plt.bar(names, N)\n",
    "plt.show()"
   ]
  },
  {
   "cell_type": "markdown",
   "metadata": {},
   "source": [
    "Create datasets for training and testing the model."
   ]
  },
  {
   "cell_type": "code",
   "execution_count": 29,
   "metadata": {},
   "outputs": [],
   "source": [
    "dataset = load_data(\"./dataset\")\n",
    "tr_ds, te_ds = split_data(dataset)\n",
    "tr_loader = train_dataloarder(tr_ds)\n",
    "te_loader = test_dataloarder(te_ds)"
   ]
  },
  {
   "cell_type": "markdown",
   "metadata": {
    "id": "_XeDSNTVCHrm"
   },
   "source": [
    "# Deep Learning"
   ]
  },
  {
   "cell_type": "markdown",
   "metadata": {},
   "source": [
    "Implementing and training the CNN model."
   ]
  },
  {
   "cell_type": "code",
   "execution_count": 30,
   "metadata": {
    "colab": {
     "base_uri": "https://localhost:8080/",
     "height": 1000,
     "referenced_widgets": [
      "369378431af54073ad74d3259648d67e",
      "ffdb03d27cb44ab1976b704aa5dcc9c3",
      "565c525fcbfd4114a896bc8d40983bf8",
      "ce0a824e8dde472bb869c569a5b58a81",
      "555fe91350b04d5e91b533c10e025e83",
      "fbf7c3562fb04db3adb1ab1a510755f2",
      "b6583579f4ea488694744bb9958a00b5",
      "09202ce93a8b416c8220859fef3e4f74"
     ]
    },
    "id": "ibbaSGkXuPTv",
    "outputId": "4ec03f49-69aa-4d88-8915-68ef05b8356d",
    "scrolled": true
   },
   "outputs": [
    {
     "name": "stdout",
     "output_type": "stream",
     "text": [
      "  0/20... rate=0 Hz, eta=?, total=0:00:00, wall=10:29 EST\n",
      "current iter acc: 78.2222\n",
      "current iter loss: 82.8507\n",
      "  1/20... rate=0.05 Hz, eta=0:05:54, total=0:00:18, wall=10:29 EST\n",
      "current iter acc: 87.3333\n",
      "current iter loss: 69.1448\n",
      "  2/20... rate=0.06 Hz, eta=0:05:25, total=0:00:36, wall=10:29 EST\n",
      "current iter acc: 89.8519\n",
      "current iter loss: 62.3878\n",
      "  3/20... rate=0.06 Hz, eta=0:05:00, total=0:00:53, wall=10:30 EST\n",
      "current iter acc: 91.9259\n",
      "current iter loss: 56.8572\n",
      "  4/20... rate=0.06 Hz, eta=0:04:41, total=0:01:10, wall=10:30 EST\n",
      "current iter acc: 94.0000\n",
      "current iter loss: 52.3691\n",
      "  5/20... rate=0.06 Hz, eta=0:04:24, total=0:01:28, wall=10:30 EST\n",
      "current iter acc: 95.4074\n",
      "current iter loss: 47.6083\n",
      "  6/20... rate=0.06 Hz, eta=0:04:07, total=0:01:45, wall=10:30 EST\n",
      "current iter acc: 94.5185\n",
      "current iter loss: 44.0028\n",
      "  7/20... rate=0.06 Hz, eta=0:03:50, total=0:02:04, wall=10:31 EST\n",
      "current iter acc: 94.1481\n",
      "current iter loss: 41.7061\n",
      "  8/20... rate=0.06 Hz, eta=0:03:33, total=0:02:22, wall=10:31 EST\n",
      "current iter acc: 97.2593\n",
      "current iter loss: 39.1087\n",
      "  9/20... rate=0.06 Hz, eta=0:03:15, total=0:02:40, wall=10:31 EST\n",
      "current iter acc: 97.2593\n",
      "current iter loss: 36.4913\n",
      " 10/20... rate=0.06 Hz, eta=0:02:58, total=0:02:58, wall=10:32 EST\n",
      "current iter acc: 97.1111\n",
      "current iter loss: 34.5095\n",
      " 11/20... rate=0.06 Hz, eta=0:02:40, total=0:03:16, wall=10:32 EST\n",
      "current iter acc: 98.2222\n",
      "current iter loss: 32.6063\n",
      " 12/20... rate=0.06 Hz, eta=0:02:23, total=0:03:34, wall=10:32 EST\n",
      "current iter acc: 96.1481\n",
      "current iter loss: 31.1495\n",
      " 13/20... rate=0.06 Hz, eta=0:02:05, total=0:03:52, wall=10:33 EST\n",
      "current iter acc: 98.8148\n",
      "current iter loss: 29.6216\n",
      " 14/20... rate=0.06 Hz, eta=0:01:47, total=0:04:10, wall=10:33 EST\n",
      "current iter acc: 95.0370\n",
      "current iter loss: 28.0571\n",
      " 15/20... rate=0.06 Hz, eta=0:01:29, total=0:04:29, wall=10:33 EST\n",
      "current iter acc: 97.8519\n",
      "current iter loss: 26.9543\n",
      " 16/20... rate=0.06 Hz, eta=0:01:12, total=0:04:48, wall=10:33 EST\n",
      "current iter acc: 98.5185\n",
      "current iter loss: 25.7778\n",
      " 17/20... rate=0.06 Hz, eta=0:00:54, total=0:05:06, wall=10:34 EST\n",
      "current iter acc: 98.6667\n",
      "current iter loss: 24.7108\n",
      " 18/20... rate=0.06 Hz, eta=0:00:36, total=0:05:24, wall=10:34 EST\n",
      "current iter acc: 99.1111\n",
      "current iter loss: 23.8260\n",
      " 19/20... rate=0.06 Hz, eta=0:00:18, total=0:05:42, wall=10:34 EST\n",
      "current iter acc: 98.6667\n",
      "current iter loss: 23.0601\n",
      " 20/20... rate=0.06 Hz, eta=0:00:00, total=0:06:01, wall=10:35 EST\n"
     ]
    }
   ],
   "source": [
    "num_epochs = 20\n",
    "exec_obj = Executor()\n",
    "all_loss,iter_loss,accuracy = exec_obj.training_model_executor(\n",
    "    tr_loader,\n",
    "    num_epochs\n",
    ")\n"
   ]
  },
  {
   "cell_type": "code",
   "execution_count": 31,
   "metadata": {
    "id": "ibPpEZvq2zPR"
   },
   "outputs": [
    {
     "name": "stdout",
     "output_type": "stream",
     "text": [
      "Model accuracy for test dataset : 95.55555555555556\n",
      "450\n"
     ]
    }
   ],
   "source": [
    "testdata_accuracy = exec_obj.calculate_model_accuracy(te_loader)\n",
    "print(\"Model accuracy for test dataset :\",testdata_accuracy)\n",
    "print(len(te_ds))"
   ]
  },
  {
   "cell_type": "markdown",
   "metadata": {},
   "source": [
    "# Saving the trained model."
   ]
  },
  {
   "cell_type": "code",
   "execution_count": 32,
   "metadata": {},
   "outputs": [],
   "source": [
    "save_path = os.path.join(os.path.abspath(\".\"), \"trained_model.pt\")\n",
    "torch.save(exec_obj.network.state_dict(), save_path)"
   ]
  },
  {
   "cell_type": "code",
   "execution_count": 41,
   "metadata": {},
   "outputs": [],
   "source": [
    "exec_obj = Executor()\n",
    "\n",
    "model = convolutional_neural_network.convolutional_neural_network()\n",
    "\n",
    "model.load_state_dict(torch.load(save_path))\n",
    "\n",
    "exec_obj.network = model"
   ]
  },
  {
   "cell_type": "code",
   "execution_count": 34,
   "metadata": {},
   "outputs": [
    {
     "name": "stdout",
     "output_type": "stream",
     "text": [
      "Model accuracy for test dataset(Female): 96.66666666666667\n",
      "Model accuracy for test dataset(Male): 97.91666666666666\n",
      "Model accuracy for test dataset(All): 97.05882352941177\n"
     ]
    }
   ],
   "source": [
    "dataset_female = load_data(\"./biasTestData/Female\")\n",
    "dataset_male = load_data(\"./biasTestData/Male\")\n",
    "dataset_all = load_data(\"./biasTestData/All\")\n",
    "\n",
    "te_loader_female = test_dataloarder(dataset_female)\n",
    "te_loader_male = test_dataloarder(dataset_male)\n",
    "te_loader_all = test_dataloarder(dataset_all)\n",
    "\n",
    "print(\"Model accuracy for test dataset(Female):\", exec_obj.calculate_model_accuracy(te_loader_female))\n",
    "print(\"Model accuracy for test dataset(Male):\", exec_obj.calculate_model_accuracy(te_loader_male))\n",
    "print(\"Model accuracy for test dataset(All):\", exec_obj.calculate_model_accuracy(te_loader_all))\n",
    "\n"
   ]
  },
  {
   "cell_type": "markdown",
   "metadata": {},
   "source": [
    "# Evaluation the model - Female "
   ]
  },
  {
   "cell_type": "code",
   "execution_count": 35,
   "metadata": {},
   "outputs": [
    {
     "data": {
      "image/png": "[encoded data removed]",
      "text/plain": [
       "<Figure size 432x288 with 2 Axes>"
      ]
     },
     "metadata": {},
     "output_type": "display_data"
    }
   ],
   "source": [
    "calc_model_weights, actual_results = next(iter(te_loader_female))\n",
    "model_net = exec_obj.network(calc_model_weights)\n",
    "pred_vals = torch.argmax(model_net, dim = 1)\n",
    "\n",
    "sb.set(font_scale=1.5) \n",
    "sb.heatmap(\n",
    "    confusion_matrix(actual_results.numpy(),pred_vals.numpy()),\n",
    "    annot=True,\n",
    "    annot_kws={\"size\": 16},\n",
    "    cmap=\"Blues\"\n",
    ")  \n",
    "plt.show()"
   ]
  },
  {
   "cell_type": "code",
   "execution_count": 36,
   "metadata": {},
   "outputs": [
    {
     "name": "stdout",
     "output_type": "stream",
     "text": [
      "              precision    recall  f1-score   support\n",
      "\n",
      "   with mask       0.98      0.98      0.98       140\n",
      "without mask       0.96      0.90      0.93        50\n",
      "not a person       0.94      1.00      0.97        50\n",
      "\n",
      "    accuracy                           0.97       240\n",
      "   macro avg       0.96      0.96      0.96       240\n",
      "weighted avg       0.97      0.97      0.97       240\n",
      "\n"
     ]
    }
   ],
   "source": [
    "report = classification_report(\n",
    "    actual_results.numpy(),\n",
    "    pred_vals.numpy(), \n",
    "    target_names=['with mask','without mask','not a person']\n",
    ")\n",
    "print(report)  "
   ]
  },
  {
   "cell_type": "markdown",
   "metadata": {},
   "source": [
    "# Evaluation the model - Male "
   ]
  },
  {
   "cell_type": "code",
   "execution_count": 37,
   "metadata": {},
   "outputs": [
    {
     "data": {
      "image/png": "[encoded data removed]",
      "text/plain": [
       "<Figure size 432x288 with 2 Axes>"
      ]
     },
     "metadata": {},
     "output_type": "display_data"
    }
   ],
   "source": [
    "calc_model_weights, actual_results = next(iter(te_loader_male))\n",
    "model_net = exec_obj.network(calc_model_weights)\n",
    "pred_vals = torch.argmax(model_net, dim = 1)\n",
    "\n",
    "sb.set(font_scale=1.5) \n",
    "sb.heatmap(\n",
    "    confusion_matrix(actual_results.numpy(),pred_vals.numpy()),\n",
    "    annot=True,\n",
    "    annot_kws={\"size\": 16},\n",
    "    cmap=\"Blues\"\n",
    ")  \n",
    "plt.show()"
   ]
  },
  {
   "cell_type": "markdown",
   "metadata": {},
   "source": [
    "# Evaluation: K-fold cross-validation"
   ]
  },
  {
   "cell_type": "code",
   "execution_count": 39,
   "metadata": {},
   "outputs": [
    {
     "name": "stdout",
     "output_type": "stream",
     "text": [
      "\n",
      "Start---KFOLD iteration 0\n",
      "\n",
      "Index lengths -- train idxs:1215 test idxs:135\n",
      "  0/10... rate=0 Hz, eta=?, total=0:00:00, wall=10:38 EST\n",
      "current iter acc: 32.3457\n",
      "current iter loss: 97.1118\n",
      "  1/10... rate=0.09 Hz, eta=0:01:36, total=0:00:10, wall=10:38 EST\n",
      "current iter acc: 72.2634\n",
      "current iter loss: 73.2122\n",
      "  2/10... rate=0.09 Hz, eta=0:01:27, total=0:00:21, wall=10:38 EST\n",
      "current iter acc: 91.7695\n",
      "current iter loss: 58.7984\n",
      "  3/10... rate=0.09 Hz, eta=0:01:15, total=0:00:32, wall=10:38 EST\n",
      "current iter acc: 95.1440\n",
      "current iter loss: 49.5418\n",
      "  4/10... rate=0.10 Hz, eta=0:01:02, total=0:00:41, wall=10:38 EST\n",
      "current iter acc: 97.2016\n",
      "current iter loss: 42.4061\n",
      "  5/10... rate=0.10 Hz, eta=0:00:50, total=0:00:50, wall=10:38 EST\n",
      "current iter acc: 98.6831\n",
      "current iter loss: 36.9359\n",
      "  6/10... rate=0.10 Hz, eta=0:00:39, total=0:00:59, wall=10:39 EST\n",
      "current iter acc: 98.1070\n",
      "current iter loss: 32.9018\n",
      "  7/10... rate=0.10 Hz, eta=0:00:29, total=0:01:09, wall=10:39 EST\n",
      "current iter acc: 97.1193\n",
      "current iter loss: 30.1329\n",
      "  8/10... rate=0.10 Hz, eta=0:00:19, total=0:01:19, wall=10:39 EST\n",
      "current iter acc: 96.9547\n",
      "current iter loss: 27.5490\n",
      "  9/10... rate=0.10 Hz, eta=0:00:09, total=0:01:29, wall=10:39 EST\n",
      "current iter acc: 99.3416\n",
      "current iter loss: 25.3273\n",
      " 10/10... rate=0.10 Hz, eta=0:00:00, total=0:01:38, wall=10:39 EST\n",
      "\n",
      "Start---KFOLD iteration 1\n",
      "\n",
      "Index lengths -- train idxs:1215 test idxs:135\n",
      "  0/10... rate=0 Hz, eta=?, total=0:00:00, wall=10:39 EST\n",
      "current iter acc: 99.2593\n",
      "current iter loss: 4.5133\n",
      "  1/10... rate=0.11 Hz, eta=0:01:22, total=0:00:09, wall=10:39 EST\n",
      "current iter acc: 98.3539\n",
      "current iter loss: 3.6704\n",
      "  2/10... rate=0.11 Hz, eta=0:01:12, total=0:00:18, wall=10:39 EST\n",
      "current iter acc: 99.5062\n",
      "current iter loss: 3.6704\n",
      "  3/10... rate=0.11 Hz, eta=0:01:03, total=0:00:27, wall=10:40 EST\n",
      "current iter acc: 99.4239\n",
      "current iter loss: 3.6704\n",
      "  4/10... rate=0.11 Hz, eta=0:00:54, total=0:00:36, wall=10:40 EST\n",
      "current iter acc: 100.0000\n",
      "current iter loss: 3.4735\n",
      "  5/10... rate=0.11 Hz, eta=0:00:45, total=0:00:45, wall=10:40 EST\n",
      "current iter acc: 100.0000\n",
      "current iter loss: 2.9583\n",
      "  6/10... rate=0.11 Hz, eta=0:00:36, total=0:00:54, wall=10:40 EST\n",
      "current iter acc: 100.0000\n",
      "current iter loss: 2.5599\n",
      "  7/10... rate=0.11 Hz, eta=0:00:27, total=0:01:03, wall=10:40 EST\n",
      "current iter acc: 100.0000\n",
      "current iter loss: 2.2540\n",
      "  8/10... rate=0.11 Hz, eta=0:00:18, total=0:01:12, wall=10:40 EST\n",
      "current iter acc: 100.0000\n",
      "current iter loss: 2.0132\n",
      "  9/10... rate=0.11 Hz, eta=0:00:09, total=0:01:22, wall=10:41 EST\n",
      "current iter acc: 100.0000\n",
      "current iter loss: 1.8224\n",
      " 10/10... rate=0.11 Hz, eta=0:00:00, total=0:01:31, wall=10:41 EST\n",
      "\n",
      "Start---KFOLD iteration 2\n",
      "\n",
      "Index lengths -- train idxs:1215 test idxs:135\n",
      "  0/10... rate=0 Hz, eta=?, total=0:00:00, wall=10:41 EST\n",
      "current iter acc: 100.0000\n",
      "current iter loss: 0.4657\n",
      "  1/10... rate=0.11 Hz, eta=0:01:21, total=0:00:09, wall=10:41 EST\n",
      "current iter acc: 100.0000\n",
      "current iter loss: 0.3057\n",
      "  2/10... rate=0.11 Hz, eta=0:01:12, total=0:00:18, wall=10:41 EST\n",
      "current iter acc: 100.0000\n",
      "current iter loss: 0.2508\n",
      "  3/10... rate=0.11 Hz, eta=0:01:03, total=0:00:27, wall=10:41 EST\n",
      "current iter acc: 100.0000\n",
      "current iter loss: 0.1977\n",
      "  4/10... rate=0.11 Hz, eta=0:00:54, total=0:00:36, wall=10:41 EST\n",
      "current iter acc: 100.0000\n",
      "current iter loss: 0.1655\n",
      "  5/10... rate=0.11 Hz, eta=0:00:45, total=0:00:45, wall=10:41 EST\n",
      "current iter acc: 100.0000\n",
      "current iter loss: 0.1407\n",
      "  6/10... rate=0.11 Hz, eta=0:00:36, total=0:00:54, wall=10:42 EST\n",
      "current iter acc: 100.0000\n",
      "current iter loss: 0.1255\n",
      "  7/10... rate=0.11 Hz, eta=0:00:27, total=0:01:03, wall=10:42 EST\n",
      "current iter acc: 100.0000\n",
      "current iter loss: 0.1119\n",
      "  8/10... rate=0.11 Hz, eta=0:00:18, total=0:01:12, wall=10:42 EST\n",
      "current iter acc: 100.0000\n",
      "current iter loss: 0.1017\n",
      "  9/10... rate=0.11 Hz, eta=0:00:09, total=0:01:21, wall=10:42 EST\n",
      "current iter acc: 100.0000\n",
      "current iter loss: 0.0926\n",
      " 10/10... rate=0.11 Hz, eta=0:00:00, total=0:01:31, wall=10:42 EST\n",
      "\n",
      "Start---KFOLD iteration 3\n",
      "\n",
      "Index lengths -- train idxs:1215 test idxs:135\n",
      "  0/10... rate=0 Hz, eta=?, total=0:00:00, wall=10:42 EST\n",
      "current iter acc: 100.0000\n",
      "current iter loss: 0.0109\n",
      "  1/10... rate=0.11 Hz, eta=0:01:21, total=0:00:09, wall=10:42 EST\n",
      "current iter acc: 100.0000\n",
      "current iter loss: 0.0109\n",
      "  2/10... rate=0.11 Hz, eta=0:01:12, total=0:00:18, wall=10:43 EST\n",
      "current iter acc: 100.0000\n",
      "current iter loss: 0.0104\n",
      "  3/10... rate=0.11 Hz, eta=0:01:03, total=0:00:27, wall=10:43 EST\n",
      "current iter acc: 100.0000\n",
      "current iter loss: 0.0102\n",
      "  4/10... rate=0.11 Hz, eta=0:00:54, total=0:00:36, wall=10:43 EST\n",
      "current iter acc: 100.0000\n",
      "current iter loss: 0.0095\n",
      "  5/10... rate=0.11 Hz, eta=0:00:45, total=0:00:45, wall=10:43 EST\n",
      "current iter acc: 100.0000\n",
      "current iter loss: 0.0089\n",
      "  6/10... rate=0.11 Hz, eta=0:00:36, total=0:00:54, wall=10:43 EST\n",
      "current iter acc: 100.0000\n",
      "current iter loss: 0.0083\n",
      "  7/10... rate=0.11 Hz, eta=0:00:27, total=0:01:03, wall=10:43 EST\n",
      "current iter acc: 100.0000\n",
      "current iter loss: 0.0082\n",
      "  8/10... rate=0.11 Hz, eta=0:00:18, total=0:01:12, wall=10:43 EST\n",
      "current iter acc: 100.0000\n",
      "current iter loss: 0.0079\n",
      "  9/10... rate=0.11 Hz, eta=0:00:09, total=0:01:21, wall=10:44 EST\n",
      "current iter acc: 100.0000\n",
      "current iter loss: 0.0077\n",
      " 10/10... rate=0.11 Hz, eta=0:00:00, total=0:01:31, wall=10:44 EST\n",
      "\n",
      "Start---KFOLD iteration 4\n",
      "\n",
      "Index lengths -- train idxs:1215 test idxs:135\n",
      "  0/10... rate=0 Hz, eta=?, total=0:00:00, wall=10:44 EST\n",
      "current iter acc: 100.0000\n",
      "current iter loss: 0.0047\n",
      "  1/10... rate=0.10 Hz, eta=0:01:30, total=0:00:10, wall=10:44 EST\n",
      "current iter acc: 100.0000\n",
      "current iter loss: 0.0047\n",
      "  2/10... rate=0.10 Hz, eta=0:01:20, total=0:00:20, wall=10:44 EST\n",
      "current iter acc: 100.0000\n",
      "current iter loss: 0.0047\n",
      "  3/10... rate=0.10 Hz, eta=0:01:08, total=0:00:29, wall=10:44 EST\n",
      "current iter acc: 100.0000\n",
      "current iter loss: 0.0047\n",
      "  4/10... rate=0.10 Hz, eta=0:00:57, total=0:00:38, wall=10:44 EST\n",
      "current iter acc: 100.0000\n",
      "current iter loss: 0.0047\n",
      "  5/10... rate=0.10 Hz, eta=0:00:47, total=0:00:47, wall=10:45 EST\n",
      "current iter acc: 100.0000\n",
      "current iter loss: 0.0047\n",
      "  6/10... rate=0.11 Hz, eta=0:00:37, total=0:00:56, wall=10:45 EST\n",
      "current iter acc: 100.0000\n",
      "current iter loss: 0.0047\n",
      "  7/10... rate=0.11 Hz, eta=0:00:28, total=0:01:06, wall=10:45 EST\n",
      "current iter acc: 100.0000\n",
      "current iter loss: 0.0047\n",
      "  8/10... rate=0.11 Hz, eta=0:00:18, total=0:01:15, wall=10:45 EST\n",
      "current iter acc: 100.0000\n",
      "current iter loss: 0.0047\n",
      "  9/10... rate=0.11 Hz, eta=0:00:09, total=0:01:25, wall=10:45 EST\n",
      "current iter acc: 100.0000\n",
      "current iter loss: 0.0047\n",
      " 10/10... rate=0.11 Hz, eta=0:00:00, total=0:01:34, wall=10:45 EST\n",
      "\n",
      "Start---KFOLD iteration 5\n",
      "\n",
      "Index lengths -- train idxs:1215 test idxs:135\n",
      "  0/10... rate=0 Hz, eta=?, total=0:00:00, wall=10:45 EST\n",
      "current iter acc: 100.0000\n",
      "current iter loss: 0.0081\n",
      "  1/10... rate=0.11 Hz, eta=0:01:21, total=0:00:09, wall=10:45 EST\n",
      "current iter acc: 100.0000\n",
      "current iter loss: 0.0057\n",
      "  2/10... rate=0.11 Hz, eta=0:01:12, total=0:00:18, wall=10:46 EST\n",
      "current iter acc: 100.0000\n",
      "current iter loss: 0.0057\n",
      "  3/10... rate=0.11 Hz, eta=0:01:03, total=0:00:27, wall=10:46 EST\n",
      "current iter acc: 100.0000\n",
      "current iter loss: 0.0057\n",
      "  4/10... rate=0.11 Hz, eta=0:00:54, total=0:00:36, wall=10:46 EST\n",
      "current iter acc: 100.0000\n",
      "current iter loss: 0.0057\n",
      "  5/10... rate=0.11 Hz, eta=0:00:45, total=0:00:45, wall=10:46 EST\n",
      "current iter acc: 100.0000\n",
      "current iter loss: 0.0057\n",
      "  6/10... rate=0.11 Hz, eta=0:00:36, total=0:00:54, wall=10:46 EST\n",
      "current iter acc: 100.0000\n",
      "current iter loss: 0.0056\n",
      "  7/10... rate=0.11 Hz, eta=0:00:27, total=0:01:04, wall=10:46 EST\n",
      "current iter acc: 100.0000\n",
      "current iter loss: 0.0056\n",
      "  8/10... rate=0.11 Hz, eta=0:00:18, total=0:01:13, wall=10:47 EST\n",
      "current iter acc: 100.0000\n",
      "current iter loss: 0.0056\n",
      "  9/10... rate=0.11 Hz, eta=0:00:09, total=0:01:22, wall=10:47 EST\n",
      "current iter acc: 100.0000\n",
      "current iter loss: 0.0056\n",
      " 10/10... rate=0.11 Hz, eta=0:00:00, total=0:01:31, wall=10:47 EST\n",
      "\n",
      "Start---KFOLD iteration 6\n",
      "\n",
      "Index lengths -- train idxs:1215 test idxs:135\n",
      "  0/10... rate=0 Hz, eta=?, total=0:00:00, wall=10:47 EST\n",
      "current iter acc: 100.0000\n",
      "current iter loss: 0.0045\n",
      "  1/10... rate=0.11 Hz, eta=0:01:22, total=0:00:09, wall=10:47 EST\n"
     ]
    },
    {
     "name": "stdout",
     "output_type": "stream",
     "text": [
      "current iter acc: 100.0000\n",
      "current iter loss: 0.0039\n",
      "  2/10... rate=0.11 Hz, eta=0:01:13, total=0:00:18, wall=10:47 EST\n",
      "current iter acc: 100.0000\n",
      "current iter loss: 0.0038\n",
      "  3/10... rate=0.11 Hz, eta=0:01:04, total=0:00:27, wall=10:47 EST\n",
      "current iter acc: 100.0000\n",
      "current iter loss: 0.0037\n",
      "  4/10... rate=0.11 Hz, eta=0:00:54, total=0:00:36, wall=10:47 EST\n",
      "current iter acc: 100.0000\n",
      "current iter loss: 0.0034\n",
      "  5/10... rate=0.11 Hz, eta=0:00:45, total=0:00:45, wall=10:48 EST\n",
      "current iter acc: 100.0000\n",
      "current iter loss: 0.0034\n",
      "  6/10... rate=0.11 Hz, eta=0:00:36, total=0:00:54, wall=10:48 EST\n",
      "current iter acc: 100.0000\n",
      "current iter loss: 0.0034\n",
      "  7/10... rate=0.11 Hz, eta=0:00:27, total=0:01:03, wall=10:48 EST\n",
      "current iter acc: 100.0000\n",
      "current iter loss: 0.0034\n",
      "  8/10... rate=0.11 Hz, eta=0:00:18, total=0:01:12, wall=10:48 EST\n",
      "current iter acc: 100.0000\n",
      "current iter loss: 0.0034\n",
      "  9/10... rate=0.11 Hz, eta=0:00:09, total=0:01:22, wall=10:48 EST\n",
      "current iter acc: 100.0000\n",
      "current iter loss: 0.0034\n",
      " 10/10... rate=0.11 Hz, eta=0:00:00, total=0:01:31, wall=10:48 EST\n",
      "\n",
      "Start---KFOLD iteration 7\n",
      "\n",
      "Index lengths -- train idxs:1215 test idxs:135\n",
      "  0/10... rate=0 Hz, eta=?, total=0:00:00, wall=10:48 EST\n",
      "current iter acc: 100.0000\n",
      "current iter loss: 0.0022\n",
      "  1/10... rate=0.10 Hz, eta=0:01:26, total=0:00:09, wall=10:49 EST\n",
      "current iter acc: 100.0000\n",
      "current iter loss: 0.0022\n",
      "  2/10... rate=0.11 Hz, eta=0:01:16, total=0:00:19, wall=10:49 EST\n",
      "current iter acc: 100.0000\n",
      "current iter loss: 0.0022\n",
      "  3/10... rate=0.11 Hz, eta=0:01:05, total=0:00:28, wall=10:49 EST\n",
      "current iter acc: 100.0000\n",
      "current iter loss: 0.0022\n",
      "  4/10... rate=0.11 Hz, eta=0:00:55, total=0:00:37, wall=10:49 EST\n",
      "current iter acc: 100.0000\n",
      "current iter loss: 0.0022\n",
      "  5/10... rate=0.11 Hz, eta=0:00:46, total=0:00:46, wall=10:49 EST\n",
      "current iter acc: 100.0000\n",
      "current iter loss: 0.0022\n",
      "  6/10... rate=0.11 Hz, eta=0:00:37, total=0:00:55, wall=10:49 EST\n",
      "current iter acc: 100.0000\n",
      "current iter loss: 0.0022\n",
      "  7/10... rate=0.11 Hz, eta=0:00:27, total=0:01:04, wall=10:49 EST\n",
      "current iter acc: 100.0000\n",
      "current iter loss: 0.0022\n",
      "  8/10... rate=0.11 Hz, eta=0:00:18, total=0:01:13, wall=10:50 EST\n",
      "current iter acc: 100.0000\n",
      "current iter loss: 0.0022\n",
      "  9/10... rate=0.11 Hz, eta=0:00:09, total=0:01:22, wall=10:50 EST\n",
      "current iter acc: 100.0000\n",
      "current iter loss: 0.0022\n",
      " 10/10... rate=0.11 Hz, eta=0:00:00, total=0:01:31, wall=10:50 EST\n",
      "\n",
      "Start---KFOLD iteration 8\n",
      "\n",
      "Index lengths -- train idxs:1215 test idxs:135\n",
      "  0/10... rate=0 Hz, eta=?, total=0:00:00, wall=10:50 EST\n",
      "current iter acc: 100.0000\n",
      "current iter loss: 0.0035\n",
      "  1/10... rate=0.11 Hz, eta=0:01:21, total=0:00:09, wall=10:50 EST\n",
      "current iter acc: 100.0000\n",
      "current iter loss: 0.0031\n",
      "  2/10... rate=0.11 Hz, eta=0:01:12, total=0:00:18, wall=10:50 EST\n",
      "current iter acc: 100.0000\n",
      "current iter loss: 0.0028\n",
      "  3/10... rate=0.11 Hz, eta=0:01:04, total=0:00:27, wall=10:50 EST\n",
      "current iter acc: 100.0000\n",
      "current iter loss: 0.0027\n",
      "  4/10... rate=0.11 Hz, eta=0:00:55, total=0:00:36, wall=10:51 EST\n",
      "current iter acc: 100.0000\n",
      "current iter loss: 0.0026\n",
      "  5/10... rate=0.11 Hz, eta=0:00:46, total=0:00:46, wall=10:51 EST\n",
      "current iter acc: 100.0000\n",
      "current iter loss: 0.0026\n",
      "  6/10... rate=0.11 Hz, eta=0:00:36, total=0:00:55, wall=10:51 EST\n",
      "current iter acc: 100.0000\n",
      "current iter loss: 0.0026\n",
      "  7/10... rate=0.11 Hz, eta=0:00:27, total=0:01:04, wall=10:51 EST\n",
      "current iter acc: 100.0000\n",
      "current iter loss: 0.0026\n",
      "  8/10... rate=0.11 Hz, eta=0:00:18, total=0:01:13, wall=10:51 EST\n",
      "current iter acc: 100.0000\n",
      "current iter loss: 0.0026\n",
      "  9/10... rate=0.11 Hz, eta=0:00:09, total=0:01:22, wall=10:51 EST\n",
      "current iter acc: 100.0000\n",
      "current iter loss: 0.0026\n",
      " 10/10... rate=0.11 Hz, eta=0:00:00, total=0:01:32, wall=10:51 EST\n",
      "\n",
      "Start---KFOLD iteration 9\n",
      "\n",
      "Index lengths -- train idxs:1215 test idxs:135\n",
      "  0/10... rate=0 Hz, eta=?, total=0:00:00, wall=10:51 EST\n",
      "current iter acc: 100.0000\n",
      "current iter loss: 0.0012\n",
      "  1/10... rate=0.11 Hz, eta=0:01:21, total=0:00:09, wall=10:52 EST\n",
      "current iter acc: 100.0000\n",
      "current iter loss: 0.0012\n",
      "  2/10... rate=0.11 Hz, eta=0:01:12, total=0:00:18, wall=10:52 EST\n",
      "current iter acc: 100.0000\n",
      "current iter loss: 0.0012\n",
      "  3/10... rate=0.11 Hz, eta=0:01:03, total=0:00:27, wall=10:52 EST\n",
      "current iter acc: 100.0000\n",
      "current iter loss: 0.0012\n",
      "  4/10... rate=0.11 Hz, eta=0:00:54, total=0:00:36, wall=10:52 EST\n",
      "current iter acc: 100.0000\n",
      "current iter loss: 0.0012\n",
      "  5/10... rate=0.11 Hz, eta=0:00:45, total=0:00:45, wall=10:52 EST\n",
      "current iter acc: 100.0000\n",
      "current iter loss: 0.0012\n",
      "  6/10... rate=0.11 Hz, eta=0:00:36, total=0:00:54, wall=10:52 EST\n",
      "current iter acc: 100.0000\n",
      "current iter loss: 0.0012\n",
      "  7/10... rate=0.11 Hz, eta=0:00:27, total=0:01:03, wall=10:53 EST\n",
      "current iter acc: 100.0000\n",
      "current iter loss: 0.0012\n",
      "  8/10... rate=0.11 Hz, eta=0:00:18, total=0:01:12, wall=10:53 EST\n",
      "current iter acc: 100.0000\n",
      "current iter loss: 0.0012\n",
      "  9/10... rate=0.11 Hz, eta=0:00:09, total=0:01:21, wall=10:53 EST\n",
      "current iter acc: 100.0000\n",
      "current iter loss: 0.0012\n",
      " 10/10... rate=0.11 Hz, eta=0:00:00, total=0:01:31, wall=10:53 EST\n"
     ]
    }
   ],
   "source": [
    "def doKfold(executor_obj, dataset, num_of_folds=10, num_of_epochs=10):\n",
    "    all_epoch_loss = []\n",
    "    result_loss_vals = []\n",
    "    result_acy_vals = []\n",
    "    \n",
    "    cnt = 0\n",
    "    kfold_obj = KFold(num_of_folds, shuffle=True)\n",
    "    kf_dataset = kfold_obj.split(dataset)\n",
    "\n",
    "    for idx, (trn_idx_vals, tst_idx_vals) in enumerate(kf_dataset):\n",
    "        print(\"\\nStart---KFOLD iteration {}\\n\".format(idx))\n",
    "        print(\"Index lengths -- train idxs:{} test idxs:{}\".format(len(trn_idx_vals), len(tst_idx_vals)))\n",
    "        \n",
    "        trn_data_loader = torch.utils.data.DataLoader(\n",
    "            dataset=torch.utils.data.Subset(dataset, trn_idx_vals), \n",
    "            shuffle=True,\n",
    "            batch_size=50, \n",
    "            num_workers=2\n",
    "        )\n",
    "        \n",
    "        tst_data_loader = torch.utils.data.DataLoader(\n",
    "            dataset=torch.utils.data.Subset(dataset, tst_idx_vals), \n",
    "            shuffle=True,\n",
    "            batch_size=50, \n",
    "            num_workers=2\n",
    "        )\n",
    "        \n",
    "        all_loss, epoch_loss, accuracy_vals = exec_obj.training_model_executor(trn_data_loader,  num_of_epochs)\n",
    "        avg_loss = np.mean(all_loss)\n",
    "        avg_accuracy = np.mean(accuracy_vals)\n",
    "        \n",
    "        result_loss_vals.append(avg_loss)\n",
    "        all_epoch_loss.append(epoch_loss)\n",
    "        result_acy_vals.append(avg_accuracy)\n",
    "        \n",
    "        \n",
    "    return all_epoch_loss, result_loss_vals, result_acy_vals\n",
    "        \n",
    "        \n",
    "\n",
    "exec_obj = Executor()        \n",
    "        \n",
    "all_epoch_loss, result_loss_vals, result_acy_vals = doKfold(exec_obj, tr_ds, num_of_folds=10, num_of_epochs=10)"
   ]
  },
  {
   "cell_type": "markdown",
   "metadata": {},
   "source": [
    "# Save the Kfold trained Model"
   ]
  },
  {
   "cell_type": "code",
   "execution_count": 40,
   "metadata": {},
   "outputs": [],
   "source": [
    "kfold_save_path = os.path.join(os.path.abspath(\".\"), \"Kfold_trained_model.pt\")\n",
    "torch.save(exec_obj.network.state_dict(), kfold_save_path)"
   ]
  },
  {
   "cell_type": "markdown",
   "metadata": {},
   "source": [
    "# Load the Kfold trained Model"
   ]
  },
  {
   "cell_type": "code",
   "execution_count": 41,
   "metadata": {},
   "outputs": [],
   "source": [
    "exec_obj = Executor()\n",
    "\n",
    "model = convolutional_neural_network.convolutional_neural_network()\n",
    "\n",
    "model.load_state_dict(torch.load(kfold_save_path))\n",
    "\n",
    "exec_obj.network = model"
   ]
  },
  {
   "cell_type": "code",
   "execution_count": 42,
   "metadata": {},
   "outputs": [
    {
     "name": "stdout",
     "output_type": "stream",
     "text": [
      "Model accuracy for test dataset : 98.0\n",
      "450\n"
     ]
    }
   ],
   "source": [
    "testdata_accuracy = exec_obj.calculate_model_accuracy(te_loader)\n",
    "print(\"Model accuracy for test dataset :\",testdata_accuracy)\n",
    "print(len(te_ds))"
   ]
  },
  {
   "cell_type": "markdown",
   "metadata": {},
   "source": [
    "# Evaluating the Model"
   ]
  },
  {
   "cell_type": "code",
   "execution_count": 21,
   "metadata": {},
   "outputs": [
    {
     "data": {
      "image/png": "[encoded data removed]",
      "text/plain": [
       "<Figure size 432x288 with 2 Axes>"
      ]
     },
     "metadata": {},
     "output_type": "display_data"
    }
   ],
   "source": [
    "calc_model_weights, actual_results = next(iter(te_loader))\n",
    "model_net = exec_obj.network(calc_model_weights)\n",
    "pred_vals = torch.argmax(model_net, dim = 1)\n",
    "\n",
    "sb.set(font_scale=1.5) \n",
    "sb.heatmap(\n",
    "    confusion_matrix(actual_results.numpy(),pred_vals.numpy()),\n",
    "    annot=True,\n",
    "    annot_kws={\"size\": 16},\n",
    "    cmap=\"Blues\"\n",
    ")  \n",
    "plt.show()"
   ]
  },
  {
   "cell_type": "markdown",
   "metadata": {},
   "source": [
    "# Classification report"
   ]
  },
  {
   "cell_type": "code",
   "execution_count": 22,
   "metadata": {},
   "outputs": [
    {
     "name": "stdout",
     "output_type": "stream",
     "text": [
      "              precision    recall  f1-score   support\n",
      "\n",
      "   with mask       0.97      0.99      0.98       141\n",
      "without mask       0.99      0.96      0.98       143\n",
      "not a person       0.98      1.00      0.99       166\n",
      "\n",
      "    accuracy                           0.98       450\n",
      "   macro avg       0.98      0.98      0.98       450\n",
      "weighted avg       0.98      0.98      0.98       450\n",
      "\n"
     ]
    }
   ],
   "source": [
    "report = classification_report(\n",
    "    actual_results.numpy(),\n",
    "    pred_vals.numpy(), \n",
    "    target_names=['with mask','without mask','not a person']\n",
    ")\n",
    "print(report)  "
   ]
  }
 ],
 "metadata": {
  "colab": {
   "collapsed_sections": [],
   "name": "Part1.ipynb",
   "provenance": [],
   "toc_visible": true
  },
  "kernelspec": {
   "display_name": "Python 3",
   "language": "python",
   "name": "python3"
  },
  "language_info": {
   "codemirror_mode": {
    "name": "ipython",
    "version": 3
   },
   "file_extension": ".py",
   "mimetype": "text/x-python",
   "name": "python",
   "nbconvert_exporter": "python",
   "pygments_lexer": "ipython3",
   "version": "3.8.5"
  },
  "widgets": {
   "application/vnd.jupyter.widget-state+json": {
    "09202ce93a8b416c8220859fef3e4f74": {
     "model_module": "@jupyter-widgets/base",
     "model_name": "LayoutModel",
     "state": {
      "_model_module": "@jupyter-widgets/base",
      "_model_module_version": "1.2.0",
      "_model_name": "LayoutModel",
      "_view_count": null,
      "_view_module": "@jupyter-widgets/base",
      "_view_module_version": "1.2.0",
      "_view_name": "LayoutView",
      "align_content": null,
      "align_items": null,
      "align_self": null,
      "border": null,
      "bottom": null,
      "display": null,
      "flex": null,
      "flex_flow": null,
      "grid_area": null,
      "grid_auto_columns": null,
      "grid_auto_flow": null,
      "grid_auto_rows": null,
      "grid_column": null,
      "grid_gap": null,
      "grid_row": null,
      "grid_template_areas": null,
      "grid_template_columns": null,
      "grid_template_rows": null,
      "height": null,
      "justify_content": null,
      "justify_items": null,
      "left": null,
      "margin": null,
      "max_height": null,
      "max_width": null,
      "min_height": null,
      "min_width": null,
      "object_fit": null,
      "object_position": null,
      "order": null,
      "overflow": null,
      "overflow_x": null,
      "overflow_y": null,
      "padding": null,
      "right": null,
      "top": null,
      "visibility": null,
      "width": null
     }
    },
    "369378431af54073ad74d3259648d67e": {
     "model_module": "@jupyter-widgets/controls",
     "model_name": "HBoxModel",
     "state": {
      "_dom_classes": [],
      "_model_module": "@jupyter-widgets/controls",
      "_model_module_version": "1.5.0",
      "_model_name": "HBoxModel",
      "_view_count": null,
      "_view_module": "@jupyter-widgets/controls",
      "_view_module_version": "1.5.0",
      "_view_name": "HBoxView",
      "box_style": "",
      "children": [
       "IPY_MODEL_565c525fcbfd4114a896bc8d40983bf8",
       "IPY_MODEL_ce0a824e8dde472bb869c569a5b58a81"
      ],
      "layout": "IPY_MODEL_ffdb03d27cb44ab1976b704aa5dcc9c3"
     }
    },
    "555fe91350b04d5e91b533c10e025e83": {
     "model_module": "@jupyter-widgets/controls",
     "model_name": "ProgressStyleModel",
     "state": {
      "_model_module": "@jupyter-widgets/controls",
      "_model_module_version": "1.5.0",
      "_model_name": "ProgressStyleModel",
      "_view_count": null,
      "_view_module": "@jupyter-widgets/base",
      "_view_module_version": "1.2.0",
      "_view_name": "StyleView",
      "bar_color": null,
      "description_width": "initial"
     }
    },
    "565c525fcbfd4114a896bc8d40983bf8": {
     "model_module": "@jupyter-widgets/controls",
     "model_name": "FloatProgressModel",
     "state": {
      "_dom_classes": [],
      "_model_module": "@jupyter-widgets/controls",
      "_model_module_version": "1.5.0",
      "_model_name": "FloatProgressModel",
      "_view_count": null,
      "_view_module": "@jupyter-widgets/controls",
      "_view_module_version": "1.5.0",
      "_view_name": "ProgressView",
      "bar_style": "success",
      "description": "Training: 100%",
      "description_tooltip": null,
      "layout": "IPY_MODEL_fbf7c3562fb04db3adb1ab1a510755f2",
      "max": 10,
      "min": 0,
      "orientation": "horizontal",
      "style": "IPY_MODEL_555fe91350b04d5e91b533c10e025e83",
      "value": 10
     }
    },
    "b6583579f4ea488694744bb9958a00b5": {
     "model_module": "@jupyter-widgets/controls",
     "model_name": "DescriptionStyleModel",
     "state": {
      "_model_module": "@jupyter-widgets/controls",
      "_model_module_version": "1.5.0",
      "_model_name": "DescriptionStyleModel",
      "_view_count": null,
      "_view_module": "@jupyter-widgets/base",
      "_view_module_version": "1.2.0",
      "_view_name": "StyleView",
      "description_width": ""
     }
    },
    "ce0a824e8dde472bb869c569a5b58a81": {
     "model_module": "@jupyter-widgets/controls",
     "model_name": "HTMLModel",
     "state": {
      "_dom_classes": [],
      "_model_module": "@jupyter-widgets/controls",
      "_model_module_version": "1.5.0",
      "_model_name": "HTMLModel",
      "_view_count": null,
      "_view_module": "@jupyter-widgets/controls",
      "_view_module_version": "1.5.0",
      "_view_name": "HTMLView",
      "description": "",
      "description_tooltip": null,
      "layout": "IPY_MODEL_09202ce93a8b416c8220859fef3e4f74",
      "placeholder": "​",
      "style": "IPY_MODEL_b6583579f4ea488694744bb9958a00b5",
      "value": " 10/10 [58:51&lt;00:00, 353.18s/it]"
     }
    },
    "fbf7c3562fb04db3adb1ab1a510755f2": {
     "model_module": "@jupyter-widgets/base",
     "model_name": "LayoutModel",
     "state": {
      "_model_module": "@jupyter-widgets/base",
      "_model_module_version": "1.2.0",
      "_model_name": "LayoutModel",
      "_view_count": null,
      "_view_module": "@jupyter-widgets/base",
      "_view_module_version": "1.2.0",
      "_view_name": "LayoutView",
      "align_content": null,
      "align_items": null,
      "align_self": null,
      "border": null,
      "bottom": null,
      "display": null,
      "flex": null,
      "flex_flow": null,
      "grid_area": null,
      "grid_auto_columns": null,
      "grid_auto_flow": null,
      "grid_auto_rows": null,
      "grid_column": null,
      "grid_gap": null,
      "grid_row": null,
      "grid_template_areas": null,
      "grid_template_columns": null,
      "grid_template_rows": null,
      "height": null,
      "justify_content": null,
      "justify_items": null,
      "left": null,
      "margin": null,
      "max_height": null,
      "max_width": null,
      "min_height": null,
      "min_width": null,
      "object_fit": null,
      "object_position": null,
      "order": null,
      "overflow": null,
      "overflow_x": null,
      "overflow_y": null,
      "padding": null,
      "right": null,
      "top": null,
      "visibility": null,
      "width": null
     }
    },
    "ffdb03d27cb44ab1976b704aa5dcc9c3": {
     "model_module": "@jupyter-widgets/base",
     "model_name": "LayoutModel",
     "state": {
      "_model_module": "@jupyter-widgets/base",
      "_model_module_version": "1.2.0",
      "_model_name": "LayoutModel",
      "_view_count": null,
      "_view_module": "@jupyter-widgets/base",
      "_view_module_version": "1.2.0",
      "_view_name": "LayoutView",
      "align_content": null,
      "align_items": null,
      "align_self": null,
      "border": null,
      "bottom": null,
      "display": null,
      "flex": null,
      "flex_flow": null,
      "grid_area": null,
      "grid_auto_columns": null,
      "grid_auto_flow": null,
      "grid_auto_rows": null,
      "grid_column": null,
      "grid_gap": null,
      "grid_row": null,
      "grid_template_areas": null,
      "grid_template_columns": null,
      "grid_template_rows": null,
      "height": null,
      "justify_content": null,
      "justify_items": null,
      "left": null,
      "margin": null,
      "max_height": null,
      "max_width": null,
      "min_height": null,
      "min_width": null,
      "object_fit": null,
      "object_position": null,
      "order": null,
      "overflow": null,
      "overflow_x": null,
      "overflow_y": null,
      "padding": null,
      "right": null,
      "top": null,
      "visibility": null,
      "width": null
     }
    }
   }
  }
 },
 "nbformat": 4,
 "nbformat_minor": 1
}
