{
 "cells": [
  {
   "cell_type": "code",
   "execution_count": 1,
   "metadata": {
    "id": "rIFcfiPrO4Eu"
   },
   "outputs": [],
   "source": [
    "import os\n",
    "import matplotlib.pyplot as plt\n",
    "import numpy as np\n",
    "import sklearn\n",
    "from sklearn.metrics import confusion_matrix, classification_report\n",
    "import seaborn as sb\n",
    "from preprocessing import *\n",
    "from model.convolutional_neural_network import *\n",
    "from sklearn.model_selection import KFold\n",
    "from model.Executor import *\n",
    "import warnings  \n",
    "warnings.filterwarnings(\"ignore\")\n",
    "\n",
    "import torch.nn.functional as functional\n"
   ]
  },
  {
   "cell_type": "markdown",
   "metadata": {},
   "source": [
    "# Training Data"
   ]
  },
  {
   "cell_type": "markdown",
   "metadata": {},
   "source": [
    "The statistics on the size of our dataset."
   ]
  },
  {
   "cell_type": "code",
   "execution_count": 2,
   "metadata": {
    "id": "a7q5Eo1opSUe"
   },
   "outputs": [
    {
     "data": {
      "image/png": "[encoded data removed]",
      "text/plain": [
       "<Figure size 648x216 with 1 Axes>"
      ]
     },
     "metadata": {
      "needs_background": "light"
     },
     "output_type": "display_data"
    }
   ],
   "source": [
    "names = ['Not Person', 'With Mask', 'Without Mask']\n",
    "N = []\n",
    "N.append(len(os.listdir(\"./dataset/NotPerson\")))\n",
    "N.append(len(os.listdir(\"./dataset/WithMask\")))\n",
    "N.append(len(os.listdir(\"./dataset/WithoutMask\")))\n",
    "plt.figure(figsize=(9, 3))\n",
    "plt.bar(names, N)\n",
    "plt.show()"
   ]
  },
  {
   "cell_type": "markdown",
   "metadata": {},
   "source": [
    "Create datasets for training and testing the model."
   ]
  },
  {
   "cell_type": "code",
   "execution_count": 3,
   "metadata": {},
   "outputs": [],
   "source": [
    "dataset = load_data(\"./dataset\")\n",
    "tr_ds, te_ds = split_data(dataset)\n",
    "tr_loader = train_dataloarder(tr_ds)\n",
    "te_loader = test_dataloarder(te_ds)"
   ]
  },
  {
   "cell_type": "markdown",
   "metadata": {
    "id": "_XeDSNTVCHrm"
   },
   "source": [
    "# Deep Learning"
   ]
  },
  {
   "cell_type": "markdown",
   "metadata": {},
   "source": [
    "Implementing and training the CNN model."
   ]
  },
  {
   "cell_type": "code",
   "execution_count": 36,
   "metadata": {
    "colab": {
     "base_uri": "https://localhost:8080/",
     "height": 1000,
     "referenced_widgets": [
      "369378431af54073ad74d3259648d67e",
      "ffdb03d27cb44ab1976b704aa5dcc9c3",
      "565c525fcbfd4114a896bc8d40983bf8",
      "ce0a824e8dde472bb869c569a5b58a81",
      "555fe91350b04d5e91b533c10e025e83",
      "fbf7c3562fb04db3adb1ab1a510755f2",
      "b6583579f4ea488694744bb9958a00b5",
      "09202ce93a8b416c8220859fef3e4f74"
     ]
    },
    "id": "ibbaSGkXuPTv",
    "outputId": "4ec03f49-69aa-4d88-8915-68ef05b8356d",
    "scrolled": true
   },
   "outputs": [
    {
     "name": "stdout",
     "output_type": "stream",
     "text": [
      "  0/20... rate=0 Hz, eta=?, total=0:00:00, wall=17:16 EST\n",
      "current iter acc: 78.3704\n",
      "current iter loss: 80.4656\n",
      "  1/20... rate=0.04 Hz, eta=0:08:55, total=0:00:28, wall=17:17 EST\n",
      "current iter acc: 87.6296\n",
      "current iter loss: 69.5831\n",
      "  2/20... rate=0.03 Hz, eta=0:08:42, total=0:00:58, wall=17:17 EST\n",
      "current iter acc: 81.4074\n",
      "current iter loss: 62.0012\n",
      "  3/20... rate=0.04 Hz, eta=0:08:00, total=0:01:24, wall=17:17 EST\n",
      "current iter acc: 87.8519\n",
      "current iter loss: 57.3308\n",
      "  4/20... rate=0.04 Hz, eta=0:07:23, total=0:01:50, wall=17:18 EST\n",
      "current iter acc: 94.1481\n",
      "current iter loss: 52.9651\n",
      "  5/20... rate=0.04 Hz, eta=0:06:50, total=0:02:16, wall=17:18 EST\n",
      "current iter acc: 90.3704\n",
      "current iter loss: 49.4752\n",
      "  6/20... rate=0.04 Hz, eta=0:06:29, total=0:02:46, wall=17:19 EST\n",
      "current iter acc: 94.9630\n",
      "current iter loss: 46.2112\n",
      "  7/20... rate=0.04 Hz, eta=0:06:05, total=0:03:16, wall=17:19 EST\n",
      "current iter acc: 96.1481\n",
      "current iter loss: 43.5602\n",
      "  8/20... rate=0.04 Hz, eta=0:05:41, total=0:03:47, wall=17:20 EST\n",
      "current iter acc: 94.0741\n",
      "current iter loss: 41.1015\n",
      "  9/20... rate=0.03 Hz, eta=0:05:19, total=0:04:21, wall=17:20 EST\n",
      "current iter acc: 96.3704\n",
      "current iter loss: 38.7966\n",
      " 10/20... rate=0.03 Hz, eta=0:04:50, total=0:04:50, wall=17:21 EST\n",
      "current iter acc: 97.8519\n",
      "current iter loss: 37.0047\n",
      " 11/20... rate=0.03 Hz, eta=0:04:22, total=0:05:21, wall=17:21 EST\n",
      "current iter acc: 98.1481\n",
      "current iter loss: 35.1219\n",
      " 12/20... rate=0.03 Hz, eta=0:03:52, total=0:05:48, wall=17:22 EST\n",
      "current iter acc: 98.0000\n",
      "current iter loss: 33.6482\n",
      " 13/20... rate=0.03 Hz, eta=0:03:22, total=0:06:16, wall=17:22 EST\n",
      "current iter acc: 98.8148\n",
      "current iter loss: 32.1142\n",
      " 14/20... rate=0.03 Hz, eta=0:02:53, total=0:06:45, wall=17:23 EST\n",
      "current iter acc: 97.6296\n",
      "current iter loss: 30.4287\n",
      " 15/20... rate=0.03 Hz, eta=0:02:23, total=0:07:11, wall=17:23 EST\n",
      "current iter acc: 98.9630\n",
      "current iter loss: 29.1420\n",
      " 16/20... rate=0.03 Hz, eta=0:01:54, total=0:07:37, wall=17:24 EST\n",
      "current iter acc: 97.8519\n",
      "current iter loss: 27.8388\n",
      " 17/20... rate=0.04 Hz, eta=0:01:25, total=0:08:02, wall=17:24 EST\n",
      "current iter acc: 97.7037\n",
      "current iter loss: 27.1439\n",
      " 18/20... rate=0.04 Hz, eta=0:00:56, total=0:08:28, wall=17:25 EST\n",
      "current iter acc: 98.9630\n",
      "current iter loss: 26.1870\n",
      " 19/20... rate=0.04 Hz, eta=0:00:28, total=0:08:54, wall=17:25 EST\n",
      "current iter acc: 99.2593\n",
      "current iter loss: 25.3758\n",
      " 20/20... rate=0.04 Hz, eta=0:00:00, total=0:09:20, wall=17:25 EST\n"
     ]
    }
   ],
   "source": [
    "num_epochs = 20\n",
    "exec_obj = Executor()\n",
    "all_loss,iter_loss,accuracy = exec_obj.training_model_executor(\n",
    "    tr_loader,\n",
    "    num_epochs\n",
    ")\n"
   ]
  },
  {
   "cell_type": "code",
   "execution_count": 37,
   "metadata": {
    "id": "ibPpEZvq2zPR"
   },
   "outputs": [
    {
     "name": "stdout",
     "output_type": "stream",
     "text": [
      "Model accuracy for test dataset : 96.66666666666667\n",
      "450\n"
     ]
    }
   ],
   "source": [
    "testdata_accuracy = exec_obj.calculate_model_accuracy(te_loader)\n",
    "print(\"Model accuracy for test dataset :\",testdata_accuracy)\n",
    "print(len(te_ds))"
   ]
  },
  {
   "cell_type": "markdown",
   "metadata": {
    "id": "XTbun3w6Cl6I"
   },
   "source": [
    "# Evaluation"
   ]
  },
  {
   "cell_type": "markdown",
   "metadata": {},
   "source": [
    "Confusion matrix."
   ]
  },
  {
   "cell_type": "code",
   "execution_count": 38,
   "metadata": {
    "colab": {
     "base_uri": "https://localhost:8080/"
    },
    "id": "QdQUEphVuZri",
    "outputId": "2e7c158b-9042-479c-beaf-5604f10b9f14"
   },
   "outputs": [
    {
     "data": {
      "image/png": "[encoded data removed]",
      "text/plain": [
       "<Figure size 432x288 with 2 Axes>"
      ]
     },
     "metadata": {},
     "output_type": "display_data"
    }
   ],
   "source": [
    "calc_model_weights, actual_results = next(iter(te_loader))\n",
    "model_net = exec_obj.network(calc_model_weights)\n",
    "pred_vals = torch.argmax(model_net, dim = 1)\n",
    "\n",
    "sb.set(font_scale=1.5) \n",
    "sb.heatmap(\n",
    "    confusion_matrix(actual_results.numpy(),pred_vals.numpy()),\n",
    "    annot=True,\n",
    "    annot_kws={\"size\": 16},\n",
    "    cmap=\"Blues\"\n",
    ")  \n",
    "plt.show()"
   ]
  },
  {
   "cell_type": "markdown",
   "metadata": {
    "id": "KgU3RnHVCsDI"
   },
   "source": [
    "Creating a table of results in order to show the accuracy, precision, recall and f1-score."
   ]
  },
  {
   "cell_type": "code",
   "execution_count": 39,
   "metadata": {
    "colab": {
     "base_uri": "https://localhost:8080/"
    },
    "id": "K7fn-Y5hucwf",
    "outputId": "1ee497f3-612f-4ce9-ac9b-e078f4c62f52",
    "scrolled": true
   },
   "outputs": [
    {
     "name": "stdout",
     "output_type": "stream",
     "text": [
      "              precision    recall  f1-score   support\n",
      "\n",
      "   with mask       0.97      0.97      0.97       141\n",
      "without mask       0.93      0.98      0.95       143\n",
      "not a person       1.00      0.95      0.98       166\n",
      "\n",
      "    accuracy                           0.97       450\n",
      "   macro avg       0.97      0.97      0.97       450\n",
      "weighted avg       0.97      0.97      0.97       450\n",
      "\n"
     ]
    }
   ],
   "source": [
    "report = classification_report(\n",
    "    actual_results.numpy(),\n",
    "    pred_vals.numpy(), \n",
    "    target_names=['with mask','without mask','not a person']\n",
    ")\n",
    "print(report)  "
   ]
  },
  {
   "cell_type": "markdown",
   "metadata": {},
   "source": [
    "# Saving the trained model."
   ]
  },
  {
   "cell_type": "code",
   "execution_count": 40,
   "metadata": {},
   "outputs": [],
   "source": [
    "save_path = os.path.join(os.path.abspath(\".\"), \"trained_model.pt\")\n",
    "torch.save(exec_obj.network.state_dict(), save_path)"
   ]
  },
  {
   "cell_type": "code",
   "execution_count": 41,
   "metadata": {},
   "outputs": [],
   "source": [
    "exec_obj = Executor()\n",
    "\n",
    "model = convolutional_neural_network.convolutional_neural_network()\n",
    "\n",
    "model.load_state_dict(torch.load(save_path))\n",
    "\n",
    "exec_obj.network = model"
   ]
  },
  {
   "cell_type": "code",
   "execution_count": 42,
   "metadata": {},
   "outputs": [
    {
     "name": "stdout",
     "output_type": "stream",
     "text": [
      "Model accuracy for test dataset(Female): 98.75\n",
      "Model accuracy for test dataset(Male): 97.08333333333333\n",
      "Model accuracy for test dataset(All): 97.6470588235294\n"
     ]
    }
   ],
   "source": [
    "dataset_female = load_data(\"./biasTestData/Female\")\n",
    "dataset_male = load_data(\"./biasTestData/Male\")\n",
    "dataset_all = load_data(\"./biasTestData/All\")\n",
    "\n",
    "te_loader_female = test_dataloarder(dataset_female)\n",
    "te_loader_male = test_dataloarder(dataset_male)\n",
    "te_loader_all = test_dataloarder(dataset_all)\n",
    "\n",
    "print(\"Model accuracy for test dataset(Female):\", exec_obj.calculate_model_accuracy(te_loader_female))\n",
    "print(\"Model accuracy for test dataset(Male):\", exec_obj.calculate_model_accuracy(te_loader_male))\n",
    "print(\"Model accuracy for test dataset(All):\", exec_obj.calculate_model_accuracy(te_loader_all))\n",
    "\n"
   ]
  },
  {
   "cell_type": "markdown",
   "metadata": {},
   "source": [
    "# Evaluation the model - Female "
   ]
  },
  {
   "cell_type": "code",
   "execution_count": 43,
   "metadata": {},
   "outputs": [
    {
     "data": {
      "image/png": "[encoded data removed]",
      "text/plain": [
       "<Figure size 432x288 with 2 Axes>"
      ]
     },
     "metadata": {},
     "output_type": "display_data"
    }
   ],
   "source": [
    "calc_model_weights, actual_results = next(iter(te_loader_female))\n",
    "model_net = exec_obj.network(calc_model_weights)\n",
    "pred_vals = torch.argmax(model_net, dim = 1)\n",
    "\n",
    "sb.set(font_scale=1.5) \n",
    "sb.heatmap(\n",
    "    confusion_matrix(actual_results.numpy(),pred_vals.numpy()),\n",
    "    annot=True,\n",
    "    annot_kws={\"size\": 16},\n",
    "    cmap=\"Blues\"\n",
    ")  \n",
    "plt.show()"
   ]
  },
  {
   "cell_type": "code",
   "execution_count": 44,
   "metadata": {},
   "outputs": [
    {
     "name": "stdout",
     "output_type": "stream",
     "text": [
      "              precision    recall  f1-score   support\n",
      "\n",
      "   with mask       1.00      0.99      0.99       140\n",
      "without mask       0.94      1.00      0.97        50\n",
      "not a person       1.00      0.98      0.99        50\n",
      "\n",
      "    accuracy                           0.99       240\n",
      "   macro avg       0.98      0.99      0.98       240\n",
      "weighted avg       0.99      0.99      0.99       240\n",
      "\n"
     ]
    }
   ],
   "source": [
    "report = classification_report(\n",
    "    actual_results.numpy(),\n",
    "    pred_vals.numpy(), \n",
    "    target_names=['with mask','without mask','not a person']\n",
    ")\n",
    "print(report)  "
   ]
  },
  {
   "cell_type": "markdown",
   "metadata": {},
   "source": [
    "# Evaluation the model - Male "
   ]
  },
  {
   "cell_type": "code",
   "execution_count": 45,
   "metadata": {},
   "outputs": [
    {
     "data": {
      "image/png": "[encoded data removed]",
      "text/plain": [
       "<Figure size 432x288 with 2 Axes>"
      ]
     },
     "metadata": {},
     "output_type": "display_data"
    }
   ],
   "source": [
    "calc_model_weights, actual_results = next(iter(te_loader_male))\n",
    "model_net = exec_obj.network(calc_model_weights)\n",
    "pred_vals = torch.argmax(model_net, dim = 1)\n",
    "\n",
    "sb.set(font_scale=1.5) \n",
    "sb.heatmap(\n",
    "    confusion_matrix(actual_results.numpy(),pred_vals.numpy()),\n",
    "    annot=True,\n",
    "    annot_kws={\"size\": 16},\n",
    "    cmap=\"Blues\"\n",
    ")  \n",
    "plt.show()"
   ]
  },
  {
   "cell_type": "code",
   "execution_count": 47,
   "metadata": {},
   "outputs": [
    {
     "name": "stdout",
     "output_type": "stream",
     "text": [
      "              precision    recall  f1-score   support\n",
      "\n",
      "   with mask       0.99      0.99      0.99       140\n",
      "without mask       0.89      0.98      0.93        50\n",
      "not a person       1.00      0.92      0.96        50\n",
      "\n",
      "    accuracy                           0.97       240\n",
      "   macro avg       0.96      0.96      0.96       240\n",
      "weighted avg       0.97      0.97      0.97       240\n",
      "\n"
     ]
    }
   ],
   "source": [
    "report = classification_report(\n",
    "    actual_results.numpy(),\n",
    "    pred_vals.numpy(), \n",
    "    target_names=['with mask','without mask','not a person']\n",
    ")\n",
    "print(report)  "
   ]
  },
  {
   "cell_type": "markdown",
   "metadata": {},
   "source": [
    "# Evaluation: K-fold cross-validation"
   ]
  },
  {
   "cell_type": "code",
   "execution_count": 12,
   "metadata": {},
   "outputs": [
    {
     "name": "stdout",
     "output_type": "stream",
     "text": [
      "Start---KFOLD iteration 0\n",
      "Index lengths -- train idxs:1215 test idxs:135\n",
      "  0/10... rate=0 Hz, eta=?, total=0:00:00, wall=02:57 EST\n",
      "current iter acc: 56.3786\n",
      "current iter loss: 92.8876\n",
      "  1/10... rate=0.10 Hz, eta=0:01:32, total=0:00:10, wall=02:57 EST\n",
      "current iter acc: 81.0700\n",
      "current iter loss: 65.1167\n",
      "  2/10... rate=0.09 Hz, eta=0:01:29, total=0:00:22, wall=02:57 EST\n",
      "current iter acc: 94.0741\n",
      "current iter loss: 51.2241\n",
      "  3/10... rate=0.10 Hz, eta=0:01:13, total=0:00:31, wall=02:57 EST\n",
      "current iter acc: 95.9671\n",
      "current iter loss: 41.7213\n",
      "  4/10... rate=0.10 Hz, eta=0:01:00, total=0:00:40, wall=02:58 EST\n",
      "current iter acc: 98.5185\n",
      "current iter loss: 35.0148\n",
      "  5/10... rate=0.10 Hz, eta=0:00:50, total=0:00:50, wall=02:58 EST\n",
      "current iter acc: 99.3416\n",
      "current iter loss: 29.7824\n",
      "  6/10... rate=0.10 Hz, eta=0:00:40, total=0:01:00, wall=02:58 EST\n",
      "current iter acc: 100.0000\n",
      "current iter loss: 25.7751\n",
      "  7/10... rate=0.10 Hz, eta=0:00:29, total=0:01:09, wall=02:58 EST\n",
      "current iter acc: 93.0864\n",
      "current iter loss: 22.8862\n",
      "  8/10... rate=0.10 Hz, eta=0:00:19, total=0:01:19, wall=02:58 EST\n",
      "current iter acc: 94.9794\n",
      "current iter loss: 21.6398\n",
      "  9/10... rate=0.10 Hz, eta=0:00:10, total=0:01:30, wall=02:58 EST\n",
      "current iter acc: 98.8477\n",
      "current iter loss: 20.4113\n",
      " 10/10... rate=0.10 Hz, eta=0:00:00, total=0:01:39, wall=02:59 EST\n",
      "Start---KFOLD iteration 1\n",
      "Index lengths -- train idxs:1215 test idxs:135\n",
      "  0/10... rate=0 Hz, eta=?, total=0:00:00, wall=02:59 EST\n",
      "current iter acc: 99.3416\n",
      "current iter loss: 7.2449\n",
      "  1/10... rate=0.11 Hz, eta=0:01:22, total=0:00:09, wall=02:59 EST\n",
      "current iter acc: 99.6708\n",
      "current iter loss: 4.8489\n",
      "  2/10... rate=0.11 Hz, eta=0:01:13, total=0:00:18, wall=02:59 EST\n",
      "current iter acc: 99.9177\n",
      "current iter loss: 3.6223\n",
      "  3/10... rate=0.11 Hz, eta=0:01:04, total=0:00:27, wall=02:59 EST\n",
      "current iter acc: 99.7531\n",
      "current iter loss: 2.9583\n",
      "  4/10... rate=0.11 Hz, eta=0:00:55, total=0:00:36, wall=02:59 EST\n",
      "current iter acc: 100.0000\n",
      "current iter loss: 2.5948\n",
      "  5/10... rate=0.11 Hz, eta=0:00:46, total=0:00:46, wall=02:59 EST\n",
      "current iter acc: 99.9177\n",
      "current iter loss: 2.2717\n",
      "  6/10... rate=0.11 Hz, eta=0:00:36, total=0:00:55, wall=03:00 EST\n",
      "current iter acc: 100.0000\n",
      "current iter loss: 2.0058\n",
      "  7/10... rate=0.11 Hz, eta=0:00:27, total=0:01:04, wall=03:00 EST\n",
      "current iter acc: 99.5062\n",
      "current iter loss: 1.8071\n",
      "  8/10... rate=0.11 Hz, eta=0:00:18, total=0:01:13, wall=03:00 EST\n",
      "current iter acc: 99.4239\n",
      "current iter loss: 1.7303\n",
      "  9/10... rate=0.11 Hz, eta=0:00:09, total=0:01:22, wall=03:00 EST\n",
      "current iter acc: 99.8354\n",
      "current iter loss: 1.6589\n",
      " 10/10... rate=0.11 Hz, eta=0:00:00, total=0:01:32, wall=03:00 EST\n",
      "Start---KFOLD iteration 2\n",
      "Index lengths -- train idxs:1215 test idxs:135\n",
      "  0/10... rate=0 Hz, eta=?, total=0:00:00, wall=03:00 EST\n",
      "current iter acc: 99.5885\n",
      "current iter loss: 2.6262\n",
      "  1/10... rate=0.11 Hz, eta=0:01:24, total=0:00:09, wall=03:00 EST\n",
      "current iter acc: 99.3416\n",
      "current iter loss: 2.0578\n",
      "  2/10... rate=0.11 Hz, eta=0:01:15, total=0:00:18, wall=03:00 EST\n",
      "current iter acc: 99.5062\n",
      "current iter loss: 1.8229\n",
      "  3/10... rate=0.10 Hz, eta=0:01:07, total=0:00:28, wall=03:01 EST\n",
      "current iter acc: 99.9177\n",
      "current iter loss: 1.4389\n",
      "  4/10... rate=0.10 Hz, eta=0:00:59, total=0:00:39, wall=03:01 EST\n",
      "current iter acc: 99.9177\n",
      "current iter loss: 1.2134\n",
      "  5/10... rate=0.10 Hz, eta=0:00:49, total=0:00:49, wall=03:01 EST\n",
      "current iter acc: 98.8477\n",
      "current iter loss: 1.1413\n",
      "  6/10... rate=0.10 Hz, eta=0:00:38, total=0:00:58, wall=03:01 EST\n",
      "current iter acc: 97.5309\n",
      "current iter loss: 1.1413\n",
      "  7/10... rate=0.10 Hz, eta=0:00:28, total=0:01:07, wall=03:01 EST\n",
      "current iter acc: 99.5062\n",
      "current iter loss: 1.1413\n",
      "  8/10... rate=0.10 Hz, eta=0:00:19, total=0:01:16, wall=03:01 EST\n",
      "current iter acc: 99.8354\n",
      "current iter loss: 1.1413\n",
      "  9/10... rate=0.11 Hz, eta=0:00:09, total=0:01:25, wall=03:02 EST\n",
      "current iter acc: 97.1193\n",
      "current iter loss: 1.1413\n",
      " 10/10... rate=0.11 Hz, eta=0:00:00, total=0:01:34, wall=03:02 EST\n",
      "Start---KFOLD iteration 3\n",
      "Index lengths -- train idxs:1215 test idxs:135\n",
      "  0/10... rate=0 Hz, eta=?, total=0:00:00, wall=03:02 EST\n",
      "current iter acc: 99.3416\n",
      "current iter loss: 5.9728\n",
      "  1/10... rate=0.11 Hz, eta=0:01:21, total=0:00:09, wall=03:02 EST\n",
      "current iter acc: 99.8354\n",
      "current iter loss: 3.6257\n",
      "  2/10... rate=0.11 Hz, eta=0:01:12, total=0:00:18, wall=03:02 EST\n",
      "current iter acc: 100.0000\n",
      "current iter loss: 2.5609\n",
      "  3/10... rate=0.11 Hz, eta=0:01:03, total=0:00:27, wall=03:02 EST\n",
      "current iter acc: 100.0000\n",
      "current iter loss: 1.9845\n",
      "  4/10... rate=0.11 Hz, eta=0:00:55, total=0:00:36, wall=03:02 EST\n",
      "current iter acc: 100.0000\n",
      "current iter loss: 1.6061\n",
      "  5/10... rate=0.11 Hz, eta=0:00:46, total=0:00:46, wall=03:03 EST\n",
      "current iter acc: 100.0000\n",
      "current iter loss: 1.3463\n",
      "  6/10... rate=0.11 Hz, eta=0:00:37, total=0:00:55, wall=03:03 EST\n",
      "current iter acc: 100.0000\n",
      "current iter loss: 1.1606\n",
      "  7/10... rate=0.11 Hz, eta=0:00:27, total=0:01:05, wall=03:03 EST\n",
      "current iter acc: 100.0000\n",
      "current iter loss: 1.0197\n",
      "  8/10... rate=0.11 Hz, eta=0:00:18, total=0:01:14, wall=03:03 EST\n",
      "current iter acc: 100.0000\n",
      "current iter loss: 0.9096\n",
      "  9/10... rate=0.11 Hz, eta=0:00:09, total=0:01:23, wall=03:03 EST\n",
      "current iter acc: 100.0000\n",
      "current iter loss: 0.8210\n",
      " 10/10... rate=0.11 Hz, eta=0:00:00, total=0:01:33, wall=03:03 EST\n",
      "Start---KFOLD iteration 4\n",
      "Index lengths -- train idxs:1215 test idxs:135\n",
      "  0/10... rate=0 Hz, eta=?, total=0:00:00, wall=03:03 EST\n",
      "current iter acc: 100.0000\n",
      "current iter loss: 0.0193\n",
      "  1/10... rate=0.11 Hz, eta=0:01:22, total=0:00:09, wall=03:03 EST\n",
      "current iter acc: 100.0000\n",
      "current iter loss: 0.0193\n",
      "  2/10... rate=0.11 Hz, eta=0:01:13, total=0:00:18, wall=03:04 EST\n",
      "current iter acc: 100.0000\n",
      "current iter loss: 0.0175\n",
      "  3/10... rate=0.11 Hz, eta=0:01:03, total=0:00:27, wall=03:04 EST\n",
      "current iter acc: 100.0000\n",
      "current iter loss: 0.0175\n",
      "  4/10... rate=0.11 Hz, eta=0:00:54, total=0:00:36, wall=03:04 EST\n",
      "current iter acc: 100.0000\n",
      "current iter loss: 0.0171\n",
      "  5/10... rate=0.11 Hz, eta=0:00:45, total=0:00:45, wall=03:04 EST\n",
      "current iter acc: 100.0000\n",
      "current iter loss: 0.0166\n",
      "  6/10... rate=0.11 Hz, eta=0:00:36, total=0:00:54, wall=03:04 EST\n",
      "current iter acc: 100.0000\n",
      "current iter loss: 0.0161\n",
      "  7/10... rate=0.11 Hz, eta=0:00:27, total=0:01:03, wall=03:04 EST\n",
      "current iter acc: 100.0000\n",
      "current iter loss: 0.0157\n",
      "  8/10... rate=0.11 Hz, eta=0:00:18, total=0:01:12, wall=03:05 EST\n",
      "current iter acc: 100.0000\n",
      "current iter loss: 0.0152\n",
      "  9/10... rate=0.11 Hz, eta=0:00:09, total=0:01:21, wall=03:05 EST\n",
      "current iter acc: 100.0000\n",
      "current iter loss: 0.0147\n",
      " 10/10... rate=0.11 Hz, eta=0:00:00, total=0:01:31, wall=03:05 EST\n",
      "Start---KFOLD iteration 5\n",
      "Index lengths -- train idxs:1215 test idxs:135\n",
      "  0/10... rate=0 Hz, eta=?, total=0:00:00, wall=03:05 EST\n",
      "current iter acc: 100.0000\n",
      "current iter loss: 0.0077\n",
      "  1/10... rate=0.11 Hz, eta=0:01:22, total=0:00:09, wall=03:05 EST\n",
      "current iter acc: 100.0000\n",
      "current iter loss: 0.0077\n",
      "  2/10... rate=0.11 Hz, eta=0:01:12, total=0:00:18, wall=03:05 EST\n",
      "current iter acc: 100.0000\n",
      "current iter loss: 0.0077\n",
      "  3/10... rate=0.11 Hz, eta=0:01:04, total=0:00:27, wall=03:05 EST\n",
      "current iter acc: 100.0000\n",
      "current iter loss: 0.0077\n",
      "  4/10... rate=0.11 Hz, eta=0:00:54, total=0:00:36, wall=03:05 EST\n",
      "current iter acc: 100.0000\n",
      "current iter loss: 0.0077\n",
      "  5/10... rate=0.11 Hz, eta=0:00:45, total=0:00:45, wall=03:06 EST\n",
      "current iter acc: 100.0000\n",
      "current iter loss: 0.0077\n",
      "  6/10... rate=0.11 Hz, eta=0:00:36, total=0:00:54, wall=03:06 EST\n",
      "current iter acc: 100.0000\n",
      "current iter loss: 0.0077\n",
      "  7/10... rate=0.11 Hz, eta=0:00:27, total=0:01:03, wall=03:06 EST\n",
      "current iter acc: 100.0000\n",
      "current iter loss: 0.0077\n",
      "  8/10... rate=0.11 Hz, eta=0:00:18, total=0:01:12, wall=03:06 EST\n",
      "current iter acc: 100.0000\n",
      "current iter loss: 0.0077\n",
      "  9/10... rate=0.11 Hz, eta=0:00:09, total=0:01:21, wall=03:06 EST\n",
      "current iter acc: 100.0000\n",
      "current iter loss: 0.0075\n",
      " 10/10... rate=0.11 Hz, eta=0:00:00, total=0:01:31, wall=03:06 EST\n",
      "Start---KFOLD iteration 6\n",
      "Index lengths -- train idxs:1215 test idxs:135\n",
      "  0/10... rate=0 Hz, eta=?, total=0:00:00, wall=03:06 EST\n",
      "current iter acc: 100.0000\n",
      "current iter loss: 0.0058\n",
      "  1/10... rate=0.11 Hz, eta=0:01:21, total=0:00:09, wall=03:06 EST\n"
     ]
    },
    {
     "name": "stdout",
     "output_type": "stream",
     "text": [
      "current iter acc: 100.0000\n",
      "current iter loss: 0.0054\n",
      "  2/10... rate=0.11 Hz, eta=0:01:12, total=0:00:18, wall=03:07 EST\n",
      "current iter acc: 100.0000\n",
      "current iter loss: 0.0054\n",
      "  3/10... rate=0.11 Hz, eta=0:01:03, total=0:00:27, wall=03:07 EST\n",
      "current iter acc: 100.0000\n",
      "current iter loss: 0.0054\n",
      "  4/10... rate=0.11 Hz, eta=0:00:54, total=0:00:36, wall=03:07 EST\n",
      "current iter acc: 100.0000\n",
      "current iter loss: 0.0054\n",
      "  5/10... rate=0.11 Hz, eta=0:00:45, total=0:00:45, wall=03:07 EST\n",
      "current iter acc: 100.0000\n",
      "current iter loss: 0.0052\n",
      "  6/10... rate=0.11 Hz, eta=0:00:36, total=0:00:54, wall=03:07 EST\n",
      "current iter acc: 100.0000\n",
      "current iter loss: 0.0051\n",
      "  7/10... rate=0.11 Hz, eta=0:00:27, total=0:01:03, wall=03:07 EST\n",
      "current iter acc: 100.0000\n",
      "current iter loss: 0.0050\n",
      "  8/10... rate=0.11 Hz, eta=0:00:18, total=0:01:12, wall=03:08 EST\n",
      "current iter acc: 100.0000\n",
      "current iter loss: 0.0050\n",
      "  9/10... rate=0.11 Hz, eta=0:00:09, total=0:01:21, wall=03:08 EST\n",
      "current iter acc: 100.0000\n",
      "current iter loss: 0.0050\n",
      " 10/10... rate=0.11 Hz, eta=0:00:00, total=0:01:30, wall=03:08 EST\n",
      "Start---KFOLD iteration 7\n",
      "Index lengths -- train idxs:1215 test idxs:135\n",
      "  0/10... rate=0 Hz, eta=?, total=0:00:00, wall=03:08 EST\n",
      "current iter acc: 100.0000\n",
      "current iter loss: 0.0043\n",
      "  1/10... rate=0.11 Hz, eta=0:01:25, total=0:00:09, wall=03:08 EST\n",
      "current iter acc: 100.0000\n",
      "current iter loss: 0.0039\n",
      "  2/10... rate=0.11 Hz, eta=0:01:14, total=0:00:18, wall=03:08 EST\n",
      "current iter acc: 100.0000\n",
      "current iter loss: 0.0039\n",
      "  3/10... rate=0.11 Hz, eta=0:01:04, total=0:00:27, wall=03:08 EST\n",
      "current iter acc: 100.0000\n",
      "current iter loss: 0.0039\n",
      "  4/10... rate=0.11 Hz, eta=0:00:55, total=0:00:36, wall=03:08 EST\n",
      "current iter acc: 100.0000\n",
      "current iter loss: 0.0039\n",
      "  5/10... rate=0.11 Hz, eta=0:00:45, total=0:00:45, wall=03:09 EST\n",
      "current iter acc: 100.0000\n",
      "current iter loss: 0.0039\n",
      "  6/10... rate=0.11 Hz, eta=0:00:36, total=0:00:54, wall=03:09 EST\n",
      "current iter acc: 100.0000\n",
      "current iter loss: 0.0039\n",
      "  7/10... rate=0.11 Hz, eta=0:00:27, total=0:01:04, wall=03:09 EST\n",
      "current iter acc: 100.0000\n",
      "current iter loss: 0.0039\n",
      "  8/10... rate=0.11 Hz, eta=0:00:18, total=0:01:13, wall=03:09 EST\n",
      "current iter acc: 100.0000\n",
      "current iter loss: 0.0039\n",
      "  9/10... rate=0.11 Hz, eta=0:00:09, total=0:01:22, wall=03:09 EST\n",
      "current iter acc: 100.0000\n",
      "current iter loss: 0.0039\n",
      " 10/10... rate=0.11 Hz, eta=0:00:00, total=0:01:31, wall=03:09 EST\n",
      "Start---KFOLD iteration 8\n",
      "Index lengths -- train idxs:1215 test idxs:135\n",
      "  0/10... rate=0 Hz, eta=?, total=0:00:00, wall=03:09 EST\n",
      "current iter acc: 100.0000\n",
      "current iter loss: 0.0028\n",
      "  1/10... rate=0.11 Hz, eta=0:01:21, total=0:00:09, wall=03:10 EST\n",
      "current iter acc: 100.0000\n",
      "current iter loss: 0.0028\n",
      "  2/10... rate=0.11 Hz, eta=0:01:12, total=0:00:18, wall=03:10 EST\n",
      "current iter acc: 100.0000\n",
      "current iter loss: 0.0028\n",
      "  3/10... rate=0.11 Hz, eta=0:01:03, total=0:00:27, wall=03:10 EST\n",
      "current iter acc: 100.0000\n",
      "current iter loss: 0.0027\n",
      "  4/10... rate=0.11 Hz, eta=0:00:54, total=0:00:36, wall=03:10 EST\n",
      "current iter acc: 100.0000\n",
      "current iter loss: 0.0027\n",
      "  5/10... rate=0.11 Hz, eta=0:00:45, total=0:00:45, wall=03:10 EST\n",
      "current iter acc: 100.0000\n",
      "current iter loss: 0.0027\n",
      "  6/10... rate=0.11 Hz, eta=0:00:36, total=0:00:54, wall=03:10 EST\n",
      "current iter acc: 100.0000\n",
      "current iter loss: 0.0027\n",
      "  7/10... rate=0.11 Hz, eta=0:00:27, total=0:01:03, wall=03:10 EST\n",
      "current iter acc: 100.0000\n",
      "current iter loss: 0.0027\n",
      "  8/10... rate=0.11 Hz, eta=0:00:18, total=0:01:12, wall=03:11 EST\n",
      "current iter acc: 100.0000\n",
      "current iter loss: 0.0027\n",
      "  9/10... rate=0.11 Hz, eta=0:00:09, total=0:01:22, wall=03:11 EST\n",
      "current iter acc: 100.0000\n",
      "current iter loss: 0.0027\n",
      " 10/10... rate=0.11 Hz, eta=0:00:00, total=0:01:31, wall=03:11 EST\n",
      "Start---KFOLD iteration 9\n",
      "Index lengths -- train idxs:1215 test idxs:135\n",
      "  0/10... rate=0 Hz, eta=?, total=0:00:00, wall=03:11 EST\n",
      "current iter acc: 99.8354\n",
      "current iter loss: 2.4445\n",
      "  1/10... rate=0.11 Hz, eta=0:01:21, total=0:00:09, wall=03:11 EST\n",
      "current iter acc: 97.0370\n",
      "current iter loss: 2.4445\n",
      "  2/10... rate=0.11 Hz, eta=0:01:12, total=0:00:18, wall=03:11 EST\n",
      "current iter acc: 99.5062\n",
      "current iter loss: 2.4445\n",
      "  3/10... rate=0.11 Hz, eta=0:01:03, total=0:00:27, wall=03:11 EST\n",
      "current iter acc: 99.9177\n",
      "current iter loss: 2.4445\n",
      "  4/10... rate=0.11 Hz, eta=0:00:54, total=0:00:36, wall=03:12 EST\n",
      "current iter acc: 100.0000\n",
      "current iter loss: 2.4445\n",
      "  5/10... rate=0.11 Hz, eta=0:00:45, total=0:00:45, wall=03:12 EST\n",
      "current iter acc: 100.0000\n",
      "current iter loss: 2.4445\n",
      "  6/10... rate=0.11 Hz, eta=0:00:36, total=0:00:54, wall=03:12 EST\n",
      "current iter acc: 100.0000\n",
      "current iter loss: 2.4445\n",
      "  7/10... rate=0.11 Hz, eta=0:00:27, total=0:01:03, wall=03:12 EST\n",
      "current iter acc: 100.0000\n",
      "current iter loss: 2.4445\n",
      "  8/10... rate=0.11 Hz, eta=0:00:18, total=0:01:12, wall=03:12 EST\n",
      "current iter acc: 100.0000\n",
      "current iter loss: 2.2877\n",
      "  9/10... rate=0.11 Hz, eta=0:00:09, total=0:01:21, wall=03:12 EST\n",
      "current iter acc: 100.0000\n",
      "current iter loss: 2.0750\n",
      " 10/10... rate=0.11 Hz, eta=0:00:00, total=0:01:30, wall=03:12 EST\n"
     ]
    },
    {
     "ename": "NameError",
     "evalue": "name 'each_epoch_loss' is not defined",
     "output_type": "error",
     "traceback": [
      "\u001b[0;31m---------------------------------------------------------------------------\u001b[0m",
      "\u001b[0;31mNameError\u001b[0m                                 Traceback (most recent call last)",
      "\u001b[0;32m<ipython-input-12-d478988545ff>\u001b[0m in \u001b[0;36m<module>\u001b[0;34m\u001b[0m\n\u001b[1;32m     41\u001b[0m \u001b[0mexec_obj\u001b[0m \u001b[0;34m=\u001b[0m \u001b[0mExecutor\u001b[0m\u001b[0;34m(\u001b[0m\u001b[0;34m)\u001b[0m\u001b[0;34m\u001b[0m\u001b[0;34m\u001b[0m\u001b[0m\n\u001b[1;32m     42\u001b[0m \u001b[0;34m\u001b[0m\u001b[0m\n\u001b[0;32m---> 43\u001b[0;31m \u001b[0mprint\u001b[0m\u001b[0;34m(\u001b[0m\u001b[0mdoKfold\u001b[0m\u001b[0;34m(\u001b[0m\u001b[0mexec_obj\u001b[0m\u001b[0;34m,\u001b[0m \u001b[0mtr_ds\u001b[0m\u001b[0;34m,\u001b[0m \u001b[0mnum_of_folds\u001b[0m\u001b[0;34m=\u001b[0m\u001b[0;36m10\u001b[0m\u001b[0;34m,\u001b[0m \u001b[0mnum_of_epochs\u001b[0m\u001b[0;34m=\u001b[0m\u001b[0;36m10\u001b[0m\u001b[0;34m)\u001b[0m\u001b[0;34m)\u001b[0m\u001b[0;34m\u001b[0m\u001b[0;34m\u001b[0m\u001b[0m\n\u001b[0m",
      "\u001b[0;32m<ipython-input-12-d478988545ff>\u001b[0m in \u001b[0;36mdoKfold\u001b[0;34m(executor_obj, dataset, num_of_folds, num_of_epochs)\u001b[0m\n\u001b[1;32m     35\u001b[0m \u001b[0;34m\u001b[0m\u001b[0m\n\u001b[1;32m     36\u001b[0m \u001b[0;34m\u001b[0m\u001b[0m\n\u001b[0;32m---> 37\u001b[0;31m     \u001b[0;32mreturn\u001b[0m \u001b[0meach_epoch_loss\u001b[0m\u001b[0;34m,\u001b[0m \u001b[0mresult_loss_vals\u001b[0m\u001b[0;34m,\u001b[0m \u001b[0mresult_acy_vals\u001b[0m\u001b[0;34m\u001b[0m\u001b[0;34m\u001b[0m\u001b[0m\n\u001b[0m\u001b[1;32m     38\u001b[0m \u001b[0;34m\u001b[0m\u001b[0m\n\u001b[1;32m     39\u001b[0m \u001b[0;34m\u001b[0m\u001b[0m\n",
      "\u001b[0;31mNameError\u001b[0m: name 'each_epoch_loss' is not defined"
     ]
    }
   ],
   "source": [
    "def doKfold(executor_obj, dataset, num_of_folds=10, num_of_epochs=10):\n",
    "    all_epoch_loss = []\n",
    "    result_loss_vals = []\n",
    "    result_acy_vals = []\n",
    "    \n",
    "    cnt = 0\n",
    "    kfold_obj = KFold(num_of_folds, shuffle=True)\n",
    "    kf_dataset = kfold_obj.split(dataset)\n",
    "\n",
    "    for idx, (trn_idx_vals, tst_idx_vals) in enumerate(kf_dataset):\n",
    "        print(\"Start---KFOLD iteration {}\".format(idx))\n",
    "        print(\"Index lengths -- train idxs:{} test idxs:{}\".format(len(trn_idx_vals), len(tst_idx_vals)))\n",
    "        \n",
    "        trn_data_loader = torch.utils.data.DataLoader(\n",
    "            dataset=torch.utils.data.Subset(dataset, trn_idx_vals), \n",
    "            shuffle=True,\n",
    "            batch_size=50, \n",
    "            num_workers=2\n",
    "        )\n",
    "        \n",
    "        tst_data_loader = torch.utils.data.DataLoader(\n",
    "            dataset=torch.utils.data.Subset(dataset, tst_idx_vals), \n",
    "            shuffle=True,\n",
    "            batch_size=50, \n",
    "            num_workers=2\n",
    "        )\n",
    "        \n",
    "        all_loss, epoch_loss, accuracy_vals = exec_obj.training_model_executor(trn_data_loader,  num_of_epochs)\n",
    "        avg_loss = np.mean(all_loss)\n",
    "        avg_accuracy = np.mean(accuracy_vals)\n",
    "        \n",
    "        result_loss_vals.append(avg_loss)\n",
    "        all_epoch_loss.append(epoch_loss)\n",
    "        result_acy_vals.append(avg_accuracy)\n",
    "        \n",
    "        \n",
    "    return kf_dataset, result_loss_vals, result_acy_vals\n",
    "        \n",
    "        \n",
    "\n",
    "exec_obj = Executor()        \n",
    "        \n",
    "print(doKfold(exec_obj, tr_ds, num_of_folds=10, num_of_epochs=10))"
   ]
  },
  {
   "cell_type": "markdown",
   "metadata": {},
   "source": [
    "# Validating the Model"
   ]
  },
  {
   "cell_type": "code",
   "execution_count": null,
   "metadata": {},
   "outputs": [],
   "source": []
  }
 ],
 "metadata": {
  "colab": {
   "collapsed_sections": [],
   "name": "Part1.ipynb",
   "provenance": [],
   "toc_visible": true
  },
  "kernelspec": {
   "display_name": "Python 3",
   "language": "python",
   "name": "python3"
  },
  "language_info": {
   "codemirror_mode": {
    "name": "ipython",
    "version": 3
   },
   "file_extension": ".py",
   "mimetype": "text/x-python",
   "name": "python",
   "nbconvert_exporter": "python",
   "pygments_lexer": "ipython3",
   "version": "3.8.5"
  },
  "widgets": {
   "application/vnd.jupyter.widget-state+json": {
    "09202ce93a8b416c8220859fef3e4f74": {
     "model_module": "@jupyter-widgets/base",
     "model_name": "LayoutModel",
     "state": {
      "_model_module": "@jupyter-widgets/base",
      "_model_module_version": "1.2.0",
      "_model_name": "LayoutModel",
      "_view_count": null,
      "_view_module": "@jupyter-widgets/base",
      "_view_module_version": "1.2.0",
      "_view_name": "LayoutView",
      "align_content": null,
      "align_items": null,
      "align_self": null,
      "border": null,
      "bottom": null,
      "display": null,
      "flex": null,
      "flex_flow": null,
      "grid_area": null,
      "grid_auto_columns": null,
      "grid_auto_flow": null,
      "grid_auto_rows": null,
      "grid_column": null,
      "grid_gap": null,
      "grid_row": null,
      "grid_template_areas": null,
      "grid_template_columns": null,
      "grid_template_rows": null,
      "height": null,
      "justify_content": null,
      "justify_items": null,
      "left": null,
      "margin": null,
      "max_height": null,
      "max_width": null,
      "min_height": null,
      "min_width": null,
      "object_fit": null,
      "object_position": null,
      "order": null,
      "overflow": null,
      "overflow_x": null,
      "overflow_y": null,
      "padding": null,
      "right": null,
      "top": null,
      "visibility": null,
      "width": null
     }
    },
    "369378431af54073ad74d3259648d67e": {
     "model_module": "@jupyter-widgets/controls",
     "model_name": "HBoxModel",
     "state": {
      "_dom_classes": [],
      "_model_module": "@jupyter-widgets/controls",
      "_model_module_version": "1.5.0",
      "_model_name": "HBoxModel",
      "_view_count": null,
      "_view_module": "@jupyter-widgets/controls",
      "_view_module_version": "1.5.0",
      "_view_name": "HBoxView",
      "box_style": "",
      "children": [
       "IPY_MODEL_565c525fcbfd4114a896bc8d40983bf8",
       "IPY_MODEL_ce0a824e8dde472bb869c569a5b58a81"
      ],
      "layout": "IPY_MODEL_ffdb03d27cb44ab1976b704aa5dcc9c3"
     }
    },
    "555fe91350b04d5e91b533c10e025e83": {
     "model_module": "@jupyter-widgets/controls",
     "model_name": "ProgressStyleModel",
     "state": {
      "_model_module": "@jupyter-widgets/controls",
      "_model_module_version": "1.5.0",
      "_model_name": "ProgressStyleModel",
      "_view_count": null,
      "_view_module": "@jupyter-widgets/base",
      "_view_module_version": "1.2.0",
      "_view_name": "StyleView",
      "bar_color": null,
      "description_width": "initial"
     }
    },
    "565c525fcbfd4114a896bc8d40983bf8": {
     "model_module": "@jupyter-widgets/controls",
     "model_name": "FloatProgressModel",
     "state": {
      "_dom_classes": [],
      "_model_module": "@jupyter-widgets/controls",
      "_model_module_version": "1.5.0",
      "_model_name": "FloatProgressModel",
      "_view_count": null,
      "_view_module": "@jupyter-widgets/controls",
      "_view_module_version": "1.5.0",
      "_view_name": "ProgressView",
      "bar_style": "success",
      "description": "Training: 100%",
      "description_tooltip": null,
      "layout": "IPY_MODEL_fbf7c3562fb04db3adb1ab1a510755f2",
      "max": 10,
      "min": 0,
      "orientation": "horizontal",
      "style": "IPY_MODEL_555fe91350b04d5e91b533c10e025e83",
      "value": 10
     }
    },
    "b6583579f4ea488694744bb9958a00b5": {
     "model_module": "@jupyter-widgets/controls",
     "model_name": "DescriptionStyleModel",
     "state": {
      "_model_module": "@jupyter-widgets/controls",
      "_model_module_version": "1.5.0",
      "_model_name": "DescriptionStyleModel",
      "_view_count": null,
      "_view_module": "@jupyter-widgets/base",
      "_view_module_version": "1.2.0",
      "_view_name": "StyleView",
      "description_width": ""
     }
    },
    "ce0a824e8dde472bb869c569a5b58a81": {
     "model_module": "@jupyter-widgets/controls",
     "model_name": "HTMLModel",
     "state": {
      "_dom_classes": [],
      "_model_module": "@jupyter-widgets/controls",
      "_model_module_version": "1.5.0",
      "_model_name": "HTMLModel",
      "_view_count": null,
      "_view_module": "@jupyter-widgets/controls",
      "_view_module_version": "1.5.0",
      "_view_name": "HTMLView",
      "description": "",
      "description_tooltip": null,
      "layout": "IPY_MODEL_09202ce93a8b416c8220859fef3e4f74",
      "placeholder": "​",
      "style": "IPY_MODEL_b6583579f4ea488694744bb9958a00b5",
      "value": " 10/10 [58:51&lt;00:00, 353.18s/it]"
     }
    },
    "fbf7c3562fb04db3adb1ab1a510755f2": {
     "model_module": "@jupyter-widgets/base",
     "model_name": "LayoutModel",
     "state": {
      "_model_module": "@jupyter-widgets/base",
      "_model_module_version": "1.2.0",
      "_model_name": "LayoutModel",
      "_view_count": null,
      "_view_module": "@jupyter-widgets/base",
      "_view_module_version": "1.2.0",
      "_view_name": "LayoutView",
      "align_content": null,
      "align_items": null,
      "align_self": null,
      "border": null,
      "bottom": null,
      "display": null,
      "flex": null,
      "flex_flow": null,
      "grid_area": null,
      "grid_auto_columns": null,
      "grid_auto_flow": null,
      "grid_auto_rows": null,
      "grid_column": null,
      "grid_gap": null,
      "grid_row": null,
      "grid_template_areas": null,
      "grid_template_columns": null,
      "grid_template_rows": null,
      "height": null,
      "justify_content": null,
      "justify_items": null,
      "left": null,
      "margin": null,
      "max_height": null,
      "max_width": null,
      "min_height": null,
      "min_width": null,
      "object_fit": null,
      "object_position": null,
      "order": null,
      "overflow": null,
      "overflow_x": null,
      "overflow_y": null,
      "padding": null,
      "right": null,
      "top": null,
      "visibility": null,
      "width": null
     }
    },
    "ffdb03d27cb44ab1976b704aa5dcc9c3": {
     "model_module": "@jupyter-widgets/base",
     "model_name": "LayoutModel",
     "state": {
      "_model_module": "@jupyter-widgets/base",
      "_model_module_version": "1.2.0",
      "_model_name": "LayoutModel",
      "_view_count": null,
      "_view_module": "@jupyter-widgets/base",
      "_view_module_version": "1.2.0",
      "_view_name": "LayoutView",
      "align_content": null,
      "align_items": null,
      "align_self": null,
      "border": null,
      "bottom": null,
      "display": null,
      "flex": null,
      "flex_flow": null,
      "grid_area": null,
      "grid_auto_columns": null,
      "grid_auto_flow": null,
      "grid_auto_rows": null,
      "grid_column": null,
      "grid_gap": null,
      "grid_row": null,
      "grid_template_areas": null,
      "grid_template_columns": null,
      "grid_template_rows": null,
      "height": null,
      "justify_content": null,
      "justify_items": null,
      "left": null,
      "margin": null,
      "max_height": null,
      "max_width": null,
      "min_height": null,
      "min_width": null,
      "object_fit": null,
      "object_position": null,
      "order": null,
      "overflow": null,
      "overflow_x": null,
      "overflow_y": null,
      "padding": null,
      "right": null,
      "top": null,
      "visibility": null,
      "width": null
     }
    }
   }
  }
 },
 "nbformat": 4,
 "nbformat_minor": 1
}
