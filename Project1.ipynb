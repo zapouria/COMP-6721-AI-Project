{
 "cells": [
  {
   "cell_type": "markdown",
   "metadata": {
    "id": "bxvSISKL-dJH"
   },
   "source": [
    "# Importing the required libraries\n"
   ]
  },
  {
   "cell_type": "code",
   "execution_count": 1,
   "metadata": {
    "id": "rIFcfiPrO4Eu"
   },
   "outputs": [],
   "source": [
    "# import statements\n",
    "import os\n",
    "import torch\n",
    "import torch.optim as optim\n",
    "import torch.nn as nn\n",
    "import torch.nn.functional as F\n",
    "import torchvision.transforms as transforms\n",
    "import torchvision\n",
    "from torchvision import datasets, transforms\n",
    "from torchvision.datasets import ImageFolder, DatasetFolder\n",
    "import matplotlib.pyplot as plt\n",
    "from torch.utils.data import DataLoader, random_split\n",
    "import numpy as np\n",
    "import sklearn\n",
    "from sklearn.metrics import confusion_matrix, classification_report\n",
    "import seaborn as sns\n",
    "from torchvision.transforms import ToTensor\n",
    "import pandas as pd\n",
    "from tqdm.notebook import tqdm\n",
    "from yellowbrick.classifier import ClassificationReport\n",
    "from texttable import Texttable\n",
    "from pytorch_lightning import Trainer\n",
    "import warnings  # ignore any warnings\n",
    "warnings.filterwarnings(\"ignore\")\n",
    "from preprocessing import*"
   ]
  },
  {
   "cell_type": "markdown",
   "metadata": {
    "id": "yUDfjKitVQHT"
   },
   "source": [
    "# Training Dataset Creation"
   ]
  },
  {
   "cell_type": "markdown",
   "metadata": {
    "id": "YPbXkFBB-_N9"
   },
   "source": [
    "Loading the dataset from the directory"
   ]
  },
  {
   "cell_type": "code",
   "execution_count": 2,
   "metadata": {
    "id": "a7q5Eo1opSUe"
   },
   "outputs": [],
   "source": [
    "directory_path = \"./AI_Dataset/data/\" # path directory\n",
    "dataset = load_data(directory_path)  # load dataset from the given directory"
   ]
  },
  {
   "cell_type": "markdown",
   "metadata": {
    "id": "AoueQpsaXCbK"
   },
   "source": [
    "Counting the number of images present in each of the classes"
   ]
  },
  {
   "cell_type": "code",
   "execution_count": 3,
   "metadata": {
    "colab": {
     "base_uri": "https://localhost:8080/"
    },
    "id": "-x6i6QvURBvh",
    "outputId": "e3285d90-9377-4355-f4b8-80c365cb387b"
   },
   "outputs": [
    {
     "name": "stdout",
     "output_type": "stream",
     "text": [
      "<class 'torchvision.datasets.folder.ImageFolder'>\n",
      "The number of images for the\n"
     ]
    }
   ],
   "source": [
    "print(type(dataset))\n",
    "print(\"The number of images for the\")\n",
    "# def data_class_distribution(dataset):  # gives the count of each classes of the dataset i.e. no of images per class\n",
    "#     data_class_count = {}\n",
    "#     for _, index in dataset:\n",
    "#         label = classes[index]\n",
    "#         if label not in data_class_count:\n",
    "#             data_class_count[label] = 0\n",
    "#         data_class_count[label] += 1\n",
    "#     return data_class_count  # returns the count\n",
    "    \n",
    "# data_class_count = data_class_distribution(dataset)\n",
    "# print(\"The number of images present in each of the three classes:\", data_class_count) # print count of classes"
   ]
  },
  {
   "cell_type": "markdown",
   "metadata": {
    "id": "1YDkIs9s_pt2"
   },
   "source": [
    "Splitting the Data into the training data comprise 60% of the full data set. The validation and testing data each comprise 20% of the original data."
   ]
  },
  {
   "cell_type": "code",
   "execution_count": 4,
   "metadata": {
    "id": "7UWi89bbt2iB"
   },
   "outputs": [],
   "source": [
    "train_dataset, val_dataset, test_dataset = split_data(dataset)"
   ]
  },
  {
   "cell_type": "markdown",
   "metadata": {
    "id": "0oAJAz0u_yF3"
   },
   "source": [
    "# Loading Data with the help of DataLoader"
   ]
  },
  {
   "cell_type": "code",
   "execution_count": 5,
   "metadata": {
    "colab": {
     "base_uri": "https://localhost:8080/"
    },
    "id": "7SHjWmQNt7Ge",
    "outputId": "ef10922f-8795-4735-a84a-4ccc4081ef0d"
   },
   "outputs": [
    {
     "name": "stdout",
     "output_type": "stream",
     "text": [
      "Length of the train_loader: 96\n",
      "Length of the val_loader: 32\n",
      "Length of the test_loader: 32\n"
     ]
    }
   ],
   "source": [
    "train_loader = train_dataloarder(train_dataset)\n",
    "val_loader = validation_dataloarder(val_dataset)\n",
    "test_loader = test_dataloarder(test_dataset)\n",
    "\n",
    "print(\"Length of the train_loader:\", len(train_loader))\n",
    "print(\"Length of the val_loader:\", len(val_loader))\n",
    "print(\"Length of the test_loader:\", len(test_loader))"
   ]
  },
  {
   "cell_type": "markdown",
   "metadata": {
    "id": "_XeDSNTVCHrm"
   },
   "source": [
    "# Convolutional Neural Network Architecture and model training"
   ]
  },
  {
   "cell_type": "markdown",
   "metadata": {
    "id": "62aUXwwQdDU1"
   },
   "source": [
    "CNN Model Architecture\n",
    "- Consist of three major blocks in the CNN Model"
   ]
  },
  {
   "cell_type": "code",
   "execution_count": 6,
   "metadata": {
    "id": "721oayHAdBDC"
   },
   "outputs": [],
   "source": [
    "class CNN(nn.Module):  # CNN Model class\n",
    " \n",
    "    def __init__(self):\n",
    "        super(CNN, self).__init__()    # blocks architecture\n",
    "        self.conv_layer = nn.Sequential(   \n",
    "            nn.Conv2d(in_channels=3, out_channels=32, kernel_size=3, padding=1),  # block 1\n",
    "            nn.BatchNorm2d(32),\n",
    "            nn.LeakyReLU(inplace=True),\n",
    "            nn.Conv2d(in_channels=32, out_channels=32, kernel_size=3, padding=1),\n",
    "            nn.BatchNorm2d(32),\n",
    "            nn.LeakyReLU(inplace=True),\n",
    "            nn.MaxPool2d(kernel_size=2, stride=2),\n",
    "\n",
    "            nn.Conv2d(in_channels=32, out_channels=64, kernel_size=3, padding=1), # block 2\n",
    "            nn.BatchNorm2d(64),\n",
    "            nn.LeakyReLU(inplace=True),\n",
    "            nn.Conv2d(in_channels=64, out_channels=64, kernel_size=3, padding=1),\n",
    "            nn.BatchNorm2d(64),\n",
    "            nn.LeakyReLU(inplace=True),\n",
    "            nn.MaxPool2d(kernel_size=2, stride=2),\n",
    "\n",
    "            nn.Conv2d(in_channels=64, out_channels=128, kernel_size=3, padding=1), # block 3\n",
    "            nn.BatchNorm2d(128),\n",
    "            nn.LeakyReLU(inplace=True),\n",
    "            nn.Conv2d(in_channels=128, out_channels=128, kernel_size=3, padding=1),\n",
    "            nn.BatchNorm2d(128),\n",
    "            nn.LeakyReLU(inplace=True),\n",
    "            nn.MaxPool2d(kernel_size=2, stride=2)\n",
    "        )\n",
    "\n",
    "        self.fully_connected_layer = nn.Sequential(  # full connected layer\n",
    "            nn.Dropout(p=0.1),\n",
    "            nn.Linear(8 * 8 * 32, 1000),\n",
    "            nn.ReLU(inplace=True),\n",
    "            nn.Linear(1000, 512),\n",
    "            nn.ReLU(inplace=True),\n",
    "            nn.Dropout(p=0.1),\n",
    "            nn.Linear(512, 128),\n",
    "            nn.ReLU(inplace=True),\n",
    "            nn.Dropout(p=0.1),\n",
    "            nn.Linear(128, 3)\n",
    "        )\n",
    "\n",
    "    def forward(self, x):   # forward pass on the CNN Model\n",
    "    \n",
    "        x = self.conv_layer(x) # convolutional layers\n",
    "\n",
    "   \n",
    "        x = x.view(x.size(0), -1)  # flattening the layers\n",
    "\n",
    "    \n",
    "        x = self.fully_connected_layer(x) # fully connected layer\n",
    "\n",
    "        return x"
   ]
  },
  {
   "cell_type": "markdown",
   "metadata": {
    "id": "WLRl7WRQCNT0"
   },
   "source": [
    "CNN model, loss function and Optimizer initialization\n"
   ]
  },
  {
   "cell_type": "code",
   "execution_count": 7,
   "metadata": {
    "id": "lkT2i-etuHp5",
    "scrolled": true
   },
   "outputs": [],
   "source": [
    "net = CNN()  # calling Model \n",
    "criterion = nn.CrossEntropyLoss()  # loss criteria\n",
    "optimizer = optim.SGD(net.parameters(), lr=0.001, momentum=0.9) # using Stochastic Gradient Descent as a optimizer\n",
    "# lrf = LearningRateFinder(net, criterion, optimizer)  # to find the best learning rate on the model\n",
    "# lrf.fit(train_loader)\n",
    "# lrf.plot() # plot the best learning rate \n"
   ]
  },
  {
   "cell_type": "markdown",
   "metadata": {
    "id": "lnl6xA4-CTwT"
   },
   "source": [
    "#Training the CNN model"
   ]
  },
  {
   "cell_type": "markdown",
   "metadata": {
    "id": "G9ajfs5R-DWA"
   },
   "source": [
    "Conversion of output probabilities to predicted class labels"
   ]
  },
  {
   "cell_type": "code",
   "execution_count": 8,
   "metadata": {
    "id": "uqtj6jZI-Qui"
   },
   "outputs": [],
   "source": [
    "def images_to_probs(net, images):  # to predict the class labels \n",
    "    output = net(images)\n",
    "    _, preds_tensor = torch.max(output, 1)  \n",
    "    preds = np.squeeze(preds_tensor.numpy())\n",
    "    return preds, [F.softmax(el, dim=0)[i].item() for i, el in zip(preds, output)]"
   ]
  },
  {
   "cell_type": "markdown",
   "metadata": {
    "id": "iN_gD7aV-Ufi"
   },
   "source": [
    "Evaluation function \n"
   ]
  },
  {
   "cell_type": "code",
   "execution_count": 9,
   "metadata": {
    "id": "1Q2acO7w-YUc"
   },
   "outputs": [],
   "source": [
    "def evaluate_accuracy(net, dataloader):  # method to evaluate the accuracy of the passed dataset\n",
    "    correct, total = 0, 0\n",
    "    with torch.no_grad():\n",
    "        net.eval()\n",
    "        for images, labels in dataloader:\n",
    "            images, labels = images, labels.numpy()\n",
    "\n",
    "            preds, probs = images_to_probs(net, images)\n",
    "\n",
    "            total += len(labels)   # counting total no. of dataset\n",
    "            correct += (preds == labels).sum()  # counting correct predictions done by the model\n",
    "    return correct/total * 100"
   ]
  },
  {
   "cell_type": "markdown",
   "metadata": {
    "id": "ETTAB_-S-eqW"
   },
   "source": [
    "Train CNN Model for the given Parameters\n",
    "\n"
   ]
  },
  {
   "cell_type": "code",
   "execution_count": 10,
   "metadata": {
    "id": "c31qM2vGuOCL"
   },
   "outputs": [],
   "source": [
    "def train_model(net,  criterion, opt, dataloader, epochs):  # train model based on the given parameter\n",
    "    num_steps = 0  \n",
    "    min_loss = 1e+10\n",
    "    running_loss = []  # to store the loss of each epochs \n",
    "    epochs_loss = []\n",
    "    accuracy = []  # to store the accuracy of each epochs\n",
    "    for epoch in tqdm(range(1, epochs+1), total=epochs, desc='Training'):\n",
    "        \n",
    "        net.train() # Setting the network to TRAIN mode\n",
    "        for images, labels in dataloader:\n",
    "            images, labels = images, labels\n",
    "            num_steps += 1\n",
    "\n",
    "            \n",
    "            outs = net(images)   # Forward Propagation on the Model\n",
    "            loss =  criterion(outs, labels)\n",
    "\n",
    "            \n",
    "            running_loss.append(loss.item()) # Storing loss values\n",
    "\n",
    "           # Backward Propagation on the Model\n",
    "            opt.zero_grad()   \n",
    "            loss.backward()\n",
    "            opt.step()\n",
    "\n",
    "        \n",
    "        epoch_loss = sum(running_loss) / len(running_loss) # calculating loss for each epoch\n",
    "        epochs_loss.append(epoch_loss)\n",
    "        acc = evaluate_accuracy(net, dataloader) # calculating the accuracy for each epoch\n",
    "        accuracy.append(acc)\n",
    "        print(\"Accuracy of the Model in epoch {} : {}\".format(num_steps, acc)) \n",
    "        print(\"Loss of the current epoch: \",epoch_loss)\n",
    "        \n",
    "        if epoch_loss < min_loss:  # Finding the minimum loss\n",
    "            min_loss = epoch_loss\n",
    "            bestmodel = net.state_dict()\n",
    "    return running_loss, epochs_loss, accuracy\n",
    "\n",
    "    print('Training finished on the Train data-sets!!!')"
   ]
  },
  {
   "cell_type": "code",
   "execution_count": 11,
   "metadata": {
    "colab": {
     "base_uri": "https://localhost:8080/",
     "height": 1000,
     "referenced_widgets": [
      "369378431af54073ad74d3259648d67e",
      "ffdb03d27cb44ab1976b704aa5dcc9c3",
      "565c525fcbfd4114a896bc8d40983bf8",
      "ce0a824e8dde472bb869c569a5b58a81",
      "555fe91350b04d5e91b533c10e025e83",
      "fbf7c3562fb04db3adb1ab1a510755f2",
      "b6583579f4ea488694744bb9958a00b5",
      "09202ce93a8b416c8220859fef3e4f74"
     ]
    },
    "id": "ibbaSGkXuPTv",
    "outputId": "4ec03f49-69aa-4d88-8915-68ef05b8356d",
    "scrolled": true
   },
   "outputs": [
    {
     "data": {
      "application/vnd.jupyter.widget-view+json": {
       "model_id": "cbf3d3e357404ce1979f25dcaef6e78f",
       "version_major": 2,
       "version_minor": 0
      },
      "text/plain": [
       "HBox(children=(HTML(value='Training'), FloatProgress(value=0.0, max=20.0), HTML(value='')))"
      ]
     },
     "metadata": {},
     "output_type": "display_data"
    },
    {
     "name": "stdout",
     "output_type": "stream",
     "text": [
      "Accuracy of the Model in epoch 96 : 80.29350104821803\n",
      "Loss of the current epoch:  1.0318223480135202\n",
      "Accuracy of the Model in epoch 192 : 89.51781970649894\n",
      "Loss of the current epoch:  0.8089766254415736\n",
      "Accuracy of the Model in epoch 288 : 95.49266247379455\n",
      "Loss of the current epoch:  0.6253419122270619\n",
      "Accuracy of the Model in epoch 384 : 98.9517819706499\n",
      "Loss of the current epoch:  0.5015898937514672\n",
      "Accuracy of the Model in epoch 480 : 98.0083857442348\n",
      "Loss of the current epoch:  0.4215047047880944\n",
      "Accuracy of the Model in epoch 576 : 99.58071278825996\n",
      "Loss of the current epoch:  0.36031593085418634\n",
      "Accuracy of the Model in epoch 672 : 100.0\n",
      "Loss of the current epoch:  0.31285322124105214\n",
      "Accuracy of the Model in epoch 768 : 100.0\n",
      "Loss of the current epoch:  0.27480169201961263\n",
      "Accuracy of the Model in epoch 864 : 100.0\n",
      "Loss of the current epoch:  0.24521962624725416\n",
      "Accuracy of the Model in epoch 960 : 100.0\n",
      "Loss of the current epoch:  0.22153373292009443\n",
      "Accuracy of the Model in epoch 1056 : 100.0\n",
      "Loss of the current epoch:  0.20194248121410827\n",
      "Accuracy of the Model in epoch 1152 : 100.0\n",
      "Loss of the current epoch:  0.18529935660012598\n",
      "Accuracy of the Model in epoch 1248 : 100.0\n",
      "Loss of the current epoch:  0.17117977493969122\n",
      "Accuracy of the Model in epoch 1344 : 100.0\n",
      "Loss of the current epoch:  0.15906116601589324\n",
      "Accuracy of the Model in epoch 1440 : 100.0\n",
      "Loss of the current epoch:  0.1485296431400305\n",
      "Accuracy of the Model in epoch 1536 : 100.0\n",
      "Loss of the current epoch:  0.13931299090177163\n",
      "Accuracy of the Model in epoch 1632 : 99.895178197065\n",
      "Loss of the current epoch:  0.1324860487665515\n",
      "Accuracy of the Model in epoch 1728 : 100.0\n",
      "Loss of the current epoch:  0.12545800937879095\n",
      "Accuracy of the Model in epoch 1824 : 100.0\n",
      "Loss of the current epoch:  0.11892934749121116\n",
      "Accuracy of the Model in epoch 1920 : 100.0\n",
      "Loss of the current epoch:  0.1130500712441299\n",
      "\n"
     ]
    }
   ],
   "source": [
    "num_epochs = 20   # define no. of epochs to run\n",
    "running_loss,epochs_loss,accuracy = train_model(net, criterion, optimizer, train_loader, num_epochs)  # train dataset\n"
   ]
  },
  {
   "cell_type": "markdown",
   "metadata": {},
   "source": [
    "Training Loss Plot"
   ]
  },
  {
   "cell_type": "code",
   "execution_count": 12,
   "metadata": {},
   "outputs": [
    {
     "name": "stdout",
     "output_type": "stream",
     "text": [
      "[1.0318223480135202, 0.8089766254415736, 0.6253419122270619, 0.5015898937514672, 0.4215047047880944, 0.36031593085418634, 0.31285322124105214, 0.27480169201961263, 0.24521962624725416, 0.22153373292009443, 0.20194248121410827, 0.18529935660012598, 0.17117977493969122, 0.15906116601589324, 0.1485296431400305, 0.13931299090177163, 0.1324860487665515, 0.12545800937879095, 0.11892934749121116, 0.1130500712441299]\n"
     ]
    },
    {
     "data": {
      "image/png": "[encoded data removed]",
      "text/plain": [
       "<Figure size 576x396 with 1 Axes>"
      ]
     },
     "metadata": {},
     "output_type": "display_data"
    }
   ],
   "source": [
    "print(epochs_loss)\n",
    "plt.plot(epochs_loss, label='Training loss') # print loss of each epoch\n",
    "plt.title(\"Training Loss\")\n",
    "plt.xlabel(\"No of Iterations\")\n",
    "plt.ylabel(\"Loss\");"
   ]
  },
  {
   "cell_type": "markdown",
   "metadata": {},
   "source": [
    "Training Accuracy Plot"
   ]
  },
  {
   "cell_type": "code",
   "execution_count": 13,
   "metadata": {},
   "outputs": [
    {
     "data": {
      "image/png": "[encoded data removed]",
      "text/plain": [
       "<Figure size 576x396 with 1 Axes>"
      ]
     },
     "metadata": {},
     "output_type": "display_data"
    }
   ],
   "source": [
    "plt.plot(accuracy, label=\"Training Accuracy\") # print accuracy of each epoch\n",
    "plt.title(\"Training Accuracy\")\n",
    "plt.xlabel(\"No of Iterations\")\n",
    "plt.ylabel(\"Accuracy\");"
   ]
  },
  {
   "cell_type": "markdown",
   "metadata": {
    "id": "JosOlrw4Ca4c"
   },
   "source": [
    "# Validating Network"
   ]
  },
  {
   "cell_type": "markdown",
   "metadata": {
    "id": "z7F054tXChuf"
   },
   "source": [
    "Prediction of the Images\n"
   ]
  },
  {
   "cell_type": "code",
   "execution_count": 14,
   "metadata": {
    "colab": {
     "base_uri": "https://localhost:8080/"
    },
    "id": "TRsSgjxguUz4",
    "outputId": "2cb8b969-68c1-4ed2-b977-e5e522cb30bb"
   },
   "outputs": [],
   "source": [
    "def prediction(predlab, testlab):  # method to show comparsion between Actual vs Predicted\n",
    "    print(\"Prediction vs Actual class Label\")\n",
    "    predicted_list = []\n",
    "    actual_list = []\n",
    "    for i in predlab:\n",
    "        if i == 0:  \n",
    "            predicted_list.append(\"without_mask\")\n",
    "        elif i ==1: \n",
    "            predicted_list.append(\"with_mask\")\n",
    "        else :\n",
    "            predicted_list.append(\"not_a_person\")\n",
    " \n",
    "    for i in testlab:\n",
    "        if i == 0:  \n",
    "            actual_list.append(\"without_mask\")\n",
    "        elif i ==1:\n",
    "            actual_list.append(\"with_mask\")\n",
    "        else:\n",
    "            actual_list.append(\"not_a_person\")\n",
    "        \n",
    "    t = Texttable()\n",
    "    main_row = [['Predicted', 'Actual']]\n",
    "\n",
    "    for i in range(0, len(predicted_list)):\n",
    "        tmp = [predicted_list[i],actual_list[i]]\n",
    "        main_row.append(tmp)\n",
    "    t.add_rows(main_row)\n",
    "    print(t.draw()) # printing the talbe"
   ]
  },
  {
   "cell_type": "code",
   "execution_count": 15,
   "metadata": {
    "id": "_f4Uz0SUuRm4"
   },
   "outputs": [
    {
     "name": "stdout",
     "output_type": "stream",
     "text": [
      "Accuracy of the Model on Test set:  96.86520376175548\n",
      "Prediction vs Actual class Label\n",
      "+--------------+--------------+\n",
      "|  Predicted   |    Actual    |\n",
      "+==============+==============+\n",
      "| with_mask    | with_mask    |\n",
      "+--------------+--------------+\n",
      "| without_mask | without_mask |\n",
      "+--------------+--------------+\n",
      "| not_a_person | not_a_person |\n",
      "+--------------+--------------+\n",
      "| without_mask | without_mask |\n",
      "+--------------+--------------+\n",
      "| without_mask | without_mask |\n",
      "+--------------+--------------+\n",
      "| with_mask    | with_mask    |\n",
      "+--------------+--------------+\n",
      "| not_a_person | not_a_person |\n",
      "+--------------+--------------+\n",
      "| with_mask    | with_mask    |\n",
      "+--------------+--------------+\n",
      "| with_mask    | with_mask    |\n",
      "+--------------+--------------+\n",
      "| with_mask    | with_mask    |\n",
      "+--------------+--------------+\n"
     ]
    }
   ],
   "source": [
    "acc = evaluate_accuracy(net, val_loader)   # evaluate the accuracy on the validation set\n",
    "print(\"Accuracy of the Model on Test set: \",acc)\n",
    "testimg, testlab = next(iter(val_loader))\n",
    "testimg, testlab = testimg, testlab\n",
    "\n",
    "pred = net(testimg)\n",
    "predlab = torch.argmax(pred,axis=1)  \n",
    "\n",
    "prediction(predlab, testlab) # predictions of the validation set"
   ]
  },
  {
   "cell_type": "markdown",
   "metadata": {
    "id": "hHFH1Rtb2H7n"
   },
   "source": [
    "# Testing Network\n",
    "\n"
   ]
  },
  {
   "cell_type": "code",
   "execution_count": 16,
   "metadata": {
    "id": "ibPpEZvq2zPR"
   },
   "outputs": [
    {
     "name": "stdout",
     "output_type": "stream",
     "text": [
      "Accuracy of the Model on Test set:  96.86520376175548\n",
      "Prediction vs Actual class Label\n",
      "+--------------+--------------+\n",
      "|  Predicted   |    Actual    |\n",
      "+==============+==============+\n",
      "| not_a_person | not_a_person |\n",
      "+--------------+--------------+\n",
      "| not_a_person | not_a_person |\n",
      "+--------------+--------------+\n",
      "| with_mask    | with_mask    |\n",
      "+--------------+--------------+\n",
      "| without_mask | without_mask |\n",
      "+--------------+--------------+\n",
      "| without_mask | without_mask |\n",
      "+--------------+--------------+\n",
      "| without_mask | without_mask |\n",
      "+--------------+--------------+\n",
      "| without_mask | without_mask |\n",
      "+--------------+--------------+\n",
      "| without_mask | without_mask |\n",
      "+--------------+--------------+\n",
      "| without_mask | without_mask |\n",
      "+--------------+--------------+\n",
      "| without_mask | without_mask |\n",
      "+--------------+--------------+\n"
     ]
    }
   ],
   "source": [
    "acc = evaluate_accuracy(net, test_loader)  # evaluate the accuracy on the test set\n",
    "print(\"Accuracy of the Model on Test set: \",acc)\n",
    "testimg, testlab = next(iter(test_loader))\n",
    "testimg, testlab = testimg, testlab\n",
    "\n",
    "pred = net(testimg)\n",
    "predlab = torch.argmax(pred,axis=1)\n",
    "prediction(predlab[0:10], testlab[0:10]) # predictions of the first 10 test set\n"
   ]
  },
  {
   "cell_type": "markdown",
   "metadata": {
    "id": "MhXK9Oe-VlIJ"
   },
   "source": [
    "# Convolutional Neural Network Model Evaluation\n",
    "1. Confustion Matrix\n",
    "2. Precision\n",
    "3. Recall\n",
    "4. Accuracy\n",
    "5. F1-Score"
   ]
  },
  {
   "cell_type": "markdown",
   "metadata": {
    "id": "XTbun3w6Cl6I"
   },
   "source": [
    "# Confusion Matrix"
   ]
  },
  {
   "cell_type": "code",
   "execution_count": 17,
   "metadata": {
    "colab": {
     "base_uri": "https://localhost:8080/"
    },
    "id": "QdQUEphVuZri",
    "outputId": "2e7c158b-9042-479c-beaf-5604f10b9f14"
   },
   "outputs": [
    {
     "data": {
      "image/png": "[encoded data removed]",
      "text/plain": [
       "<Figure size 576x396 with 2 Axes>"
      ]
     },
     "metadata": {},
     "output_type": "display_data"
    },
    {
     "name": "stdout",
     "output_type": "stream",
     "text": [
      "[[7 0 0]\n",
      " [0 1 0]\n",
      " [0 0 2]]\n"
     ]
    }
   ],
   "source": [
    "pred = predlab.numpy()   # plot the confusion matrix \n",
    "test = testlab.numpy()\n",
    "matrix = confusion_matrix(test,pred)\n",
    "sns.set(font_scale=1.4) # for label size\n",
    "sns.heatmap(matrix, annot=True, annot_kws={\"size\": 16},cmap=\"coolwarm\")  # use of heatmap\n",
    "plt.show()  # plot confusion matrix\n",
    "print(matrix)\n"
   ]
  },
  {
   "cell_type": "markdown",
   "metadata": {
    "id": "KgU3RnHVCsDI"
   },
   "source": [
    "# Classification Report"
   ]
  },
  {
   "cell_type": "code",
   "execution_count": 18,
   "metadata": {
    "colab": {
     "base_uri": "https://localhost:8080/"
    },
    "id": "K7fn-Y5hucwf",
    "outputId": "1ee497f3-612f-4ce9-ac9b-e078f4c62f52",
    "scrolled": true
   },
   "outputs": [
    {
     "name": "stdout",
     "output_type": "stream",
     "text": [
      "              precision    recall  f1-score   support\n",
      "\n",
      "   with_mask       1.00      1.00      1.00         7\n",
      "without_mask       1.00      1.00      1.00         1\n",
      "not_a_person       1.00      1.00      1.00         2\n",
      "\n",
      "    accuracy                           1.00        10\n",
      "   macro avg       1.00      1.00      1.00        10\n",
      "weighted avg       1.00      1.00      1.00        10\n",
      "\n"
     ]
    }
   ],
   "source": [
    "report = classification_report(test, pred, target_names=['with_mask','without_mask','not_a_person'])\n",
    "print(report)  "
   ]
  }
 ],
 "metadata": {
  "colab": {
   "collapsed_sections": [],
   "name": "Part1.ipynb",
   "provenance": [],
   "toc_visible": true
  },
  "kernelspec": {
   "display_name": "Python 3",
   "language": "python",
   "name": "python3"
  },
  "language_info": {
   "codemirror_mode": {
    "name": "ipython",
    "version": 3
   },
   "file_extension": ".py",
   "mimetype": "text/x-python",
   "name": "python",
   "nbconvert_exporter": "python",
   "pygments_lexer": "ipython3",
   "version": "3.8.5"
  },
  "widgets": {
   "application/vnd.jupyter.widget-state+json": {
    "09202ce93a8b416c8220859fef3e4f74": {
     "model_module": "@jupyter-widgets/base",
     "model_name": "LayoutModel",
     "state": {
      "_model_module": "@jupyter-widgets/base",
      "_model_module_version": "1.2.0",
      "_model_name": "LayoutModel",
      "_view_count": null,
      "_view_module": "@jupyter-widgets/base",
      "_view_module_version": "1.2.0",
      "_view_name": "LayoutView",
      "align_content": null,
      "align_items": null,
      "align_self": null,
      "border": null,
      "bottom": null,
      "display": null,
      "flex": null,
      "flex_flow": null,
      "grid_area": null,
      "grid_auto_columns": null,
      "grid_auto_flow": null,
      "grid_auto_rows": null,
      "grid_column": null,
      "grid_gap": null,
      "grid_row": null,
      "grid_template_areas": null,
      "grid_template_columns": null,
      "grid_template_rows": null,
      "height": null,
      "justify_content": null,
      "justify_items": null,
      "left": null,
      "margin": null,
      "max_height": null,
      "max_width": null,
      "min_height": null,
      "min_width": null,
      "object_fit": null,
      "object_position": null,
      "order": null,
      "overflow": null,
      "overflow_x": null,
      "overflow_y": null,
      "padding": null,
      "right": null,
      "top": null,
      "visibility": null,
      "width": null
     }
    },
    "369378431af54073ad74d3259648d67e": {
     "model_module": "@jupyter-widgets/controls",
     "model_name": "HBoxModel",
     "state": {
      "_dom_classes": [],
      "_model_module": "@jupyter-widgets/controls",
      "_model_module_version": "1.5.0",
      "_model_name": "HBoxModel",
      "_view_count": null,
      "_view_module": "@jupyter-widgets/controls",
      "_view_module_version": "1.5.0",
      "_view_name": "HBoxView",
      "box_style": "",
      "children": [
       "IPY_MODEL_565c525fcbfd4114a896bc8d40983bf8",
       "IPY_MODEL_ce0a824e8dde472bb869c569a5b58a81"
      ],
      "layout": "IPY_MODEL_ffdb03d27cb44ab1976b704aa5dcc9c3"
     }
    },
    "555fe91350b04d5e91b533c10e025e83": {
     "model_module": "@jupyter-widgets/controls",
     "model_name": "ProgressStyleModel",
     "state": {
      "_model_module": "@jupyter-widgets/controls",
      "_model_module_version": "1.5.0",
      "_model_name": "ProgressStyleModel",
      "_view_count": null,
      "_view_module": "@jupyter-widgets/base",
      "_view_module_version": "1.2.0",
      "_view_name": "StyleView",
      "bar_color": null,
      "description_width": "initial"
     }
    },
    "565c525fcbfd4114a896bc8d40983bf8": {
     "model_module": "@jupyter-widgets/controls",
     "model_name": "FloatProgressModel",
     "state": {
      "_dom_classes": [],
      "_model_module": "@jupyter-widgets/controls",
      "_model_module_version": "1.5.0",
      "_model_name": "FloatProgressModel",
      "_view_count": null,
      "_view_module": "@jupyter-widgets/controls",
      "_view_module_version": "1.5.0",
      "_view_name": "ProgressView",
      "bar_style": "success",
      "description": "Training: 100%",
      "description_tooltip": null,
      "layout": "IPY_MODEL_fbf7c3562fb04db3adb1ab1a510755f2",
      "max": 10,
      "min": 0,
      "orientation": "horizontal",
      "style": "IPY_MODEL_555fe91350b04d5e91b533c10e025e83",
      "value": 10
     }
    },
    "b6583579f4ea488694744bb9958a00b5": {
     "model_module": "@jupyter-widgets/controls",
     "model_name": "DescriptionStyleModel",
     "state": {
      "_model_module": "@jupyter-widgets/controls",
      "_model_module_version": "1.5.0",
      "_model_name": "DescriptionStyleModel",
      "_view_count": null,
      "_view_module": "@jupyter-widgets/base",
      "_view_module_version": "1.2.0",
      "_view_name": "StyleView",
      "description_width": ""
     }
    },
    "ce0a824e8dde472bb869c569a5b58a81": {
     "model_module": "@jupyter-widgets/controls",
     "model_name": "HTMLModel",
     "state": {
      "_dom_classes": [],
      "_model_module": "@jupyter-widgets/controls",
      "_model_module_version": "1.5.0",
      "_model_name": "HTMLModel",
      "_view_count": null,
      "_view_module": "@jupyter-widgets/controls",
      "_view_module_version": "1.5.0",
      "_view_name": "HTMLView",
      "description": "",
      "description_tooltip": null,
      "layout": "IPY_MODEL_09202ce93a8b416c8220859fef3e4f74",
      "placeholder": "​",
      "style": "IPY_MODEL_b6583579f4ea488694744bb9958a00b5",
      "value": " 10/10 [58:51&lt;00:00, 353.18s/it]"
     }
    },
    "fbf7c3562fb04db3adb1ab1a510755f2": {
     "model_module": "@jupyter-widgets/base",
     "model_name": "LayoutModel",
     "state": {
      "_model_module": "@jupyter-widgets/base",
      "_model_module_version": "1.2.0",
      "_model_name": "LayoutModel",
      "_view_count": null,
      "_view_module": "@jupyter-widgets/base",
      "_view_module_version": "1.2.0",
      "_view_name": "LayoutView",
      "align_content": null,
      "align_items": null,
      "align_self": null,
      "border": null,
      "bottom": null,
      "display": null,
      "flex": null,
      "flex_flow": null,
      "grid_area": null,
      "grid_auto_columns": null,
      "grid_auto_flow": null,
      "grid_auto_rows": null,
      "grid_column": null,
      "grid_gap": null,
      "grid_row": null,
      "grid_template_areas": null,
      "grid_template_columns": null,
      "grid_template_rows": null,
      "height": null,
      "justify_content": null,
      "justify_items": null,
      "left": null,
      "margin": null,
      "max_height": null,
      "max_width": null,
      "min_height": null,
      "min_width": null,
      "object_fit": null,
      "object_position": null,
      "order": null,
      "overflow": null,
      "overflow_x": null,
      "overflow_y": null,
      "padding": null,
      "right": null,
      "top": null,
      "visibility": null,
      "width": null
     }
    },
    "ffdb03d27cb44ab1976b704aa5dcc9c3": {
     "model_module": "@jupyter-widgets/base",
     "model_name": "LayoutModel",
     "state": {
      "_model_module": "@jupyter-widgets/base",
      "_model_module_version": "1.2.0",
      "_model_name": "LayoutModel",
      "_view_count": null,
      "_view_module": "@jupyter-widgets/base",
      "_view_module_version": "1.2.0",
      "_view_name": "LayoutView",
      "align_content": null,
      "align_items": null,
      "align_self": null,
      "border": null,
      "bottom": null,
      "display": null,
      "flex": null,
      "flex_flow": null,
      "grid_area": null,
      "grid_auto_columns": null,
      "grid_auto_flow": null,
      "grid_auto_rows": null,
      "grid_column": null,
      "grid_gap": null,
      "grid_row": null,
      "grid_template_areas": null,
      "grid_template_columns": null,
      "grid_template_rows": null,
      "height": null,
      "justify_content": null,
      "justify_items": null,
      "left": null,
      "margin": null,
      "max_height": null,
      "max_width": null,
      "min_height": null,
      "min_width": null,
      "object_fit": null,
      "object_position": null,
      "order": null,
      "overflow": null,
      "overflow_x": null,
      "overflow_y": null,
      "padding": null,
      "right": null,
      "top": null,
      "visibility": null,
      "width": null
     }
    }
   }
  }
 },
 "nbformat": 4,
 "nbformat_minor": 1
}
