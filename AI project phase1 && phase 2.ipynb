{
 "cells": [
  {
   "cell_type": "code",
   "execution_count": 60,
   "metadata": {
    "id": "rIFcfiPrO4Eu"
   },
   "outputs": [],
   "source": [
    "import os\n",
    "import matplotlib.pyplot as plt\n",
    "import numpy as np\n",
    "import sklearn\n",
    "from sklearn.metrics import confusion_matrix, classification_report\n",
    "import seaborn as sb\n",
    "from preprocessing import *\n",
    "from model.convolutional_neural_network import *\n",
    "from sklearn.model_selection import KFold\n",
    "from model.Executor import *\n",
    "import warnings  \n",
    "warnings.filterwarnings(\"ignore\")\n",
    "\n",
    "import torch.nn.functional as functional\n"
   ]
  },
  {
   "cell_type": "markdown",
   "metadata": {},
   "source": [
    "# Training Data"
   ]
  },
  {
   "cell_type": "markdown",
   "metadata": {},
   "source": [
    "The statistics on the size of our dataset."
   ]
  },
  {
   "cell_type": "code",
   "execution_count": 61,
   "metadata": {
    "id": "a7q5Eo1opSUe"
   },
   "outputs": [
    {
     "data": {
      "image/png": "[encoded data removed]",
      "text/plain": [
       "<Figure size 648x216 with 1 Axes>"
      ]
     },
     "metadata": {},
     "output_type": "display_data"
    }
   ],
   "source": [
    "names = ['Not Person', 'With Mask', 'Without Mask']\n",
    "N = []\n",
    "N.append(len(os.listdir(\"./dataset/NotPerson\")))\n",
    "N.append(len(os.listdir(\"./dataset/WithMask\")))\n",
    "N.append(len(os.listdir(\"./dataset/WithoutMask\")))\n",
    "plt.figure(figsize=(9, 3))\n",
    "plt.bar(names, N)\n",
    "plt.show()"
   ]
  },
  {
   "cell_type": "markdown",
   "metadata": {},
   "source": [
    "Create datasets for training and testing the model."
   ]
  },
  {
   "cell_type": "code",
   "execution_count": 63,
   "metadata": {},
   "outputs": [],
   "source": [
    "dataset = load_data(\"./dataset\")\n",
    "tr_ds, te_ds = split_data(dataset)\n",
    "tr_loader = train_dataloarder(tr_ds)\n",
    "te_loader = test_dataloarder(te_ds)\n"
   ]
  },
  {
   "cell_type": "markdown",
   "metadata": {
    "id": "_XeDSNTVCHrm"
   },
   "source": [
    "# Deep Learning"
   ]
  },
  {
   "cell_type": "markdown",
   "metadata": {},
   "source": [
    "Implementing and training the CNN model."
   ]
  },
  {
   "cell_type": "code",
   "execution_count": 47,
   "metadata": {
    "colab": {
     "base_uri": "https://localhost:8080/",
     "height": 1000,
     "referenced_widgets": [
      "369378431af54073ad74d3259648d67e",
      "ffdb03d27cb44ab1976b704aa5dcc9c3",
      "565c525fcbfd4114a896bc8d40983bf8",
      "ce0a824e8dde472bb869c569a5b58a81",
      "555fe91350b04d5e91b533c10e025e83",
      "fbf7c3562fb04db3adb1ab1a510755f2",
      "b6583579f4ea488694744bb9958a00b5",
      "09202ce93a8b416c8220859fef3e4f74"
     ]
    },
    "id": "ibbaSGkXuPTv",
    "outputId": "4ec03f49-69aa-4d88-8915-68ef05b8356d",
    "scrolled": true
   },
   "outputs": [
    {
     "name": "stdout",
     "output_type": "stream",
     "text": [
      "  0/20... rate=0 Hz, eta=?, total=0:00:00, wall=15:42 EST\n",
      "current iter acc: 82.8148\n",
      "current iter loss: 83.4849\n",
      "  1/20... rate=0.06 Hz, eta=0:05:28, total=0:00:17, wall=15:42 EST\n",
      "current iter acc: 86.0741\n",
      "current iter loss: 72.8273\n",
      "  2/20... rate=0.06 Hz, eta=0:05:24, total=0:00:36, wall=15:43 EST\n",
      "current iter acc: 89.4815\n",
      "current iter loss: 65.5100\n",
      "  3/20... rate=0.06 Hz, eta=0:05:06, total=0:00:54, wall=15:43 EST\n",
      "current iter acc: 89.8519\n",
      "current iter loss: 59.9957\n",
      "  4/20... rate=0.06 Hz, eta=0:04:45, total=0:01:11, wall=15:43 EST\n",
      "current iter acc: 90.1481\n",
      "current iter loss: 55.0733\n",
      "  5/20... rate=0.06 Hz, eta=0:04:29, total=0:01:29, wall=15:44 EST\n",
      "current iter acc: 86.8889\n",
      "current iter loss: 50.4965\n",
      "  6/20... rate=0.06 Hz, eta=0:04:13, total=0:01:48, wall=15:44 EST\n",
      "current iter acc: 94.5926\n",
      "current iter loss: 46.8241\n",
      "  7/20... rate=0.05 Hz, eta=0:04:01, total=0:02:10, wall=15:44 EST\n",
      "current iter acc: 92.5185\n",
      "current iter loss: 44.4734\n",
      "  8/20... rate=0.05 Hz, eta=0:03:50, total=0:02:33, wall=15:45 EST\n",
      "current iter acc: 94.9630\n",
      "current iter loss: 41.9339\n",
      "  9/20... rate=0.05 Hz, eta=0:03:32, total=0:02:53, wall=15:45 EST\n",
      "current iter acc: 88.2963\n",
      "current iter loss: 39.9664\n",
      " 10/20... rate=0.05 Hz, eta=0:03:12, total=0:03:12, wall=15:45 EST\n",
      "current iter acc: 97.8519\n",
      "current iter loss: 37.8305\n",
      " 11/20... rate=0.05 Hz, eta=0:02:52, total=0:03:30, wall=15:46 EST\n",
      "current iter acc: 97.3333\n",
      "current iter loss: 35.9364\n",
      " 12/20... rate=0.05 Hz, eta=0:02:34, total=0:03:52, wall=15:46 EST\n",
      "current iter acc: 95.9259\n",
      "current iter loss: 34.5970\n",
      " 13/20... rate=0.05 Hz, eta=0:02:15, total=0:04:10, wall=15:46 EST\n",
      "current iter acc: 96.8889\n",
      "current iter loss: 33.1789\n",
      " 14/20... rate=0.05 Hz, eta=0:01:55, total=0:04:28, wall=15:47 EST\n",
      "current iter acc: 98.5926\n",
      "current iter loss: 31.7167\n",
      " 15/20... rate=0.05 Hz, eta=0:01:35, total=0:04:46, wall=15:47 EST\n",
      "current iter acc: 98.5926\n",
      "current iter loss: 30.3692\n",
      " 16/20... rate=0.05 Hz, eta=0:01:16, total=0:05:04, wall=15:47 EST\n",
      "current iter acc: 99.3333\n",
      "current iter loss: 28.9151\n",
      " 17/20... rate=0.05 Hz, eta=0:00:57, total=0:05:23, wall=15:48 EST\n",
      "current iter acc: 97.3333\n",
      "current iter loss: 27.8439\n",
      " 18/20... rate=0.05 Hz, eta=0:00:38, total=0:05:42, wall=15:48 EST\n",
      "current iter acc: 97.7778\n",
      "current iter loss: 26.9044\n",
      " 19/20... rate=0.05 Hz, eta=0:00:19, total=0:06:01, wall=15:48 EST\n",
      "current iter acc: 98.6667\n",
      "current iter loss: 25.9938\n",
      " 20/20... rate=0.05 Hz, eta=0:00:00, total=0:06:20, wall=15:48 EST\n"
     ]
    }
   ],
   "source": [
    "num_epochs = 20\n",
    "exec_obj = Executor()\n",
    "all_loss,iter_loss,accuracy = exec_obj.training_model_executor(\n",
    "    tr_loader,\n",
    "    num_epochs\n",
    ")\n"
   ]
  },
  {
   "cell_type": "code",
   "execution_count": 56,
   "metadata": {
    "id": "ibPpEZvq2zPR"
   },
   "outputs": [
    {
     "name": "stdout",
     "output_type": "stream",
     "text": [
      "Model accuracy for test dataset : 95.55555555555556\n",
      "450\n"
     ]
    }
   ],
   "source": [
    "testdata_accuracy = exec_obj.calculate_model_accuracy(te_loader)\n",
    "print(\"Model accuracy for test dataset :\",testdata_accuracy)\n",
    "print(len(te_ds))"
   ]
  },
  {
   "cell_type": "markdown",
   "metadata": {},
   "source": [
    "# Evaluation of Model (default one)"
   ]
  },
  {
   "cell_type": "code",
   "execution_count": 57,
   "metadata": {},
   "outputs": [
    {
     "data": {
      "image/png": "[encoded data removed]",
      "text/plain": [
       "<Figure size 432x288 with 2 Axes>"
      ]
     },
     "metadata": {},
     "output_type": "display_data"
    }
   ],
   "source": [
    "calc_model_weights, actual_results = next(iter(te_loader))\n",
    "model_net = exec_obj.network(calc_model_weights)\n",
    "pred_vals = torch.argmax(model_net, dim = 1)\n",
    "\n",
    "sb.set(font_scale=1.5) \n",
    "sb.heatmap(\n",
    "    confusion_matrix(actual_results.numpy(),pred_vals.numpy()),\n",
    "    annot=True,\n",
    "    annot_kws={\"size\": 16},\n",
    "    cmap=\"Blues\"\n",
    ")  \n",
    "plt.show()"
   ]
  },
  {
   "cell_type": "code",
   "execution_count": 58,
   "metadata": {},
   "outputs": [
    {
     "name": "stdout",
     "output_type": "stream",
     "text": [
      "              precision    recall  f1-score   support\n",
      "\n",
      "   with mask       0.94      0.97      0.96       141\n",
      "without mask       0.96      0.92      0.94       143\n",
      "not a person       0.96      0.98      0.97       166\n",
      "\n",
      "    accuracy                           0.96       450\n",
      "   macro avg       0.96      0.95      0.95       450\n",
      "weighted avg       0.96      0.96      0.96       450\n",
      "\n"
     ]
    }
   ],
   "source": [
    "report = classification_report(\n",
    "    actual_results.numpy(),\n",
    "    pred_vals.numpy(), \n",
    "    target_names=['with mask','without mask','not a person']\n",
    ")\n",
    "print(report)  "
   ]
  },
  {
   "cell_type": "markdown",
   "metadata": {},
   "source": [
    "# Saving the trained model."
   ]
  },
  {
   "cell_type": "code",
   "execution_count": 59,
   "metadata": {},
   "outputs": [],
   "source": [
    "save_path = os.path.join(os.path.abspath(\".\"), \"trained_model.pt\")\n",
    "torch.save(exec_obj.network.state_dict(), save_path)"
   ]
  },
  {
   "cell_type": "code",
   "execution_count": 41,
   "metadata": {},
   "outputs": [],
   "source": [
    "exec_obj = Executor()\n",
    "\n",
    "model = convolutional_neural_network.convolutional_neural_network()\n",
    "\n",
    "model.load_state_dict(torch.load(save_path))\n",
    "\n",
    "exec_obj.network = model"
   ]
  },
  {
   "cell_type": "code",
   "execution_count": 52,
   "metadata": {},
   "outputs": [
    {
     "name": "stdout",
     "output_type": "stream",
     "text": [
      "Model accuracy for test dataset(Female): 97.91666666666666\n",
      "Model accuracy for test dataset(Male): 98.33333333333333\n",
      "Model accuracy for test dataset(All): 97.6470588235294\n"
     ]
    }
   ],
   "source": [
    "dataset_female = load_data(\"./biasTestData/Female\")\n",
    "dataset_male = load_data(\"./biasTestData/Male\")\n",
    "dataset_all = load_data(\"./biasTestData/All\")\n",
    "\n",
    "te_loader_female = test_dataloarder(dataset_female)\n",
    "te_loader_male = test_dataloarder(dataset_male)\n",
    "te_loader_all = test_dataloarder(dataset_all)\n",
    "\n",
    "print(\"Model accuracy for test dataset(Female):\", exec_obj.calculate_model_accuracy(te_loader_female))\n",
    "print(\"Model accuracy for test dataset(Male):\", exec_obj.calculate_model_accuracy(te_loader_male))\n",
    "print(\"Model accuracy for test dataset(All):\", exec_obj.calculate_model_accuracy(te_loader_all))\n",
    "\n"
   ]
  },
  {
   "cell_type": "markdown",
   "metadata": {},
   "source": [
    "# Evaluation the model - Female "
   ]
  },
  {
   "cell_type": "code",
   "execution_count": 53,
   "metadata": {},
   "outputs": [
    {
     "data": {
      "image/png": "[encoded data removed]",
      "text/plain": [
       "<Figure size 432x288 with 2 Axes>"
      ]
     },
     "metadata": {},
     "output_type": "display_data"
    }
   ],
   "source": [
    "calc_model_weights, actual_results = next(iter(te_loader_female))\n",
    "model_net = exec_obj.network(calc_model_weights)\n",
    "pred_vals = torch.argmax(model_net, dim = 1)\n",
    "\n",
    "sb.set(font_scale=1.5) \n",
    "sb.heatmap(\n",
    "    confusion_matrix(actual_results.numpy(),pred_vals.numpy()),\n",
    "    annot=True,\n",
    "    annot_kws={\"size\": 16},\n",
    "    cmap=\"Blues\"\n",
    ")  \n",
    "plt.show()"
   ]
  },
  {
   "cell_type": "code",
   "execution_count": 36,
   "metadata": {},
   "outputs": [
    {
     "name": "stdout",
     "output_type": "stream",
     "text": [
      "              precision    recall  f1-score   support\n",
      "\n",
      "   with mask       0.98      0.98      0.98       140\n",
      "without mask       0.96      0.90      0.93        50\n",
      "not a person       0.94      1.00      0.97        50\n",
      "\n",
      "    accuracy                           0.97       240\n",
      "   macro avg       0.96      0.96      0.96       240\n",
      "weighted avg       0.97      0.97      0.97       240\n",
      "\n"
     ]
    }
   ],
   "source": [
    "report = classification_report(\n",
    "    actual_results.numpy(),\n",
    "    pred_vals.numpy(), \n",
    "    target_names=['with mask','without mask','not a person']\n",
    ")\n",
    "print(report)  "
   ]
  },
  {
   "cell_type": "markdown",
   "metadata": {},
   "source": [
    "# Evaluation the model - Male "
   ]
  },
  {
   "cell_type": "code",
   "execution_count": 37,
   "metadata": {},
   "outputs": [
    {
     "data": {
      "image/png": "[encoded data removed]",
      "text/plain": [
       "<Figure size 432x288 with 2 Axes>"
      ]
     },
     "metadata": {},
     "output_type": "display_data"
    }
   ],
   "source": [
    "calc_model_weights, actual_results = next(iter(te_loader_male))\n",
    "model_net = exec_obj.network(calc_model_weights)\n",
    "pred_vals = torch.argmax(model_net, dim = 1)\n",
    "\n",
    "sb.set(font_scale=1.5) \n",
    "sb.heatmap(\n",
    "    confusion_matrix(actual_results.numpy(),pred_vals.numpy()),\n",
    "    annot=True,\n",
    "    annot_kws={\"size\": 16},\n",
    "    cmap=\"Blues\"\n",
    ")  \n",
    "plt.show()"
   ]
  },
  {
   "cell_type": "markdown",
   "metadata": {},
   "source": [
    "# Evaluation: K-fold cross-validation"
   ]
  },
  {
   "cell_type": "code",
   "execution_count": 64,
   "metadata": {},
   "outputs": [
    {
     "name": "stdout",
     "output_type": "stream",
     "text": [
      "\n",
      "Start---KFOLD iteration 0\n",
      "\n",
      "Index lengths -- train idxs:1215 test idxs:135\n",
      "  0/10... rate=0 Hz, eta=?, total=0:00:00, wall=16:27 EST\n",
      "current iter acc: 35.5556\n",
      "current iter loss: 94.8401\n",
      "  1/10... rate=0.09 Hz, eta=0:01:39, total=0:00:11, wall=16:27 EST\n",
      "current iter acc: 84.2798\n",
      "current iter loss: 67.3425\n",
      "  2/10... rate=0.10 Hz, eta=0:01:23, total=0:00:20, wall=16:27 EST\n",
      "current iter acc: 92.1811\n",
      "current iter loss: 53.7424\n",
      "  3/10... rate=0.10 Hz, eta=0:01:11, total=0:00:30, wall=16:27 EST\n",
      "current iter acc: 89.9588\n",
      "current iter loss: 44.6713\n",
      "  4/10... rate=0.10 Hz, eta=0:00:59, total=0:00:39, wall=16:27 EST\n",
      "current iter acc: 95.6379\n",
      "current iter loss: 38.7416\n",
      "  5/10... rate=0.10 Hz, eta=0:00:48, total=0:00:48, wall=16:27 EST\n",
      "current iter acc: 98.6008\n",
      "current iter loss: 33.7231\n",
      "  6/10... rate=0.10 Hz, eta=0:00:38, total=0:00:58, wall=16:28 EST\n",
      "current iter acc: 98.6831\n",
      "current iter loss: 29.8932\n",
      "  7/10... rate=0.10 Hz, eta=0:00:28, total=0:01:07, wall=16:28 EST\n",
      "current iter acc: 99.0947\n",
      "current iter loss: 26.6461\n",
      "  8/10... rate=0.10 Hz, eta=0:00:19, total=0:01:16, wall=16:28 EST\n",
      "current iter acc: 99.6708\n",
      "current iter loss: 23.9502\n",
      "  9/10... rate=0.11 Hz, eta=0:00:09, total=0:01:25, wall=16:28 EST\n",
      "current iter acc: 99.5062\n",
      "current iter loss: 21.8165\n",
      " 10/10... rate=0.11 Hz, eta=0:00:00, total=0:01:34, wall=16:28 EST\n",
      "\n",
      "Start---KFOLD iteration 1\n",
      "\n",
      "Index lengths -- train idxs:1215 test idxs:135\n",
      "  0/10... rate=0 Hz, eta=?, total=0:00:00, wall=16:28 EST\n",
      "current iter acc: 98.2716\n",
      "current iter loss: 6.2347\n",
      "  1/10... rate=0.11 Hz, eta=0:01:22, total=0:00:09, wall=16:28 EST\n",
      "current iter acc: 98.1070\n",
      "current iter loss: 6.2347\n",
      "  2/10... rate=0.11 Hz, eta=0:01:13, total=0:00:18, wall=16:28 EST\n",
      "current iter acc: 99.5885\n",
      "current iter loss: 5.3352\n",
      "  3/10... rate=0.11 Hz, eta=0:01:04, total=0:00:27, wall=16:29 EST\n",
      "current iter acc: 99.3416\n",
      "current iter loss: 4.6902\n",
      "  4/10... rate=0.11 Hz, eta=0:00:55, total=0:00:36, wall=16:29 EST\n",
      "current iter acc: 99.9177\n",
      "current iter loss: 3.9992\n",
      "  5/10... rate=0.11 Hz, eta=0:00:45, total=0:00:45, wall=16:29 EST\n",
      "current iter acc: 99.9177\n",
      "current iter loss: 3.4981\n",
      "  6/10... rate=0.11 Hz, eta=0:00:36, total=0:00:55, wall=16:29 EST\n",
      "current iter acc: 99.9177\n",
      "current iter loss: 3.1328\n",
      "  7/10... rate=0.11 Hz, eta=0:00:27, total=0:01:04, wall=16:29 EST\n",
      "current iter acc: 99.8354\n",
      "current iter loss: 2.7616\n",
      "  8/10... rate=0.11 Hz, eta=0:00:18, total=0:01:13, wall=16:29 EST\n",
      "current iter acc: 99.9177\n",
      "current iter loss: 2.5120\n",
      "  9/10... rate=0.11 Hz, eta=0:00:09, total=0:01:22, wall=16:29 EST\n",
      "current iter acc: 100.0000\n",
      "current iter loss: 2.2805\n",
      " 10/10... rate=0.11 Hz, eta=0:00:00, total=0:01:31, wall=16:30 EST\n",
      "\n",
      "Start---KFOLD iteration 2\n",
      "\n",
      "Index lengths -- train idxs:1215 test idxs:135\n",
      "  0/10... rate=0 Hz, eta=?, total=0:00:00, wall=16:30 EST\n",
      "current iter acc: 99.9177\n",
      "current iter loss: 0.2565\n",
      "  1/10... rate=0.11 Hz, eta=0:01:22, total=0:00:09, wall=16:30 EST\n",
      "current iter acc: 99.8354\n",
      "current iter loss: 0.2565\n",
      "  2/10... rate=0.11 Hz, eta=0:01:13, total=0:00:18, wall=16:30 EST\n",
      "current iter acc: 99.2593\n",
      "current iter loss: 0.2565\n",
      "  3/10... rate=0.11 Hz, eta=0:01:04, total=0:00:27, wall=16:30 EST\n",
      "current iter acc: 99.0947\n",
      "current iter loss: 0.2565\n",
      "  4/10... rate=0.11 Hz, eta=0:00:55, total=0:00:36, wall=16:30 EST\n",
      "current iter acc: 99.5885\n",
      "current iter loss: 0.2565\n",
      "  5/10... rate=0.10 Hz, eta=0:00:47, total=0:00:47, wall=16:30 EST\n",
      "current iter acc: 99.3416\n",
      "current iter loss: 0.2565\n",
      "  6/10... rate=0.10 Hz, eta=0:00:39, total=0:00:59, wall=16:31 EST\n",
      "current iter acc: 99.8354\n",
      "current iter loss: 0.2565\n",
      "  7/10... rate=0.10 Hz, eta=0:00:30, total=0:01:10, wall=16:31 EST\n",
      "current iter acc: 99.9177\n",
      "current iter loss: 0.2565\n",
      "  8/10... rate=0.10 Hz, eta=0:00:20, total=0:01:22, wall=16:31 EST\n",
      "current iter acc: 100.0000\n",
      "current iter loss: 0.2565\n",
      "  9/10... rate=0.09 Hz, eta=0:00:11, total=0:01:41, wall=16:31 EST\n",
      "current iter acc: 100.0000\n",
      "current iter loss: 0.2565\n",
      " 10/10... rate=0.09 Hz, eta=0:00:00, total=0:01:52, wall=16:32 EST\n",
      "\n",
      "Start---KFOLD iteration 3\n",
      "\n",
      "Index lengths -- train idxs:1215 test idxs:135\n",
      "  0/10... rate=0 Hz, eta=?, total=0:00:00, wall=16:32 EST\n",
      "current iter acc: 100.0000\n",
      "current iter loss: 0.1437\n",
      "  1/10... rate=0.09 Hz, eta=0:01:44, total=0:00:11, wall=16:32 EST\n",
      "current iter acc: 100.0000\n",
      "current iter loss: 0.0930\n",
      "  2/10... rate=0.08 Hz, eta=0:01:35, total=0:00:23, wall=16:32 EST\n",
      "current iter acc: 100.0000\n",
      "current iter loss: 0.0779\n",
      "  3/10... rate=0.09 Hz, eta=0:01:20, total=0:00:34, wall=16:32 EST\n",
      "current iter acc: 100.0000\n",
      "current iter loss: 0.0664\n",
      "  4/10... rate=0.08 Hz, eta=0:01:10, total=0:00:47, wall=16:32 EST\n",
      "current iter acc: 100.0000\n",
      "current iter loss: 0.0576\n",
      "  5/10... rate=0.08 Hz, eta=0:01:00, total=0:01:00, wall=16:33 EST\n",
      "current iter acc: 100.0000\n",
      "current iter loss: 0.0515\n",
      "  6/10... rate=0.08 Hz, eta=0:00:47, total=0:01:11, wall=16:33 EST\n",
      "current iter acc: 100.0000\n",
      "current iter loss: 0.0466\n",
      "  7/10... rate=0.08 Hz, eta=0:00:35, total=0:01:22, wall=16:33 EST\n",
      "current iter acc: 100.0000\n",
      "current iter loss: 0.0430\n",
      "  8/10... rate=0.09 Hz, eta=0:00:23, total=0:01:33, wall=16:33 EST\n",
      "current iter acc: 100.0000\n",
      "current iter loss: 0.0398\n",
      "  9/10... rate=0.09 Hz, eta=0:00:11, total=0:01:43, wall=16:33 EST\n",
      "current iter acc: 100.0000\n",
      "current iter loss: 0.0368\n",
      " 10/10... rate=0.09 Hz, eta=0:00:00, total=0:01:52, wall=16:33 EST\n",
      "\n",
      "Start---KFOLD iteration 4\n",
      "\n",
      "Index lengths -- train idxs:1215 test idxs:135\n",
      "  0/10... rate=0 Hz, eta=?, total=0:00:00, wall=16:33 EST\n",
      "current iter acc: 100.0000\n",
      "current iter loss: 0.0081\n",
      "  1/10... rate=0.11 Hz, eta=0:01:23, total=0:00:09, wall=16:34 EST\n",
      "current iter acc: 100.0000\n",
      "current iter loss: 0.0081\n",
      "  2/10... rate=0.11 Hz, eta=0:01:13, total=0:00:18, wall=16:34 EST\n",
      "current iter acc: 100.0000\n",
      "current iter loss: 0.0081\n",
      "  3/10... rate=0.11 Hz, eta=0:01:04, total=0:00:27, wall=16:34 EST\n",
      "current iter acc: 100.0000\n",
      "current iter loss: 0.0081\n",
      "  4/10... rate=0.11 Hz, eta=0:00:55, total=0:00:36, wall=16:34 EST\n",
      "current iter acc: 100.0000\n",
      "current iter loss: 0.0081\n",
      "  5/10... rate=0.11 Hz, eta=0:00:46, total=0:00:46, wall=16:34 EST\n",
      "current iter acc: 100.0000\n",
      "current iter loss: 0.0081\n",
      "  6/10... rate=0.11 Hz, eta=0:00:37, total=0:00:55, wall=16:34 EST\n",
      "current iter acc: 100.0000\n",
      "current iter loss: 0.0081\n",
      "  7/10... rate=0.11 Hz, eta=0:00:27, total=0:01:04, wall=16:34 EST\n",
      "current iter acc: 100.0000\n",
      "current iter loss: 0.0080\n",
      "  8/10... rate=0.11 Hz, eta=0:00:18, total=0:01:14, wall=16:35 EST\n",
      "current iter acc: 100.0000\n",
      "current iter loss: 0.0078\n",
      "  9/10... rate=0.11 Hz, eta=0:00:09, total=0:01:23, wall=16:35 EST\n",
      "current iter acc: 100.0000\n",
      "current iter loss: 0.0076\n",
      " 10/10... rate=0.11 Hz, eta=0:00:00, total=0:01:33, wall=16:35 EST\n",
      "\n",
      "Start---KFOLD iteration 5\n",
      "\n",
      "Index lengths -- train idxs:1215 test idxs:135\n",
      "  0/10... rate=0 Hz, eta=?, total=0:00:00, wall=16:35 EST\n",
      "current iter acc: 100.0000\n",
      "current iter loss: 0.0054\n",
      "  1/10... rate=0.09 Hz, eta=0:01:35, total=0:00:10, wall=16:35 EST\n",
      "current iter acc: 100.0000\n",
      "current iter loss: 0.0053\n",
      "  2/10... rate=0.10 Hz, eta=0:01:23, total=0:00:20, wall=16:35 EST\n",
      "current iter acc: 100.0000\n",
      "current iter loss: 0.0053\n",
      "  3/10... rate=0.10 Hz, eta=0:01:13, total=0:00:31, wall=16:35 EST\n",
      "current iter acc: 100.0000\n",
      "current iter loss: 0.0053\n",
      "  4/10... rate=0.10 Hz, eta=0:01:01, total=0:00:41, wall=16:36 EST\n",
      "current iter acc: 100.0000\n",
      "current iter loss: 0.0053\n",
      "  5/10... rate=0.10 Hz, eta=0:00:51, total=0:00:51, wall=16:36 EST\n",
      "current iter acc: 100.0000\n",
      "current iter loss: 0.0053\n",
      "  6/10... rate=0.10 Hz, eta=0:00:41, total=0:01:02, wall=16:36 EST\n",
      "current iter acc: 100.0000\n",
      "current iter loss: 0.0053\n",
      "  7/10... rate=0.09 Hz, eta=0:00:31, total=0:01:14, wall=16:36 EST\n",
      "current iter acc: 100.0000\n",
      "current iter loss: 0.0053\n",
      "  8/10... rate=0.09 Hz, eta=0:00:21, total=0:01:25, wall=16:36 EST\n",
      "current iter acc: 100.0000\n",
      "current iter loss: 0.0053\n",
      "  9/10... rate=0.09 Hz, eta=0:00:10, total=0:01:36, wall=16:37 EST\n",
      "current iter acc: 100.0000\n",
      "current iter loss: 0.0053\n",
      " 10/10... rate=0.09 Hz, eta=0:00:00, total=0:01:47, wall=16:37 EST\n",
      "\n",
      "Start---KFOLD iteration 6\n",
      "\n",
      "Index lengths -- train idxs:1215 test idxs:135\n",
      "  0/10... rate=0 Hz, eta=?, total=0:00:00, wall=16:37 EST\n",
      "current iter acc: 100.0000\n",
      "current iter loss: 0.0295\n",
      "  1/10... rate=0.09 Hz, eta=0:01:36, total=0:00:10, wall=16:37 EST\n"
     ]
    },
    {
     "name": "stdout",
     "output_type": "stream",
     "text": [
      "current iter acc: 100.0000\n",
      "current iter loss: 0.0210\n",
      "  2/10... rate=0.10 Hz, eta=0:01:23, total=0:00:20, wall=16:37 EST\n",
      "current iter acc: 100.0000\n",
      "current iter loss: 0.0170\n",
      "  3/10... rate=0.10 Hz, eta=0:01:10, total=0:00:30, wall=16:37 EST\n",
      "current iter acc: 100.0000\n",
      "current iter loss: 0.0153\n",
      "  4/10... rate=0.10 Hz, eta=0:00:59, total=0:00:39, wall=16:37 EST\n",
      "current iter acc: 100.0000\n",
      "current iter loss: 0.0134\n",
      "  5/10... rate=0.10 Hz, eta=0:00:48, total=0:00:48, wall=16:38 EST\n",
      "current iter acc: 100.0000\n",
      "current iter loss: 0.0120\n",
      "  6/10... rate=0.10 Hz, eta=0:00:38, total=0:00:58, wall=16:38 EST\n",
      "current iter acc: 100.0000\n",
      "current iter loss: 0.0112\n",
      "  7/10... rate=0.10 Hz, eta=0:00:29, total=0:01:08, wall=16:38 EST\n",
      "current iter acc: 100.0000\n",
      "current iter loss: 0.0108\n",
      "  8/10... rate=0.10 Hz, eta=0:00:19, total=0:01:18, wall=16:38 EST\n",
      "current iter acc: 100.0000\n",
      "current iter loss: 0.0108\n",
      "  9/10... rate=0.10 Hz, eta=0:00:09, total=0:01:27, wall=16:38 EST\n",
      "current iter acc: 100.0000\n",
      "current iter loss: 0.0102\n",
      " 10/10... rate=0.10 Hz, eta=0:00:00, total=0:01:38, wall=16:38 EST\n",
      "\n",
      "Start---KFOLD iteration 7\n",
      "\n",
      "Index lengths -- train idxs:1215 test idxs:135\n",
      "  0/10... rate=0 Hz, eta=?, total=0:00:00, wall=16:38 EST\n",
      "current iter acc: 100.0000\n",
      "current iter loss: 0.0048\n",
      "  1/10... rate=0.10 Hz, eta=0:01:28, total=0:00:09, wall=16:39 EST\n",
      "current iter acc: 100.0000\n",
      "current iter loss: 0.0045\n",
      "  2/10... rate=0.10 Hz, eta=0:01:21, total=0:00:20, wall=16:39 EST\n",
      "current iter acc: 100.0000\n",
      "current iter loss: 0.0045\n",
      "  3/10... rate=0.09 Hz, eta=0:01:14, total=0:00:32, wall=16:39 EST\n",
      "current iter acc: 100.0000\n",
      "current iter loss: 0.0045\n",
      "  4/10... rate=0.10 Hz, eta=0:01:02, total=0:00:41, wall=16:39 EST\n",
      "current iter acc: 100.0000\n",
      "current iter loss: 0.0045\n",
      "  5/10... rate=0.10 Hz, eta=0:00:51, total=0:00:51, wall=16:39 EST\n",
      "current iter acc: 100.0000\n",
      "current iter loss: 0.0045\n",
      "  6/10... rate=0.10 Hz, eta=0:00:40, total=0:01:01, wall=16:39 EST\n",
      "current iter acc: 100.0000\n",
      "current iter loss: 0.0045\n",
      "  7/10... rate=0.10 Hz, eta=0:00:30, total=0:01:11, wall=16:40 EST\n",
      "current iter acc: 100.0000\n",
      "current iter loss: 0.0043\n",
      "  8/10... rate=0.10 Hz, eta=0:00:20, total=0:01:20, wall=16:40 EST\n",
      "current iter acc: 100.0000\n",
      "current iter loss: 0.0043\n",
      "  9/10... rate=0.10 Hz, eta=0:00:09, total=0:01:29, wall=16:40 EST\n",
      "current iter acc: 100.0000\n",
      "current iter loss: 0.0043\n",
      " 10/10... rate=0.10 Hz, eta=0:00:00, total=0:01:38, wall=16:40 EST\n",
      "\n",
      "Start---KFOLD iteration 8\n",
      "\n",
      "Index lengths -- train idxs:1215 test idxs:135\n",
      "  0/10... rate=0 Hz, eta=?, total=0:00:00, wall=16:40 EST\n",
      "current iter acc: 100.0000\n",
      "current iter loss: 0.0038\n",
      "  1/10... rate=0.10 Hz, eta=0:01:28, total=0:00:09, wall=16:40 EST\n",
      "current iter acc: 100.0000\n",
      "current iter loss: 0.0034\n",
      "  2/10... rate=0.10 Hz, eta=0:01:22, total=0:00:20, wall=16:40 EST\n",
      "current iter acc: 100.0000\n",
      "current iter loss: 0.0034\n",
      "  3/10... rate=0.09 Hz, eta=0:01:13, total=0:00:31, wall=16:41 EST\n",
      "current iter acc: 100.0000\n",
      "current iter loss: 0.0034\n",
      "  4/10... rate=0.10 Hz, eta=0:01:01, total=0:00:40, wall=16:41 EST\n",
      "current iter acc: 100.0000\n",
      "current iter loss: 0.0034\n",
      "  5/10... rate=0.10 Hz, eta=0:00:49, total=0:00:49, wall=16:41 EST\n",
      "current iter acc: 100.0000\n",
      "current iter loss: 0.0034\n",
      "  6/10... rate=0.10 Hz, eta=0:00:39, total=0:00:59, wall=16:41 EST\n",
      "current iter acc: 100.0000\n",
      "current iter loss: 0.0034\n",
      "  7/10... rate=0.10 Hz, eta=0:00:29, total=0:01:08, wall=16:41 EST\n",
      "current iter acc: 100.0000\n",
      "current iter loss: 0.0034\n",
      "  8/10... rate=0.10 Hz, eta=0:00:19, total=0:01:17, wall=16:41 EST\n",
      "current iter acc: 100.0000\n",
      "current iter loss: 0.0034\n",
      "  9/10... rate=0.10 Hz, eta=0:00:09, total=0:01:26, wall=16:41 EST\n",
      "current iter acc: 100.0000\n",
      "current iter loss: 0.0034\n",
      " 10/10... rate=0.10 Hz, eta=0:00:00, total=0:01:35, wall=16:42 EST\n",
      "\n",
      "Start---KFOLD iteration 9\n",
      "\n",
      "Index lengths -- train idxs:1215 test idxs:135\n",
      "  0/10... rate=0 Hz, eta=?, total=0:00:00, wall=16:42 EST\n",
      "current iter acc: 100.0000\n",
      "current iter loss: 0.0036\n",
      "  1/10... rate=0.11 Hz, eta=0:01:21, total=0:00:09, wall=16:42 EST\n",
      "current iter acc: 100.0000\n",
      "current iter loss: 0.0031\n",
      "  2/10... rate=0.11 Hz, eta=0:01:12, total=0:00:18, wall=16:42 EST\n",
      "current iter acc: 100.0000\n",
      "current iter loss: 0.0029\n",
      "  3/10... rate=0.11 Hz, eta=0:01:03, total=0:00:27, wall=16:42 EST\n",
      "current iter acc: 100.0000\n",
      "current iter loss: 0.0029\n",
      "  4/10... rate=0.11 Hz, eta=0:00:54, total=0:00:36, wall=16:42 EST\n",
      "current iter acc: 100.0000\n",
      "current iter loss: 0.0029\n",
      "  5/10... rate=0.11 Hz, eta=0:00:45, total=0:00:45, wall=16:42 EST\n",
      "current iter acc: 100.0000\n",
      "current iter loss: 0.0029\n",
      "  6/10... rate=0.11 Hz, eta=0:00:36, total=0:00:54, wall=16:43 EST\n",
      "current iter acc: 100.0000\n",
      "current iter loss: 0.0029\n",
      "  7/10... rate=0.11 Hz, eta=0:00:27, total=0:01:04, wall=16:43 EST\n",
      "current iter acc: 100.0000\n",
      "current iter loss: 0.0029\n",
      "  8/10... rate=0.11 Hz, eta=0:00:18, total=0:01:13, wall=16:43 EST\n",
      "current iter acc: 100.0000\n",
      "current iter loss: 0.0029\n",
      "  9/10... rate=0.11 Hz, eta=0:00:09, total=0:01:22, wall=16:43 EST\n",
      "current iter acc: 100.0000\n",
      "current iter loss: 0.0029\n",
      " 10/10... rate=0.11 Hz, eta=0:00:00, total=0:01:31, wall=16:43 EST\n"
     ]
    }
   ],
   "source": [
    "def doKfold(executor_obj, dataset, num_of_folds=10, num_of_epochs=10):\n",
    "    all_epoch_loss = []\n",
    "    result_loss_vals = []\n",
    "    result_acy_vals = []\n",
    "    \n",
    "    cnt = 0\n",
    "    kfold_obj = KFold(num_of_folds, shuffle=True)\n",
    "    kf_dataset = kfold_obj.split(dataset)\n",
    "\n",
    "    for idx, (trn_idx_vals, tst_idx_vals) in enumerate(kf_dataset):\n",
    "        print(\"\\nStart---KFOLD iteration {}\\n\".format(idx))\n",
    "        print(\"Index lengths -- train idxs:{} test idxs:{}\".format(len(trn_idx_vals), len(tst_idx_vals)))\n",
    "        \n",
    "        trn_data_loader = torch.utils.data.DataLoader(\n",
    "            dataset=torch.utils.data.Subset(dataset, trn_idx_vals), \n",
    "            shuffle=True,\n",
    "            batch_size=50, \n",
    "            num_workers=2\n",
    "        )\n",
    "        \n",
    "        tst_data_loader = torch.utils.data.DataLoader(\n",
    "            dataset=torch.utils.data.Subset(dataset, tst_idx_vals), \n",
    "            shuffle=True,\n",
    "            batch_size=50, \n",
    "            num_workers=2\n",
    "        )\n",
    "        \n",
    "        all_loss, epoch_loss, accuracy_vals = exec_obj.training_model_executor(trn_data_loader,  num_of_epochs)\n",
    "        avg_loss = np.mean(all_loss)\n",
    "        avg_accuracy = np.mean(accuracy_vals)\n",
    "        \n",
    "        result_loss_vals.append(avg_loss)\n",
    "        all_epoch_loss.append(epoch_loss)\n",
    "        result_acy_vals.append(avg_accuracy)\n",
    "        \n",
    "        \n",
    "    return all_epoch_loss, result_loss_vals, result_acy_vals\n",
    "        \n",
    "        \n",
    "\n",
    "exec_obj = Executor()        \n",
    "        \n",
    "all_epoch_loss, result_loss_vals, result_acy_vals = doKfold(exec_obj, tr_ds, num_of_folds=10, num_of_epochs=10)\n"
   ]
  },
  {
   "cell_type": "markdown",
   "metadata": {},
   "source": [
    "# Save the Kfold trained Model"
   ]
  },
  {
   "cell_type": "code",
   "execution_count": 79,
   "metadata": {},
   "outputs": [
    {
     "name": "stdout",
     "output_type": "stream",
     "text": [
      "Agg Accuracy at fold: 0 is 89.31687242798353%\n",
      "Agg loss at fold: 0 is 0.4353670683865668%\n",
      "----\n",
      "Agg Accuracy at fold: 1 is 99.48148148148148%\n",
      "Agg loss at fold: 1 is 0.04097933145379633%\n",
      "----\n",
      "Agg Accuracy at fold: 2 is 99.67901234567901%\n",
      "Agg loss at fold: 2 is 0.01350003923280026%\n",
      "----\n",
      "Agg Accuracy at fold: 3 is 100.0%\n",
      "Agg loss at fold: 3 is 0.0006563433963091903%\n",
      "----\n",
      "Agg Accuracy at fold: 4 is 100.0%\n",
      "Agg loss at fold: 4 is 8.472923737567437e-05%\n",
      "----\n",
      "Agg Accuracy at fold: 5 is 100.0%\n",
      "Agg loss at fold: 5 is 0.00027460989525747036%\n",
      "----\n",
      "Agg Accuracy at fold: 6 is 100.0%\n",
      "Agg loss at fold: 6 is 0.00015121599856276937%\n",
      "----\n",
      "Agg Accuracy at fold: 7 is 100.0%\n",
      "Agg loss at fold: 7 is 4.509768153135094e-05%\n",
      "----\n",
      "Agg Accuracy at fold: 8 is 100.0%\n",
      "Agg loss at fold: 8 is 6.55700722342956e-05%\n",
      "----\n",
      "Agg Accuracy at fold: 9 is 100.0%\n",
      "Agg loss at fold: 9 is 0.00016022940437205473%\n",
      "----\n"
     ]
    }
   ],
   "source": [
    "kfold_save_path = os.path.join(os.path.abspath(\".\"), \"Kfold_trained_model.pt\")\n",
    "torch.save(exec_obj.network.state_dict(), kfold_save_path)\n",
    "\n",
    "\n",
    "for i in range(0, len(all_epoch_loss)):\n",
    "    print(\"Agg Accuracy at fold: {} is {}%\".format(i, result_acy_vals[i]))\n",
    "    print(\"Agg loss at fold: {} is {}%\".format(i, np.mean(all_epoch_loss[i])))\n",
    "    print(\"----\")"
   ]
  },
  {
   "cell_type": "markdown",
   "metadata": {},
   "source": [
    "# Load the Kfold trained Model"
   ]
  },
  {
   "cell_type": "code",
   "execution_count": 41,
   "metadata": {},
   "outputs": [],
   "source": [
    "exec_obj = Executor()\n",
    "\n",
    "model = convolutional_neural_network.convolutional_neural_network()\n",
    "\n",
    "model.load_state_dict(torch.load(kfold_save_path))\n",
    "\n",
    "exec_obj.network = model"
   ]
  },
  {
   "cell_type": "code",
   "execution_count": 80,
   "metadata": {},
   "outputs": [
    {
     "name": "stdout",
     "output_type": "stream",
     "text": [
      "Model accuracy for test dataset : 97.55555555555556\n",
      "450\n"
     ]
    }
   ],
   "source": [
    "testdata_accuracy = exec_obj.calculate_model_accuracy(te_loader)\n",
    "print(\"Model accuracy for test dataset :\",testdata_accuracy)\n",
    "print(len(te_ds))"
   ]
  },
  {
   "cell_type": "markdown",
   "metadata": {},
   "source": [
    "# Evaluating the Model after running KFold"
   ]
  },
  {
   "cell_type": "code",
   "execution_count": 43,
   "metadata": {},
   "outputs": [
    {
     "data": {
      "image/png": "[encoded data removed]",
      "text/plain": [
       "<Figure size 432x288 with 2 Axes>"
      ]
     },
     "metadata": {},
     "output_type": "display_data"
    }
   ],
   "source": [
    "calc_model_weights, actual_results = next(iter(te_loader))\n",
    "model_net = exec_obj.network(calc_model_weights)\n",
    "pred_vals = torch.argmax(model_net, dim = 1)\n",
    "\n",
    "sb.set(font_scale=1.5) \n",
    "sb.heatmap(\n",
    "    confusion_matrix(actual_results.numpy(),pred_vals.numpy()),\n",
    "    annot=True,\n",
    "    annot_kws={\"size\": 16},\n",
    "    cmap=\"Blues\"\n",
    ")  \n",
    "plt.show()"
   ]
  },
  {
   "cell_type": "markdown",
   "metadata": {},
   "source": [
    "# Classification report on K-fold trained network"
   ]
  },
  {
   "cell_type": "code",
   "execution_count": 44,
   "metadata": {},
   "outputs": [
    {
     "name": "stdout",
     "output_type": "stream",
     "text": [
      "              precision    recall  f1-score   support\n",
      "\n",
      "   with mask       0.97      0.98      0.97       141\n",
      "without mask       0.99      0.97      0.98       143\n",
      "not a person       0.99      0.99      0.99       166\n",
      "\n",
      "    accuracy                           0.98       450\n",
      "   macro avg       0.98      0.98      0.98       450\n",
      "weighted avg       0.98      0.98      0.98       450\n",
      "\n"
     ]
    }
   ],
   "source": [
    "report = classification_report(\n",
    "    actual_results.numpy(),\n",
    "    pred_vals.numpy(), \n",
    "    target_names=['with mask','without mask','not a person']\n",
    ")\n",
    "print(report)  "
   ]
  }
 ],
 "metadata": {
  "colab": {
   "collapsed_sections": [],
   "name": "Part1.ipynb",
   "provenance": [],
   "toc_visible": true
  },
  "kernelspec": {
   "display_name": "Python 3",
   "language": "python",
   "name": "python3"
  },
  "language_info": {
   "codemirror_mode": {
    "name": "ipython",
    "version": 3
   },
   "file_extension": ".py",
   "mimetype": "text/x-python",
   "name": "python",
   "nbconvert_exporter": "python",
   "pygments_lexer": "ipython3",
   "version": "3.8.5"
  },
  "widgets": {
   "application/vnd.jupyter.widget-state+json": {
    "09202ce93a8b416c8220859fef3e4f74": {
     "model_module": "@jupyter-widgets/base",
     "model_name": "LayoutModel",
     "state": {
      "_model_module": "@jupyter-widgets/base",
      "_model_module_version": "1.2.0",
      "_model_name": "LayoutModel",
      "_view_count": null,
      "_view_module": "@jupyter-widgets/base",
      "_view_module_version": "1.2.0",
      "_view_name": "LayoutView",
      "align_content": null,
      "align_items": null,
      "align_self": null,
      "border": null,
      "bottom": null,
      "display": null,
      "flex": null,
      "flex_flow": null,
      "grid_area": null,
      "grid_auto_columns": null,
      "grid_auto_flow": null,
      "grid_auto_rows": null,
      "grid_column": null,
      "grid_gap": null,
      "grid_row": null,
      "grid_template_areas": null,
      "grid_template_columns": null,
      "grid_template_rows": null,
      "height": null,
      "justify_content": null,
      "justify_items": null,
      "left": null,
      "margin": null,
      "max_height": null,
      "max_width": null,
      "min_height": null,
      "min_width": null,
      "object_fit": null,
      "object_position": null,
      "order": null,
      "overflow": null,
      "overflow_x": null,
      "overflow_y": null,
      "padding": null,
      "right": null,
      "top": null,
      "visibility": null,
      "width": null
     }
    },
    "369378431af54073ad74d3259648d67e": {
     "model_module": "@jupyter-widgets/controls",
     "model_name": "HBoxModel",
     "state": {
      "_dom_classes": [],
      "_model_module": "@jupyter-widgets/controls",
      "_model_module_version": "1.5.0",
      "_model_name": "HBoxModel",
      "_view_count": null,
      "_view_module": "@jupyter-widgets/controls",
      "_view_module_version": "1.5.0",
      "_view_name": "HBoxView",
      "box_style": "",
      "children": [
       "IPY_MODEL_565c525fcbfd4114a896bc8d40983bf8",
       "IPY_MODEL_ce0a824e8dde472bb869c569a5b58a81"
      ],
      "layout": "IPY_MODEL_ffdb03d27cb44ab1976b704aa5dcc9c3"
     }
    },
    "555fe91350b04d5e91b533c10e025e83": {
     "model_module": "@jupyter-widgets/controls",
     "model_name": "ProgressStyleModel",
     "state": {
      "_model_module": "@jupyter-widgets/controls",
      "_model_module_version": "1.5.0",
      "_model_name": "ProgressStyleModel",
      "_view_count": null,
      "_view_module": "@jupyter-widgets/base",
      "_view_module_version": "1.2.0",
      "_view_name": "StyleView",
      "bar_color": null,
      "description_width": "initial"
     }
    },
    "565c525fcbfd4114a896bc8d40983bf8": {
     "model_module": "@jupyter-widgets/controls",
     "model_name": "FloatProgressModel",
     "state": {
      "_dom_classes": [],
      "_model_module": "@jupyter-widgets/controls",
      "_model_module_version": "1.5.0",
      "_model_name": "FloatProgressModel",
      "_view_count": null,
      "_view_module": "@jupyter-widgets/controls",
      "_view_module_version": "1.5.0",
      "_view_name": "ProgressView",
      "bar_style": "success",
      "description": "Training: 100%",
      "description_tooltip": null,
      "layout": "IPY_MODEL_fbf7c3562fb04db3adb1ab1a510755f2",
      "max": 10,
      "min": 0,
      "orientation": "horizontal",
      "style": "IPY_MODEL_555fe91350b04d5e91b533c10e025e83",
      "value": 10
     }
    },
    "b6583579f4ea488694744bb9958a00b5": {
     "model_module": "@jupyter-widgets/controls",
     "model_name": "DescriptionStyleModel",
     "state": {
      "_model_module": "@jupyter-widgets/controls",
      "_model_module_version": "1.5.0",
      "_model_name": "DescriptionStyleModel",
      "_view_count": null,
      "_view_module": "@jupyter-widgets/base",
      "_view_module_version": "1.2.0",
      "_view_name": "StyleView",
      "description_width": ""
     }
    },
    "ce0a824e8dde472bb869c569a5b58a81": {
     "model_module": "@jupyter-widgets/controls",
     "model_name": "HTMLModel",
     "state": {
      "_dom_classes": [],
      "_model_module": "@jupyter-widgets/controls",
      "_model_module_version": "1.5.0",
      "_model_name": "HTMLModel",
      "_view_count": null,
      "_view_module": "@jupyter-widgets/controls",
      "_view_module_version": "1.5.0",
      "_view_name": "HTMLView",
      "description": "",
      "description_tooltip": null,
      "layout": "IPY_MODEL_09202ce93a8b416c8220859fef3e4f74",
      "placeholder": "​",
      "style": "IPY_MODEL_b6583579f4ea488694744bb9958a00b5",
      "value": " 10/10 [58:51&lt;00:00, 353.18s/it]"
     }
    },
    "fbf7c3562fb04db3adb1ab1a510755f2": {
     "model_module": "@jupyter-widgets/base",
     "model_name": "LayoutModel",
     "state": {
      "_model_module": "@jupyter-widgets/base",
      "_model_module_version": "1.2.0",
      "_model_name": "LayoutModel",
      "_view_count": null,
      "_view_module": "@jupyter-widgets/base",
      "_view_module_version": "1.2.0",
      "_view_name": "LayoutView",
      "align_content": null,
      "align_items": null,
      "align_self": null,
      "border": null,
      "bottom": null,
      "display": null,
      "flex": null,
      "flex_flow": null,
      "grid_area": null,
      "grid_auto_columns": null,
      "grid_auto_flow": null,
      "grid_auto_rows": null,
      "grid_column": null,
      "grid_gap": null,
      "grid_row": null,
      "grid_template_areas": null,
      "grid_template_columns": null,
      "grid_template_rows": null,
      "height": null,
      "justify_content": null,
      "justify_items": null,
      "left": null,
      "margin": null,
      "max_height": null,
      "max_width": null,
      "min_height": null,
      "min_width": null,
      "object_fit": null,
      "object_position": null,
      "order": null,
      "overflow": null,
      "overflow_x": null,
      "overflow_y": null,
      "padding": null,
      "right": null,
      "top": null,
      "visibility": null,
      "width": null
     }
    },
    "ffdb03d27cb44ab1976b704aa5dcc9c3": {
     "model_module": "@jupyter-widgets/base",
     "model_name": "LayoutModel",
     "state": {
      "_model_module": "@jupyter-widgets/base",
      "_model_module_version": "1.2.0",
      "_model_name": "LayoutModel",
      "_view_count": null,
      "_view_module": "@jupyter-widgets/base",
      "_view_module_version": "1.2.0",
      "_view_name": "LayoutView",
      "align_content": null,
      "align_items": null,
      "align_self": null,
      "border": null,
      "bottom": null,
      "display": null,
      "flex": null,
      "flex_flow": null,
      "grid_area": null,
      "grid_auto_columns": null,
      "grid_auto_flow": null,
      "grid_auto_rows": null,
      "grid_column": null,
      "grid_gap": null,
      "grid_row": null,
      "grid_template_areas": null,
      "grid_template_columns": null,
      "grid_template_rows": null,
      "height": null,
      "justify_content": null,
      "justify_items": null,
      "left": null,
      "margin": null,
      "max_height": null,
      "max_width": null,
      "min_height": null,
      "min_width": null,
      "object_fit": null,
      "object_position": null,
      "order": null,
      "overflow": null,
      "overflow_x": null,
      "overflow_y": null,
      "padding": null,
      "right": null,
      "top": null,
      "visibility": null,
      "width": null
     }
    }
   }
  }
 },
 "nbformat": 4,
 "nbformat_minor": 1
}
